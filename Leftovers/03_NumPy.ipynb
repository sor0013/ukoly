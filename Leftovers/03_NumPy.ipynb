{
    "cells": [
        {
            "attachments": {},
            "cell_type": "markdown",
            "metadata": {},
            "source": [
                "[NumPy](http://www.numpy.org) je základní Python knihovna pro práci s numerickými daty, konkrétně s 1- až n-rozměrnými maticemi. Implementace (pro CPython) je z velké části napsána v C a Fortranu a používá BLAS knihovny. Numpy tak umožňuje pracovat s numerickými daty ve stylu Python kontejnerů (existují samozřejmě rozdíly) a zároveň zachovat rychlost kompilovaných jazyků.\n",
                "\n",
                "V této lekci projdeme:\n",
                "- Co je to `numpy` ndarray?\n",
                "- Vytváření `numpy` polí.\n",
                "- Indexování a slicing `numpy` polí.\n",
                "- Co je to `numpy` array view?\n",
                "- Broadcasting.\n",
                "- Elementwise operace.\n",
                "- Maticové operace."
            ]
        },
        {
            "attachments": {},
            "cell_type": "markdown",
            "metadata": {},
            "source": [
                "Tento notebook s úctou vykrádá:  [Lectures on scientific computing with Python](http://github.com/jrjohansson/scientific-python-lectures) a [numerical_python_course](https://gitlab.com/coobas/numerical_python_course)"
            ]
        },
        {
            "attachments": {},
            "cell_type": "markdown",
            "metadata": {},
            "source": [
                "# Importujeme numpy\n",
                "\n",
                "Chceme-li použít `numpy`, je samozřejmě nutné modul importovat. Obvykle se použivá zkratka `np`: \n"
            ]
        },
        {
            "cell_type": "code",
            "execution_count": 2,
            "metadata": {
                "jupyter": {
                    "outputs_hidden": false
                }
            },
            "outputs": [],
            "source": [
                "import numpy as np\n"
            ]
        },
        {
            "attachments": {},
            "cell_type": "markdown",
            "metadata": {},
            "source": [
                "## Proč NumPy?\n",
                "\n",
                "* Python seznamy jsou příliš obecné. Mohou obsahovat jakýkoliv druh objektu. Jsou dynamicky typované. Nepodporují matematické funkce, jako maticové násobení. \n",
                "\n",
                "* NumPy pole jsou staticky typovaná a homogenní. Typ prvků je určen při vytvoření pole.\n",
                "* NumPy pole jsou efektivně uložena v paměti.\n",
                "* Díky těmto vlastnostem lze implementovat matematické operace, jako je násobení nebo sčítání, v rychlém, kompilovaném jazyce (C/Fortran)."
            ]
        },
        {
            "attachments": {},
            "cell_type": "markdown",
            "metadata": {},
            "source": [
                "# `NumPy` pole: `ndarray`\n",
                "\n",
                "`ndarray` je základní datový typ v `numpy`. Jedná se o n-rozměrné pole (vektor, matice, tensor) se záznamy stejného typu (typicky) čísly (integers, floats, complex numbers)."
            ]
        },
        {
            "cell_type": "code",
            "execution_count": 11,
            "metadata": {},
            "outputs": [
                {
                    "name": "stdout",
                    "output_type": "stream",
                    "text": [
                        "Help on class ndarray in module numpy:\n",
                        "\n",
                        "class ndarray(builtins.object)\n",
                        " |  ndarray(shape, dtype=float, buffer=None, offset=0,\n",
                        " |          strides=None, order=None)\n",
                        " |  \n",
                        " |  An array object represents a multidimensional, homogeneous array\n",
                        " |  of fixed-size items.  An associated data-type object describes the\n",
                        " |  format of each element in the array (its byte-order, how many bytes it\n",
                        " |  occupies in memory, whether it is an integer, a floating point number,\n",
                        " |  or something else, etc.)\n",
                        " |  \n",
                        " |  Arrays should be constructed using `array`, `zeros` or `empty` (refer\n",
                        " |  to the See Also section below).  The parameters given here refer to\n",
                        " |  a low-level method (`ndarray(...)`) for instantiating an array.\n",
                        " |  \n",
                        " |  For more information, refer to the `numpy` module and examine the\n",
                        " |  methods and attributes of an array.\n",
                        " |  \n",
                        " |  Parameters\n",
                        " |  ----------\n",
                        " |  (for the __new__ method; see Notes below)\n",
                        " |  \n",
                        " |  shape : tuple of ints\n",
                        " |      Shape of created array.\n",
                        " |  dtype : data-type, optional\n",
                        " |      Any object that can be interpreted as a numpy data type.\n",
                        " |  buffer : object exposing buffer interface, optional\n",
                        " |      Used to fill the array with data.\n",
                        " |  offset : int, optional\n",
                        " |      Offset of array data in buffer.\n",
                        " |  strides : tuple of ints, optional\n",
                        " |      Strides of data in memory.\n",
                        " |  order : {'C', 'F'}, optional\n",
                        " |      Row-major (C-style) or column-major (Fortran-style) order.\n",
                        " |  \n",
                        " |  Attributes\n",
                        " |  ----------\n",
                        " |  T : ndarray\n",
                        " |      Transpose of the array.\n",
                        " |  data : buffer\n",
                        " |      The array's elements, in memory.\n",
                        " |  dtype : dtype object\n",
                        " |      Describes the format of the elements in the array.\n",
                        " |  flags : dict\n",
                        " |      Dictionary containing information related to memory use, e.g.,\n",
                        " |      'C_CONTIGUOUS', 'OWNDATA', 'WRITEABLE', etc.\n",
                        " |  flat : numpy.flatiter object\n",
                        " |      Flattened version of the array as an iterator.  The iterator\n",
                        " |      allows assignments, e.g., ``x.flat = 3`` (See `ndarray.flat` for\n",
                        " |      assignment examples; TODO).\n",
                        " |  imag : ndarray\n",
                        " |      Imaginary part of the array.\n",
                        " |  real : ndarray\n",
                        " |      Real part of the array.\n",
                        " |  size : int\n",
                        " |      Number of elements in the array.\n",
                        " |  itemsize : int\n",
                        " |      The memory use of each array element in bytes.\n",
                        " |  nbytes : int\n",
                        " |      The total number of bytes required to store the array data,\n",
                        " |      i.e., ``itemsize * size``.\n",
                        " |  ndim : int\n",
                        " |      The array's number of dimensions.\n",
                        " |  shape : tuple of ints\n",
                        " |      Shape of the array.\n",
                        " |  strides : tuple of ints\n",
                        " |      The step-size required to move from one element to the next in\n",
                        " |      memory. For example, a contiguous ``(3, 4)`` array of type\n",
                        " |      ``int16`` in C-order has strides ``(8, 2)``.  This implies that\n",
                        " |      to move from element to element in memory requires jumps of 2 bytes.\n",
                        " |      To move from row-to-row, one needs to jump 8 bytes at a time\n",
                        " |      (``2 * 4``).\n",
                        " |  ctypes : ctypes object\n",
                        " |      Class containing properties of the array needed for interaction\n",
                        " |      with ctypes.\n",
                        " |  base : ndarray\n",
                        " |      If the array is a view into another array, that array is its `base`\n",
                        " |      (unless that array is also a view).  The `base` array is where the\n",
                        " |      array data is actually stored.\n",
                        " |  \n",
                        " |  See Also\n",
                        " |  --------\n",
                        " |  array : Construct an array.\n",
                        " |  zeros : Create an array, each element of which is zero.\n",
                        " |  empty : Create an array, but leave its allocated memory unchanged (i.e.,\n",
                        " |          it contains \"garbage\").\n",
                        " |  dtype : Create a data-type.\n",
                        " |  numpy.typing.NDArray : An ndarray alias :term:`generic <generic type>`\n",
                        " |                         w.r.t. its `dtype.type <numpy.dtype.type>`.\n",
                        " |  \n",
                        " |  Notes\n",
                        " |  -----\n",
                        " |  There are two modes of creating an array using ``__new__``:\n",
                        " |  \n",
                        " |  1. If `buffer` is None, then only `shape`, `dtype`, and `order`\n",
                        " |     are used.\n",
                        " |  2. If `buffer` is an object exposing the buffer interface, then\n",
                        " |     all keywords are interpreted.\n",
                        " |  \n",
                        " |  No ``__init__`` method is needed because the array is fully initialized\n",
                        " |  after the ``__new__`` method.\n",
                        " |  \n",
                        " |  Examples\n",
                        " |  --------\n",
                        " |  These examples illustrate the low-level `ndarray` constructor.  Refer\n",
                        " |  to the `See Also` section above for easier ways of constructing an\n",
                        " |  ndarray.\n",
                        " |  \n",
                        " |  First mode, `buffer` is None:\n",
                        " |  \n",
                        " |  >>> np.ndarray(shape=(2,2), dtype=float, order='F')\n",
                        " |  array([[0.0e+000, 0.0e+000], # random\n",
                        " |         [     nan, 2.5e-323]])\n",
                        " |  \n",
                        " |  Second mode:\n",
                        " |  \n",
                        " |  >>> np.ndarray((2,), buffer=np.array([1,2,3]),\n",
                        " |  ...            offset=np.int_().itemsize,\n",
                        " |  ...            dtype=int) # offset = 1*itemsize, i.e. skip first element\n",
                        " |  array([2, 3])\n",
                        " |  \n",
                        " |  Methods defined here:\n",
                        " |  \n",
                        " |  __abs__(self, /)\n",
                        " |      abs(self)\n",
                        " |  \n",
                        " |  __add__(self, value, /)\n",
                        " |      Return self+value.\n",
                        " |  \n",
                        " |  __and__(self, value, /)\n",
                        " |      Return self&value.\n",
                        " |  \n",
                        " |  __array__(...)\n",
                        " |      a.__array__([dtype], /) -> reference if type unchanged, copy otherwise.\n",
                        " |      \n",
                        " |      Returns either a new reference to self if dtype is not given or a new array\n",
                        " |      of provided data type if dtype is different from the current dtype of the\n",
                        " |      array.\n",
                        " |  \n",
                        " |  __array_finalize__(...)\n",
                        " |      a.__array_finalize__(obj, /)\n",
                        " |      \n",
                        " |      Present so subclasses can call super. Does nothing.\n",
                        " |  \n",
                        " |  __array_function__(...)\n",
                        " |  \n",
                        " |  __array_prepare__(...)\n",
                        " |      a.__array_prepare__(array[, context], /)\n",
                        " |      \n",
                        " |      Returns a view of `array` with the same type as self.\n",
                        " |  \n",
                        " |  __array_ufunc__(...)\n",
                        " |  \n",
                        " |  __array_wrap__(...)\n",
                        " |      a.__array_wrap__(array[, context], /)\n",
                        " |      \n",
                        " |      Returns a view of `array` with the same type as self.\n",
                        " |  \n",
                        " |  __bool__(self, /)\n",
                        " |      True if self else False\n",
                        " |  \n",
                        " |  __complex__(...)\n",
                        " |  \n",
                        " |  __contains__(self, key, /)\n",
                        " |      Return key in self.\n",
                        " |  \n",
                        " |  __copy__(...)\n",
                        " |      a.__copy__()\n",
                        " |      \n",
                        " |      Used if :func:`copy.copy` is called on an array. Returns a copy of the array.\n",
                        " |      \n",
                        " |      Equivalent to ``a.copy(order='K')``.\n",
                        " |  \n",
                        " |  __deepcopy__(...)\n",
                        " |      a.__deepcopy__(memo, /) -> Deep copy of array.\n",
                        " |      \n",
                        " |      Used if :func:`copy.deepcopy` is called on an array.\n",
                        " |  \n",
                        " |  __delitem__(self, key, /)\n",
                        " |      Delete self[key].\n",
                        " |  \n",
                        " |  __divmod__(self, value, /)\n",
                        " |      Return divmod(self, value).\n",
                        " |  \n",
                        " |  __dlpack__(...)\n",
                        " |      a.__dlpack__(*, stream=None)\n",
                        " |      \n",
                        " |      DLPack Protocol: Part of the Array API.\n",
                        " |  \n",
                        " |  __dlpack_device__(...)\n",
                        " |      a.__dlpack_device__()\n",
                        " |      \n",
                        " |      DLPack Protocol: Part of the Array API.\n",
                        " |  \n",
                        " |  __eq__(self, value, /)\n",
                        " |      Return self==value.\n",
                        " |  \n",
                        " |  __float__(self, /)\n",
                        " |      float(self)\n",
                        " |  \n",
                        " |  __floordiv__(self, value, /)\n",
                        " |      Return self//value.\n",
                        " |  \n",
                        " |  __format__(...)\n",
                        " |      Default object formatter.\n",
                        " |  \n",
                        " |  __ge__(self, value, /)\n",
                        " |      Return self>=value.\n",
                        " |  \n",
                        " |  __getitem__(self, key, /)\n",
                        " |      Return self[key].\n",
                        " |  \n",
                        " |  __gt__(self, value, /)\n",
                        " |      Return self>value.\n",
                        " |  \n",
                        " |  __iadd__(self, value, /)\n",
                        " |      Return self+=value.\n",
                        " |  \n",
                        " |  __iand__(self, value, /)\n",
                        " |      Return self&=value.\n",
                        " |  \n",
                        " |  __ifloordiv__(self, value, /)\n",
                        " |      Return self//=value.\n",
                        " |  \n",
                        " |  __ilshift__(self, value, /)\n",
                        " |      Return self<<=value.\n",
                        " |  \n",
                        " |  __imatmul__(self, value, /)\n",
                        " |      Return self@=value.\n",
                        " |  \n",
                        " |  __imod__(self, value, /)\n",
                        " |      Return self%=value.\n",
                        " |  \n",
                        " |  __imul__(self, value, /)\n",
                        " |      Return self*=value.\n",
                        " |  \n",
                        " |  __index__(self, /)\n",
                        " |      Return self converted to an integer, if self is suitable for use as an index into a list.\n",
                        " |  \n",
                        " |  __int__(self, /)\n",
                        " |      int(self)\n",
                        " |  \n",
                        " |  __invert__(self, /)\n",
                        " |      ~self\n",
                        " |  \n",
                        " |  __ior__(self, value, /)\n",
                        " |      Return self|=value.\n",
                        " |  \n",
                        " |  __ipow__(self, value, /)\n",
                        " |      Return self**=value.\n",
                        " |  \n",
                        " |  __irshift__(self, value, /)\n",
                        " |      Return self>>=value.\n",
                        " |  \n",
                        " |  __isub__(self, value, /)\n",
                        " |      Return self-=value.\n",
                        " |  \n",
                        " |  __iter__(self, /)\n",
                        " |      Implement iter(self).\n",
                        " |  \n",
                        " |  __itruediv__(self, value, /)\n",
                        " |      Return self/=value.\n",
                        " |  \n",
                        " |  __ixor__(self, value, /)\n",
                        " |      Return self^=value.\n",
                        " |  \n",
                        " |  __le__(self, value, /)\n",
                        " |      Return self<=value.\n",
                        " |  \n",
                        " |  __len__(self, /)\n",
                        " |      Return len(self).\n",
                        " |  \n",
                        " |  __lshift__(self, value, /)\n",
                        " |      Return self<<value.\n",
                        " |  \n",
                        " |  __lt__(self, value, /)\n",
                        " |      Return self<value.\n",
                        " |  \n",
                        " |  __matmul__(self, value, /)\n",
                        " |      Return self@value.\n",
                        " |  \n",
                        " |  __mod__(self, value, /)\n",
                        " |      Return self%value.\n",
                        " |  \n",
                        " |  __mul__(self, value, /)\n",
                        " |      Return self*value.\n",
                        " |  \n",
                        " |  __ne__(self, value, /)\n",
                        " |      Return self!=value.\n",
                        " |  \n",
                        " |  __neg__(self, /)\n",
                        " |      -self\n",
                        " |  \n",
                        " |  __or__(self, value, /)\n",
                        " |      Return self|value.\n",
                        " |  \n",
                        " |  __pos__(self, /)\n",
                        " |      +self\n",
                        " |  \n",
                        " |  __pow__(self, value, mod=None, /)\n",
                        " |      Return pow(self, value, mod).\n",
                        " |  \n",
                        " |  __radd__(self, value, /)\n",
                        " |      Return value+self.\n",
                        " |  \n",
                        " |  __rand__(self, value, /)\n",
                        " |      Return value&self.\n",
                        " |  \n",
                        " |  __rdivmod__(self, value, /)\n",
                        " |      Return divmod(value, self).\n",
                        " |  \n",
                        " |  __reduce__(...)\n",
                        " |      a.__reduce__()\n",
                        " |      \n",
                        " |      For pickling.\n",
                        " |  \n",
                        " |  __reduce_ex__(...)\n",
                        " |      Helper for pickle.\n",
                        " |  \n",
                        " |  __repr__(self, /)\n",
                        " |      Return repr(self).\n",
                        " |  \n",
                        " |  __rfloordiv__(self, value, /)\n",
                        " |      Return value//self.\n",
                        " |  \n",
                        " |  __rlshift__(self, value, /)\n",
                        " |      Return value<<self.\n",
                        " |  \n",
                        " |  __rmatmul__(self, value, /)\n",
                        " |      Return value@self.\n",
                        " |  \n",
                        " |  __rmod__(self, value, /)\n",
                        " |      Return value%self.\n",
                        " |  \n",
                        " |  __rmul__(self, value, /)\n",
                        " |      Return value*self.\n",
                        " |  \n",
                        " |  __ror__(self, value, /)\n",
                        " |      Return value|self.\n",
                        " |  \n",
                        " |  __rpow__(self, value, mod=None, /)\n",
                        " |      Return pow(value, self, mod).\n",
                        " |  \n",
                        " |  __rrshift__(self, value, /)\n",
                        " |      Return value>>self.\n",
                        " |  \n",
                        " |  __rshift__(self, value, /)\n",
                        " |      Return self>>value.\n",
                        " |  \n",
                        " |  __rsub__(self, value, /)\n",
                        " |      Return value-self.\n",
                        " |  \n",
                        " |  __rtruediv__(self, value, /)\n",
                        " |      Return value/self.\n",
                        " |  \n",
                        " |  __rxor__(self, value, /)\n",
                        " |      Return value^self.\n",
                        " |  \n",
                        " |  __setitem__(self, key, value, /)\n",
                        " |      Set self[key] to value.\n",
                        " |  \n",
                        " |  __setstate__(...)\n",
                        " |      a.__setstate__(state, /)\n",
                        " |      \n",
                        " |      For unpickling.\n",
                        " |      \n",
                        " |      The `state` argument must be a sequence that contains the following\n",
                        " |      elements:\n",
                        " |      \n",
                        " |      Parameters\n",
                        " |      ----------\n",
                        " |      version : int\n",
                        " |          optional pickle version. If omitted defaults to 0.\n",
                        " |      shape : tuple\n",
                        " |      dtype : data-type\n",
                        " |      isFortran : bool\n",
                        " |      rawdata : string or list\n",
                        " |          a binary string with the data (or a list if 'a' is an object array)\n",
                        " |  \n",
                        " |  __sizeof__(...)\n",
                        " |      Size of object in memory, in bytes.\n",
                        " |  \n",
                        " |  __str__(self, /)\n",
                        " |      Return str(self).\n",
                        " |  \n",
                        " |  __sub__(self, value, /)\n",
                        " |      Return self-value.\n",
                        " |  \n",
                        " |  __truediv__(self, value, /)\n",
                        " |      Return self/value.\n",
                        " |  \n",
                        " |  __xor__(self, value, /)\n",
                        " |      Return self^value.\n",
                        " |  \n",
                        " |  all(...)\n",
                        " |      a.all(axis=None, out=None, keepdims=False, *, where=True)\n",
                        " |      \n",
                        " |      Returns True if all elements evaluate to True.\n",
                        " |      \n",
                        " |      Refer to `numpy.all` for full documentation.\n",
                        " |      \n",
                        " |      See Also\n",
                        " |      --------\n",
                        " |      numpy.all : equivalent function\n",
                        " |  \n",
                        " |  any(...)\n",
                        " |      a.any(axis=None, out=None, keepdims=False, *, where=True)\n",
                        " |      \n",
                        " |      Returns True if any of the elements of `a` evaluate to True.\n",
                        " |      \n",
                        " |      Refer to `numpy.any` for full documentation.\n",
                        " |      \n",
                        " |      See Also\n",
                        " |      --------\n",
                        " |      numpy.any : equivalent function\n",
                        " |  \n",
                        " |  argmax(...)\n",
                        " |      a.argmax(axis=None, out=None, *, keepdims=False)\n",
                        " |      \n",
                        " |      Return indices of the maximum values along the given axis.\n",
                        " |      \n",
                        " |      Refer to `numpy.argmax` for full documentation.\n",
                        " |      \n",
                        " |      See Also\n",
                        " |      --------\n",
                        " |      numpy.argmax : equivalent function\n",
                        " |  \n",
                        " |  argmin(...)\n",
                        " |      a.argmin(axis=None, out=None, *, keepdims=False)\n",
                        " |      \n",
                        " |      Return indices of the minimum values along the given axis.\n",
                        " |      \n",
                        " |      Refer to `numpy.argmin` for detailed documentation.\n",
                        " |      \n",
                        " |      See Also\n",
                        " |      --------\n",
                        " |      numpy.argmin : equivalent function\n",
                        " |  \n",
                        " |  argpartition(...)\n",
                        " |      a.argpartition(kth, axis=-1, kind='introselect', order=None)\n",
                        " |      \n",
                        " |      Returns the indices that would partition this array.\n",
                        " |      \n",
                        " |      Refer to `numpy.argpartition` for full documentation.\n",
                        " |      \n",
                        " |      .. versionadded:: 1.8.0\n",
                        " |      \n",
                        " |      See Also\n",
                        " |      --------\n",
                        " |      numpy.argpartition : equivalent function\n",
                        " |  \n",
                        " |  argsort(...)\n",
                        " |      a.argsort(axis=-1, kind=None, order=None)\n",
                        " |      \n",
                        " |      Returns the indices that would sort this array.\n",
                        " |      \n",
                        " |      Refer to `numpy.argsort` for full documentation.\n",
                        " |      \n",
                        " |      See Also\n",
                        " |      --------\n",
                        " |      numpy.argsort : equivalent function\n",
                        " |  \n",
                        " |  astype(...)\n",
                        " |      a.astype(dtype, order='K', casting='unsafe', subok=True, copy=True)\n",
                        " |      \n",
                        " |      Copy of the array, cast to a specified type.\n",
                        " |      \n",
                        " |      Parameters\n",
                        " |      ----------\n",
                        " |      dtype : str or dtype\n",
                        " |          Typecode or data-type to which the array is cast.\n",
                        " |      order : {'C', 'F', 'A', 'K'}, optional\n",
                        " |          Controls the memory layout order of the result.\n",
                        " |          'C' means C order, 'F' means Fortran order, 'A'\n",
                        " |          means 'F' order if all the arrays are Fortran contiguous,\n",
                        " |          'C' order otherwise, and 'K' means as close to the\n",
                        " |          order the array elements appear in memory as possible.\n",
                        " |          Default is 'K'.\n",
                        " |      casting : {'no', 'equiv', 'safe', 'same_kind', 'unsafe'}, optional\n",
                        " |          Controls what kind of data casting may occur. Defaults to 'unsafe'\n",
                        " |          for backwards compatibility.\n",
                        " |      \n",
                        " |            * 'no' means the data types should not be cast at all.\n",
                        " |            * 'equiv' means only byte-order changes are allowed.\n",
                        " |            * 'safe' means only casts which can preserve values are allowed.\n",
                        " |            * 'same_kind' means only safe casts or casts within a kind,\n",
                        " |              like float64 to float32, are allowed.\n",
                        " |            * 'unsafe' means any data conversions may be done.\n",
                        " |      subok : bool, optional\n",
                        " |          If True, then sub-classes will be passed-through (default), otherwise\n",
                        " |          the returned array will be forced to be a base-class array.\n",
                        " |      copy : bool, optional\n",
                        " |          By default, astype always returns a newly allocated array. If this\n",
                        " |          is set to false, and the `dtype`, `order`, and `subok`\n",
                        " |          requirements are satisfied, the input array is returned instead\n",
                        " |          of a copy.\n",
                        " |      \n",
                        " |      Returns\n",
                        " |      -------\n",
                        " |      arr_t : ndarray\n",
                        " |          Unless `copy` is False and the other conditions for returning the input\n",
                        " |          array are satisfied (see description for `copy` input parameter), `arr_t`\n",
                        " |          is a new array of the same shape as the input array, with dtype, order\n",
                        " |          given by `dtype`, `order`.\n",
                        " |      \n",
                        " |      Notes\n",
                        " |      -----\n",
                        " |      .. versionchanged:: 1.17.0\n",
                        " |         Casting between a simple data type and a structured one is possible only\n",
                        " |         for \"unsafe\" casting.  Casting to multiple fields is allowed, but\n",
                        " |         casting from multiple fields is not.\n",
                        " |      \n",
                        " |      .. versionchanged:: 1.9.0\n",
                        " |         Casting from numeric to string types in 'safe' casting mode requires\n",
                        " |         that the string dtype length is long enough to store the max\n",
                        " |         integer/float value converted.\n",
                        " |      \n",
                        " |      Raises\n",
                        " |      ------\n",
                        " |      ComplexWarning\n",
                        " |          When casting from complex to float or int. To avoid this,\n",
                        " |          one should use ``a.real.astype(t)``.\n",
                        " |      \n",
                        " |      Examples\n",
                        " |      --------\n",
                        " |      >>> x = np.array([1, 2, 2.5])\n",
                        " |      >>> x\n",
                        " |      array([1. ,  2. ,  2.5])\n",
                        " |      \n",
                        " |      >>> x.astype(int)\n",
                        " |      array([1, 2, 2])\n",
                        " |  \n",
                        " |  byteswap(...)\n",
                        " |      a.byteswap(inplace=False)\n",
                        " |      \n",
                        " |      Swap the bytes of the array elements\n",
                        " |      \n",
                        " |      Toggle between low-endian and big-endian data representation by\n",
                        " |      returning a byteswapped array, optionally swapped in-place.\n",
                        " |      Arrays of byte-strings are not swapped. The real and imaginary\n",
                        " |      parts of a complex number are swapped individually.\n",
                        " |      \n",
                        " |      Parameters\n",
                        " |      ----------\n",
                        " |      inplace : bool, optional\n",
                        " |          If ``True``, swap bytes in-place, default is ``False``.\n",
                        " |      \n",
                        " |      Returns\n",
                        " |      -------\n",
                        " |      out : ndarray\n",
                        " |          The byteswapped array. If `inplace` is ``True``, this is\n",
                        " |          a view to self.\n",
                        " |      \n",
                        " |      Examples\n",
                        " |      --------\n",
                        " |      >>> A = np.array([1, 256, 8755], dtype=np.int16)\n",
                        " |      >>> list(map(hex, A))\n",
                        " |      ['0x1', '0x100', '0x2233']\n",
                        " |      >>> A.byteswap(inplace=True)\n",
                        " |      array([  256,     1, 13090], dtype=int16)\n",
                        " |      >>> list(map(hex, A))\n",
                        " |      ['0x100', '0x1', '0x3322']\n",
                        " |      \n",
                        " |      Arrays of byte-strings are not swapped\n",
                        " |      \n",
                        " |      >>> A = np.array([b'ceg', b'fac'])\n",
                        " |      >>> A.byteswap()\n",
                        " |      array([b'ceg', b'fac'], dtype='|S3')\n",
                        " |      \n",
                        " |      ``A.newbyteorder().byteswap()`` produces an array with the same values\n",
                        " |        but different representation in memory\n",
                        " |      \n",
                        " |      >>> A = np.array([1, 2, 3])\n",
                        " |      >>> A.view(np.uint8)\n",
                        " |      array([1, 0, 0, 0, 0, 0, 0, 0, 2, 0, 0, 0, 0, 0, 0, 0, 3, 0, 0, 0, 0, 0,\n",
                        " |             0, 0], dtype=uint8)\n",
                        " |      >>> A.newbyteorder().byteswap(inplace=True)\n",
                        " |      array([1, 2, 3])\n",
                        " |      >>> A.view(np.uint8)\n",
                        " |      array([0, 0, 0, 0, 0, 0, 0, 1, 0, 0, 0, 0, 0, 0, 0, 2, 0, 0, 0, 0, 0, 0,\n",
                        " |             0, 3], dtype=uint8)\n",
                        " |  \n",
                        " |  choose(...)\n",
                        " |      a.choose(choices, out=None, mode='raise')\n",
                        " |      \n",
                        " |      Use an index array to construct a new array from a set of choices.\n",
                        " |      \n",
                        " |      Refer to `numpy.choose` for full documentation.\n",
                        " |      \n",
                        " |      See Also\n",
                        " |      --------\n",
                        " |      numpy.choose : equivalent function\n",
                        " |  \n",
                        " |  clip(...)\n",
                        " |      a.clip(min=None, max=None, out=None, **kwargs)\n",
                        " |      \n",
                        " |      Return an array whose values are limited to ``[min, max]``.\n",
                        " |      One of max or min must be given.\n",
                        " |      \n",
                        " |      Refer to `numpy.clip` for full documentation.\n",
                        " |      \n",
                        " |      See Also\n",
                        " |      --------\n",
                        " |      numpy.clip : equivalent function\n",
                        " |  \n",
                        " |  compress(...)\n",
                        " |      a.compress(condition, axis=None, out=None)\n",
                        " |      \n",
                        " |      Return selected slices of this array along given axis.\n",
                        " |      \n",
                        " |      Refer to `numpy.compress` for full documentation.\n",
                        " |      \n",
                        " |      See Also\n",
                        " |      --------\n",
                        " |      numpy.compress : equivalent function\n",
                        " |  \n",
                        " |  conj(...)\n",
                        " |      a.conj()\n",
                        " |      \n",
                        " |      Complex-conjugate all elements.\n",
                        " |      \n",
                        " |      Refer to `numpy.conjugate` for full documentation.\n",
                        " |      \n",
                        " |      See Also\n",
                        " |      --------\n",
                        " |      numpy.conjugate : equivalent function\n",
                        " |  \n",
                        " |  conjugate(...)\n",
                        " |      a.conjugate()\n",
                        " |      \n",
                        " |      Return the complex conjugate, element-wise.\n",
                        " |      \n",
                        " |      Refer to `numpy.conjugate` for full documentation.\n",
                        " |      \n",
                        " |      See Also\n",
                        " |      --------\n",
                        " |      numpy.conjugate : equivalent function\n",
                        " |  \n",
                        " |  copy(...)\n",
                        " |      a.copy(order='C')\n",
                        " |      \n",
                        " |      Return a copy of the array.\n",
                        " |      \n",
                        " |      Parameters\n",
                        " |      ----------\n",
                        " |      order : {'C', 'F', 'A', 'K'}, optional\n",
                        " |          Controls the memory layout of the copy. 'C' means C-order,\n",
                        " |          'F' means F-order, 'A' means 'F' if `a` is Fortran contiguous,\n",
                        " |          'C' otherwise. 'K' means match the layout of `a` as closely\n",
                        " |          as possible. (Note that this function and :func:`numpy.copy` are very\n",
                        " |          similar but have different default values for their order=\n",
                        " |          arguments, and this function always passes sub-classes through.)\n",
                        " |      \n",
                        " |      See also\n",
                        " |      --------\n",
                        " |      numpy.copy : Similar function with different default behavior\n",
                        " |      numpy.copyto\n",
                        " |      \n",
                        " |      Notes\n",
                        " |      -----\n",
                        " |      This function is the preferred method for creating an array copy.  The\n",
                        " |      function :func:`numpy.copy` is similar, but it defaults to using order 'K',\n",
                        " |      and will not pass sub-classes through by default.\n",
                        " |      \n",
                        " |      Examples\n",
                        " |      --------\n",
                        " |      >>> x = np.array([[1,2,3],[4,5,6]], order='F')\n",
                        " |      \n",
                        " |      >>> y = x.copy()\n",
                        " |      \n",
                        " |      >>> x.fill(0)\n",
                        " |      \n",
                        " |      >>> x\n",
                        " |      array([[0, 0, 0],\n",
                        " |             [0, 0, 0]])\n",
                        " |      \n",
                        " |      >>> y\n",
                        " |      array([[1, 2, 3],\n",
                        " |             [4, 5, 6]])\n",
                        " |      \n",
                        " |      >>> y.flags['C_CONTIGUOUS']\n",
                        " |      True\n",
                        " |  \n",
                        " |  cumprod(...)\n",
                        " |      a.cumprod(axis=None, dtype=None, out=None)\n",
                        " |      \n",
                        " |      Return the cumulative product of the elements along the given axis.\n",
                        " |      \n",
                        " |      Refer to `numpy.cumprod` for full documentation.\n",
                        " |      \n",
                        " |      See Also\n",
                        " |      --------\n",
                        " |      numpy.cumprod : equivalent function\n",
                        " |  \n",
                        " |  cumsum(...)\n",
                        " |      a.cumsum(axis=None, dtype=None, out=None)\n",
                        " |      \n",
                        " |      Return the cumulative sum of the elements along the given axis.\n",
                        " |      \n",
                        " |      Refer to `numpy.cumsum` for full documentation.\n",
                        " |      \n",
                        " |      See Also\n",
                        " |      --------\n",
                        " |      numpy.cumsum : equivalent function\n",
                        " |  \n",
                        " |  diagonal(...)\n",
                        " |      a.diagonal(offset=0, axis1=0, axis2=1)\n",
                        " |      \n",
                        " |      Return specified diagonals. In NumPy 1.9 the returned array is a\n",
                        " |      read-only view instead of a copy as in previous NumPy versions.  In\n",
                        " |      a future version the read-only restriction will be removed.\n",
                        " |      \n",
                        " |      Refer to :func:`numpy.diagonal` for full documentation.\n",
                        " |      \n",
                        " |      See Also\n",
                        " |      --------\n",
                        " |      numpy.diagonal : equivalent function\n",
                        " |  \n",
                        " |  dot(...)\n",
                        " |  \n",
                        " |  dump(...)\n",
                        " |      a.dump(file)\n",
                        " |      \n",
                        " |      Dump a pickle of the array to the specified file.\n",
                        " |      The array can be read back with pickle.load or numpy.load.\n",
                        " |      \n",
                        " |      Parameters\n",
                        " |      ----------\n",
                        " |      file : str or Path\n",
                        " |          A string naming the dump file.\n",
                        " |      \n",
                        " |          .. versionchanged:: 1.17.0\n",
                        " |              `pathlib.Path` objects are now accepted.\n",
                        " |  \n",
                        " |  dumps(...)\n",
                        " |      a.dumps()\n",
                        " |      \n",
                        " |      Returns the pickle of the array as a string.\n",
                        " |      pickle.loads will convert the string back to an array.\n",
                        " |      \n",
                        " |      Parameters\n",
                        " |      ----------\n",
                        " |      None\n",
                        " |  \n",
                        " |  fill(...)\n",
                        " |      a.fill(value)\n",
                        " |      \n",
                        " |      Fill the array with a scalar value.\n",
                        " |      \n",
                        " |      Parameters\n",
                        " |      ----------\n",
                        " |      value : scalar\n",
                        " |          All elements of `a` will be assigned this value.\n",
                        " |      \n",
                        " |      Examples\n",
                        " |      --------\n",
                        " |      >>> a = np.array([1, 2])\n",
                        " |      >>> a.fill(0)\n",
                        " |      >>> a\n",
                        " |      array([0, 0])\n",
                        " |      >>> a = np.empty(2)\n",
                        " |      >>> a.fill(1)\n",
                        " |      >>> a\n",
                        " |      array([1.,  1.])\n",
                        " |      \n",
                        " |      Fill expects a scalar value and always behaves the same as assigning\n",
                        " |      to a single array element.  The following is a rare example where this\n",
                        " |      distinction is important:\n",
                        " |      \n",
                        " |      >>> a = np.array([None, None], dtype=object)\n",
                        " |      >>> a[0] = np.array(3)\n",
                        " |      >>> a\n",
                        " |      array([array(3), None], dtype=object)\n",
                        " |      >>> a.fill(np.array(3))\n",
                        " |      >>> a\n",
                        " |      array([array(3), array(3)], dtype=object)\n",
                        " |      \n",
                        " |      Where other forms of assignments will unpack the array being assigned:\n",
                        " |      \n",
                        " |      >>> a[...] = np.array(3)\n",
                        " |      >>> a\n",
                        " |      array([3, 3], dtype=object)\n",
                        " |  \n",
                        " |  flatten(...)\n",
                        " |      a.flatten(order='C')\n",
                        " |      \n",
                        " |      Return a copy of the array collapsed into one dimension.\n",
                        " |      \n",
                        " |      Parameters\n",
                        " |      ----------\n",
                        " |      order : {'C', 'F', 'A', 'K'}, optional\n",
                        " |          'C' means to flatten in row-major (C-style) order.\n",
                        " |          'F' means to flatten in column-major (Fortran-\n",
                        " |          style) order. 'A' means to flatten in column-major\n",
                        " |          order if `a` is Fortran *contiguous* in memory,\n",
                        " |          row-major order otherwise. 'K' means to flatten\n",
                        " |          `a` in the order the elements occur in memory.\n",
                        " |          The default is 'C'.\n",
                        " |      \n",
                        " |      Returns\n",
                        " |      -------\n",
                        " |      y : ndarray\n",
                        " |          A copy of the input array, flattened to one dimension.\n",
                        " |      \n",
                        " |      See Also\n",
                        " |      --------\n",
                        " |      ravel : Return a flattened array.\n",
                        " |      flat : A 1-D flat iterator over the array.\n",
                        " |      \n",
                        " |      Examples\n",
                        " |      --------\n",
                        " |      >>> a = np.array([[1,2], [3,4]])\n",
                        " |      >>> a.flatten()\n",
                        " |      array([1, 2, 3, 4])\n",
                        " |      >>> a.flatten('F')\n",
                        " |      array([1, 3, 2, 4])\n",
                        " |  \n",
                        " |  getfield(...)\n",
                        " |      a.getfield(dtype, offset=0)\n",
                        " |      \n",
                        " |      Returns a field of the given array as a certain type.\n",
                        " |      \n",
                        " |      A field is a view of the array data with a given data-type. The values in\n",
                        " |      the view are determined by the given type and the offset into the current\n",
                        " |      array in bytes. The offset needs to be such that the view dtype fits in the\n",
                        " |      array dtype; for example an array of dtype complex128 has 16-byte elements.\n",
                        " |      If taking a view with a 32-bit integer (4 bytes), the offset needs to be\n",
                        " |      between 0 and 12 bytes.\n",
                        " |      \n",
                        " |      Parameters\n",
                        " |      ----------\n",
                        " |      dtype : str or dtype\n",
                        " |          The data type of the view. The dtype size of the view can not be larger\n",
                        " |          than that of the array itself.\n",
                        " |      offset : int\n",
                        " |          Number of bytes to skip before beginning the element view.\n",
                        " |      \n",
                        " |      Examples\n",
                        " |      --------\n",
                        " |      >>> x = np.diag([1.+1.j]*2)\n",
                        " |      >>> x[1, 1] = 2 + 4.j\n",
                        " |      >>> x\n",
                        " |      array([[1.+1.j,  0.+0.j],\n",
                        " |             [0.+0.j,  2.+4.j]])\n",
                        " |      >>> x.getfield(np.float64)\n",
                        " |      array([[1.,  0.],\n",
                        " |             [0.,  2.]])\n",
                        " |      \n",
                        " |      By choosing an offset of 8 bytes we can select the complex part of the\n",
                        " |      array for our view:\n",
                        " |      \n",
                        " |      >>> x.getfield(np.float64, offset=8)\n",
                        " |      array([[1.,  0.],\n",
                        " |             [0.,  4.]])\n",
                        " |  \n",
                        " |  item(...)\n",
                        " |      a.item(*args)\n",
                        " |      \n",
                        " |      Copy an element of an array to a standard Python scalar and return it.\n",
                        " |      \n",
                        " |      Parameters\n",
                        " |      ----------\n",
                        " |      \\*args : Arguments (variable number and type)\n",
                        " |      \n",
                        " |          * none: in this case, the method only works for arrays\n",
                        " |            with one element (`a.size == 1`), which element is\n",
                        " |            copied into a standard Python scalar object and returned.\n",
                        " |      \n",
                        " |          * int_type: this argument is interpreted as a flat index into\n",
                        " |            the array, specifying which element to copy and return.\n",
                        " |      \n",
                        " |          * tuple of int_types: functions as does a single int_type argument,\n",
                        " |            except that the argument is interpreted as an nd-index into the\n",
                        " |            array.\n",
                        " |      \n",
                        " |      Returns\n",
                        " |      -------\n",
                        " |      z : Standard Python scalar object\n",
                        " |          A copy of the specified element of the array as a suitable\n",
                        " |          Python scalar\n",
                        " |      \n",
                        " |      Notes\n",
                        " |      -----\n",
                        " |      When the data type of `a` is longdouble or clongdouble, item() returns\n",
                        " |      a scalar array object because there is no available Python scalar that\n",
                        " |      would not lose information. Void arrays return a buffer object for item(),\n",
                        " |      unless fields are defined, in which case a tuple is returned.\n",
                        " |      \n",
                        " |      `item` is very similar to a[args], except, instead of an array scalar,\n",
                        " |      a standard Python scalar is returned. This can be useful for speeding up\n",
                        " |      access to elements of the array and doing arithmetic on elements of the\n",
                        " |      array using Python's optimized math.\n",
                        " |      \n",
                        " |      Examples\n",
                        " |      --------\n",
                        " |      >>> np.random.seed(123)\n",
                        " |      >>> x = np.random.randint(9, size=(3, 3))\n",
                        " |      >>> x\n",
                        " |      array([[2, 2, 6],\n",
                        " |             [1, 3, 6],\n",
                        " |             [1, 0, 1]])\n",
                        " |      >>> x.item(3)\n",
                        " |      1\n",
                        " |      >>> x.item(7)\n",
                        " |      0\n",
                        " |      >>> x.item((0, 1))\n",
                        " |      2\n",
                        " |      >>> x.item((2, 2))\n",
                        " |      1\n",
                        " |  \n",
                        " |  itemset(...)\n",
                        " |      a.itemset(*args)\n",
                        " |      \n",
                        " |      Insert scalar into an array (scalar is cast to array's dtype, if possible)\n",
                        " |      \n",
                        " |      There must be at least 1 argument, and define the last argument\n",
                        " |      as *item*.  Then, ``a.itemset(*args)`` is equivalent to but faster\n",
                        " |      than ``a[args] = item``.  The item should be a scalar value and `args`\n",
                        " |      must select a single item in the array `a`.\n",
                        " |      \n",
                        " |      Parameters\n",
                        " |      ----------\n",
                        " |      \\*args : Arguments\n",
                        " |          If one argument: a scalar, only used in case `a` is of size 1.\n",
                        " |          If two arguments: the last argument is the value to be set\n",
                        " |          and must be a scalar, the first argument specifies a single array\n",
                        " |          element location. It is either an int or a tuple.\n",
                        " |      \n",
                        " |      Notes\n",
                        " |      -----\n",
                        " |      Compared to indexing syntax, `itemset` provides some speed increase\n",
                        " |      for placing a scalar into a particular location in an `ndarray`,\n",
                        " |      if you must do this.  However, generally this is discouraged:\n",
                        " |      among other problems, it complicates the appearance of the code.\n",
                        " |      Also, when using `itemset` (and `item`) inside a loop, be sure\n",
                        " |      to assign the methods to a local variable to avoid the attribute\n",
                        " |      look-up at each loop iteration.\n",
                        " |      \n",
                        " |      Examples\n",
                        " |      --------\n",
                        " |      >>> np.random.seed(123)\n",
                        " |      >>> x = np.random.randint(9, size=(3, 3))\n",
                        " |      >>> x\n",
                        " |      array([[2, 2, 6],\n",
                        " |             [1, 3, 6],\n",
                        " |             [1, 0, 1]])\n",
                        " |      >>> x.itemset(4, 0)\n",
                        " |      >>> x.itemset((2, 2), 9)\n",
                        " |      >>> x\n",
                        " |      array([[2, 2, 6],\n",
                        " |             [1, 0, 6],\n",
                        " |             [1, 0, 9]])\n",
                        " |  \n",
                        " |  max(...)\n",
                        " |      a.max(axis=None, out=None, keepdims=False, initial=<no value>, where=True)\n",
                        " |      \n",
                        " |      Return the maximum along a given axis.\n",
                        " |      \n",
                        " |      Refer to `numpy.amax` for full documentation.\n",
                        " |      \n",
                        " |      See Also\n",
                        " |      --------\n",
                        " |      numpy.amax : equivalent function\n",
                        " |  \n",
                        " |  mean(...)\n",
                        " |      a.mean(axis=None, dtype=None, out=None, keepdims=False, *, where=True)\n",
                        " |      \n",
                        " |      Returns the average of the array elements along given axis.\n",
                        " |      \n",
                        " |      Refer to `numpy.mean` for full documentation.\n",
                        " |      \n",
                        " |      See Also\n",
                        " |      --------\n",
                        " |      numpy.mean : equivalent function\n",
                        " |  \n",
                        " |  min(...)\n",
                        " |      a.min(axis=None, out=None, keepdims=False, initial=<no value>, where=True)\n",
                        " |      \n",
                        " |      Return the minimum along a given axis.\n",
                        " |      \n",
                        " |      Refer to `numpy.amin` for full documentation.\n",
                        " |      \n",
                        " |      See Also\n",
                        " |      --------\n",
                        " |      numpy.amin : equivalent function\n",
                        " |  \n",
                        " |  newbyteorder(...)\n",
                        " |      arr.newbyteorder(new_order='S', /)\n",
                        " |      \n",
                        " |      Return the array with the same data viewed with a different byte order.\n",
                        " |      \n",
                        " |      Equivalent to::\n",
                        " |      \n",
                        " |          arr.view(arr.dtype.newbytorder(new_order))\n",
                        " |      \n",
                        " |      Changes are also made in all fields and sub-arrays of the array data\n",
                        " |      type.\n",
                        " |      \n",
                        " |      \n",
                        " |      \n",
                        " |      Parameters\n",
                        " |      ----------\n",
                        " |      new_order : string, optional\n",
                        " |          Byte order to force; a value from the byte order specifications\n",
                        " |          below. `new_order` codes can be any of:\n",
                        " |      \n",
                        " |          * 'S' - swap dtype from current to opposite endian\n",
                        " |          * {'<', 'little'} - little endian\n",
                        " |          * {'>', 'big'} - big endian\n",
                        " |          * {'=', 'native'} - native order, equivalent to `sys.byteorder`\n",
                        " |          * {'|', 'I'} - ignore (no change to byte order)\n",
                        " |      \n",
                        " |          The default value ('S') results in swapping the current\n",
                        " |          byte order.\n",
                        " |      \n",
                        " |      \n",
                        " |      Returns\n",
                        " |      -------\n",
                        " |      new_arr : array\n",
                        " |          New array object with the dtype reflecting given change to the\n",
                        " |          byte order.\n",
                        " |  \n",
                        " |  nonzero(...)\n",
                        " |      a.nonzero()\n",
                        " |      \n",
                        " |      Return the indices of the elements that are non-zero.\n",
                        " |      \n",
                        " |      Refer to `numpy.nonzero` for full documentation.\n",
                        " |      \n",
                        " |      See Also\n",
                        " |      --------\n",
                        " |      numpy.nonzero : equivalent function\n",
                        " |  \n",
                        " |  partition(...)\n",
                        " |      a.partition(kth, axis=-1, kind='introselect', order=None)\n",
                        " |      \n",
                        " |      Rearranges the elements in the array in such a way that the value of the\n",
                        " |      element in kth position is in the position it would be in a sorted array.\n",
                        " |      All elements smaller than the kth element are moved before this element and\n",
                        " |      all equal or greater are moved behind it. The ordering of the elements in\n",
                        " |      the two partitions is undefined.\n",
                        " |      \n",
                        " |      .. versionadded:: 1.8.0\n",
                        " |      \n",
                        " |      Parameters\n",
                        " |      ----------\n",
                        " |      kth : int or sequence of ints\n",
                        " |          Element index to partition by. The kth element value will be in its\n",
                        " |          final sorted position and all smaller elements will be moved before it\n",
                        " |          and all equal or greater elements behind it.\n",
                        " |          The order of all elements in the partitions is undefined.\n",
                        " |          If provided with a sequence of kth it will partition all elements\n",
                        " |          indexed by kth of them into their sorted position at once.\n",
                        " |      \n",
                        " |          .. deprecated:: 1.22.0\n",
                        " |              Passing booleans as index is deprecated.\n",
                        " |      axis : int, optional\n",
                        " |          Axis along which to sort. Default is -1, which means sort along the\n",
                        " |          last axis.\n",
                        " |      kind : {'introselect'}, optional\n",
                        " |          Selection algorithm. Default is 'introselect'.\n",
                        " |      order : str or list of str, optional\n",
                        " |          When `a` is an array with fields defined, this argument specifies\n",
                        " |          which fields to compare first, second, etc. A single field can\n",
                        " |          be specified as a string, and not all fields need to be specified,\n",
                        " |          but unspecified fields will still be used, in the order in which\n",
                        " |          they come up in the dtype, to break ties.\n",
                        " |      \n",
                        " |      See Also\n",
                        " |      --------\n",
                        " |      numpy.partition : Return a partitioned copy of an array.\n",
                        " |      argpartition : Indirect partition.\n",
                        " |      sort : Full sort.\n",
                        " |      \n",
                        " |      Notes\n",
                        " |      -----\n",
                        " |      See ``np.partition`` for notes on the different algorithms.\n",
                        " |      \n",
                        " |      Examples\n",
                        " |      --------\n",
                        " |      >>> a = np.array([3, 4, 2, 1])\n",
                        " |      >>> a.partition(3)\n",
                        " |      >>> a\n",
                        " |      array([2, 1, 3, 4])\n",
                        " |      \n",
                        " |      >>> a.partition((1, 3))\n",
                        " |      >>> a\n",
                        " |      array([1, 2, 3, 4])\n",
                        " |  \n",
                        " |  prod(...)\n",
                        " |      a.prod(axis=None, dtype=None, out=None, keepdims=False, initial=1, where=True)\n",
                        " |      \n",
                        " |      Return the product of the array elements over the given axis\n",
                        " |      \n",
                        " |      Refer to `numpy.prod` for full documentation.\n",
                        " |      \n",
                        " |      See Also\n",
                        " |      --------\n",
                        " |      numpy.prod : equivalent function\n",
                        " |  \n",
                        " |  ptp(...)\n",
                        " |      a.ptp(axis=None, out=None, keepdims=False)\n",
                        " |      \n",
                        " |      Peak to peak (maximum - minimum) value along a given axis.\n",
                        " |      \n",
                        " |      Refer to `numpy.ptp` for full documentation.\n",
                        " |      \n",
                        " |      See Also\n",
                        " |      --------\n",
                        " |      numpy.ptp : equivalent function\n",
                        " |  \n",
                        " |  put(...)\n",
                        " |      a.put(indices, values, mode='raise')\n",
                        " |      \n",
                        " |      Set ``a.flat[n] = values[n]`` for all `n` in indices.\n",
                        " |      \n",
                        " |      Refer to `numpy.put` for full documentation.\n",
                        " |      \n",
                        " |      See Also\n",
                        " |      --------\n",
                        " |      numpy.put : equivalent function\n",
                        " |  \n",
                        " |  ravel(...)\n",
                        " |      a.ravel([order])\n",
                        " |      \n",
                        " |      Return a flattened array.\n",
                        " |      \n",
                        " |      Refer to `numpy.ravel` for full documentation.\n",
                        " |      \n",
                        " |      See Also\n",
                        " |      --------\n",
                        " |      numpy.ravel : equivalent function\n",
                        " |      \n",
                        " |      ndarray.flat : a flat iterator on the array.\n",
                        " |  \n",
                        " |  repeat(...)\n",
                        " |      a.repeat(repeats, axis=None)\n",
                        " |      \n",
                        " |      Repeat elements of an array.\n",
                        " |      \n",
                        " |      Refer to `numpy.repeat` for full documentation.\n",
                        " |      \n",
                        " |      See Also\n",
                        " |      --------\n",
                        " |      numpy.repeat : equivalent function\n",
                        " |  \n",
                        " |  reshape(...)\n",
                        " |      a.reshape(shape, order='C')\n",
                        " |      \n",
                        " |      Returns an array containing the same data with a new shape.\n",
                        " |      \n",
                        " |      Refer to `numpy.reshape` for full documentation.\n",
                        " |      \n",
                        " |      See Also\n",
                        " |      --------\n",
                        " |      numpy.reshape : equivalent function\n",
                        " |      \n",
                        " |      Notes\n",
                        " |      -----\n",
                        " |      Unlike the free function `numpy.reshape`, this method on `ndarray` allows\n",
                        " |      the elements of the shape parameter to be passed in as separate arguments.\n",
                        " |      For example, ``a.reshape(10, 11)`` is equivalent to\n",
                        " |      ``a.reshape((10, 11))``.\n",
                        " |  \n",
                        " |  resize(...)\n",
                        " |      a.resize(new_shape, refcheck=True)\n",
                        " |      \n",
                        " |      Change shape and size of array in-place.\n",
                        " |      \n",
                        " |      Parameters\n",
                        " |      ----------\n",
                        " |      new_shape : tuple of ints, or `n` ints\n",
                        " |          Shape of resized array.\n",
                        " |      refcheck : bool, optional\n",
                        " |          If False, reference count will not be checked. Default is True.\n",
                        " |      \n",
                        " |      Returns\n",
                        " |      -------\n",
                        " |      None\n",
                        " |      \n",
                        " |      Raises\n",
                        " |      ------\n",
                        " |      ValueError\n",
                        " |          If `a` does not own its own data or references or views to it exist,\n",
                        " |          and the data memory must be changed.\n",
                        " |          PyPy only: will always raise if the data memory must be changed, since\n",
                        " |          there is no reliable way to determine if references or views to it\n",
                        " |          exist.\n",
                        " |      \n",
                        " |      SystemError\n",
                        " |          If the `order` keyword argument is specified. This behaviour is a\n",
                        " |          bug in NumPy.\n",
                        " |      \n",
                        " |      See Also\n",
                        " |      --------\n",
                        " |      resize : Return a new array with the specified shape.\n",
                        " |      \n",
                        " |      Notes\n",
                        " |      -----\n",
                        " |      This reallocates space for the data area if necessary.\n",
                        " |      \n",
                        " |      Only contiguous arrays (data elements consecutive in memory) can be\n",
                        " |      resized.\n",
                        " |      \n",
                        " |      The purpose of the reference count check is to make sure you\n",
                        " |      do not use this array as a buffer for another Python object and then\n",
                        " |      reallocate the memory. However, reference counts can increase in\n",
                        " |      other ways so if you are sure that you have not shared the memory\n",
                        " |      for this array with another Python object, then you may safely set\n",
                        " |      `refcheck` to False.\n",
                        " |      \n",
                        " |      Examples\n",
                        " |      --------\n",
                        " |      Shrinking an array: array is flattened (in the order that the data are\n",
                        " |      stored in memory), resized, and reshaped:\n",
                        " |      \n",
                        " |      >>> a = np.array([[0, 1], [2, 3]], order='C')\n",
                        " |      >>> a.resize((2, 1))\n",
                        " |      >>> a\n",
                        " |      array([[0],\n",
                        " |             [1]])\n",
                        " |      \n",
                        " |      >>> a = np.array([[0, 1], [2, 3]], order='F')\n",
                        " |      >>> a.resize((2, 1))\n",
                        " |      >>> a\n",
                        " |      array([[0],\n",
                        " |             [2]])\n",
                        " |      \n",
                        " |      Enlarging an array: as above, but missing entries are filled with zeros:\n",
                        " |      \n",
                        " |      >>> b = np.array([[0, 1], [2, 3]])\n",
                        " |      >>> b.resize(2, 3) # new_shape parameter doesn't have to be a tuple\n",
                        " |      >>> b\n",
                        " |      array([[0, 1, 2],\n",
                        " |             [3, 0, 0]])\n",
                        " |      \n",
                        " |      Referencing an array prevents resizing...\n",
                        " |      \n",
                        " |      >>> c = a\n",
                        " |      >>> a.resize((1, 1))\n",
                        " |      Traceback (most recent call last):\n",
                        " |      ...\n",
                        " |      ValueError: cannot resize an array that references or is referenced ...\n",
                        " |      \n",
                        " |      Unless `refcheck` is False:\n",
                        " |      \n",
                        " |      >>> a.resize((1, 1), refcheck=False)\n",
                        " |      >>> a\n",
                        " |      array([[0]])\n",
                        " |      >>> c\n",
                        " |      array([[0]])\n",
                        " |  \n",
                        " |  round(...)\n",
                        " |      a.round(decimals=0, out=None)\n",
                        " |      \n",
                        " |      Return `a` with each element rounded to the given number of decimals.\n",
                        " |      \n",
                        " |      Refer to `numpy.around` for full documentation.\n",
                        " |      \n",
                        " |      See Also\n",
                        " |      --------\n",
                        " |      numpy.around : equivalent function\n",
                        " |  \n",
                        " |  searchsorted(...)\n",
                        " |      a.searchsorted(v, side='left', sorter=None)\n",
                        " |      \n",
                        " |      Find indices where elements of v should be inserted in a to maintain order.\n",
                        " |      \n",
                        " |      For full documentation, see `numpy.searchsorted`\n",
                        " |      \n",
                        " |      See Also\n",
                        " |      --------\n",
                        " |      numpy.searchsorted : equivalent function\n",
                        " |  \n",
                        " |  setfield(...)\n",
                        " |      a.setfield(val, dtype, offset=0)\n",
                        " |      \n",
                        " |      Put a value into a specified place in a field defined by a data-type.\n",
                        " |      \n",
                        " |      Place `val` into `a`'s field defined by `dtype` and beginning `offset`\n",
                        " |      bytes into the field.\n",
                        " |      \n",
                        " |      Parameters\n",
                        " |      ----------\n",
                        " |      val : object\n",
                        " |          Value to be placed in field.\n",
                        " |      dtype : dtype object\n",
                        " |          Data-type of the field in which to place `val`.\n",
                        " |      offset : int, optional\n",
                        " |          The number of bytes into the field at which to place `val`.\n",
                        " |      \n",
                        " |      Returns\n",
                        " |      -------\n",
                        " |      None\n",
                        " |      \n",
                        " |      See Also\n",
                        " |      --------\n",
                        " |      getfield\n",
                        " |      \n",
                        " |      Examples\n",
                        " |      --------\n",
                        " |      >>> x = np.eye(3)\n",
                        " |      >>> x.getfield(np.float64)\n",
                        " |      array([[1.,  0.,  0.],\n",
                        " |             [0.,  1.,  0.],\n",
                        " |             [0.,  0.,  1.]])\n",
                        " |      >>> x.setfield(3, np.int32)\n",
                        " |      >>> x.getfield(np.int32)\n",
                        " |      array([[3, 3, 3],\n",
                        " |             [3, 3, 3],\n",
                        " |             [3, 3, 3]], dtype=int32)\n",
                        " |      >>> x\n",
                        " |      array([[1.0e+000, 1.5e-323, 1.5e-323],\n",
                        " |             [1.5e-323, 1.0e+000, 1.5e-323],\n",
                        " |             [1.5e-323, 1.5e-323, 1.0e+000]])\n",
                        " |      >>> x.setfield(np.eye(3), np.int32)\n",
                        " |      >>> x\n",
                        " |      array([[1.,  0.,  0.],\n",
                        " |             [0.,  1.,  0.],\n",
                        " |             [0.,  0.,  1.]])\n",
                        " |  \n",
                        " |  setflags(...)\n",
                        " |      a.setflags(write=None, align=None, uic=None)\n",
                        " |      \n",
                        " |      Set array flags WRITEABLE, ALIGNED, WRITEBACKIFCOPY,\n",
                        " |      respectively.\n",
                        " |      \n",
                        " |      These Boolean-valued flags affect how numpy interprets the memory\n",
                        " |      area used by `a` (see Notes below). The ALIGNED flag can only\n",
                        " |      be set to True if the data is actually aligned according to the type.\n",
                        " |      The WRITEBACKIFCOPY and flag can never be set\n",
                        " |      to True. The flag WRITEABLE can only be set to True if the array owns its\n",
                        " |      own memory, or the ultimate owner of the memory exposes a writeable buffer\n",
                        " |      interface, or is a string. (The exception for string is made so that\n",
                        " |      unpickling can be done without copying memory.)\n",
                        " |      \n",
                        " |      Parameters\n",
                        " |      ----------\n",
                        " |      write : bool, optional\n",
                        " |          Describes whether or not `a` can be written to.\n",
                        " |      align : bool, optional\n",
                        " |          Describes whether or not `a` is aligned properly for its type.\n",
                        " |      uic : bool, optional\n",
                        " |          Describes whether or not `a` is a copy of another \"base\" array.\n",
                        " |      \n",
                        " |      Notes\n",
                        " |      -----\n",
                        " |      Array flags provide information about how the memory area used\n",
                        " |      for the array is to be interpreted. There are 7 Boolean flags\n",
                        " |      in use, only four of which can be changed by the user:\n",
                        " |      WRITEBACKIFCOPY, WRITEABLE, and ALIGNED.\n",
                        " |      \n",
                        " |      WRITEABLE (W) the data area can be written to;\n",
                        " |      \n",
                        " |      ALIGNED (A) the data and strides are aligned appropriately for the hardware\n",
                        " |      (as determined by the compiler);\n",
                        " |      \n",
                        " |      WRITEBACKIFCOPY (X) this array is a copy of some other array (referenced\n",
                        " |      by .base). When the C-API function PyArray_ResolveWritebackIfCopy is\n",
                        " |      called, the base array will be updated with the contents of this array.\n",
                        " |      \n",
                        " |      All flags can be accessed using the single (upper case) letter as well\n",
                        " |      as the full name.\n",
                        " |      \n",
                        " |      Examples\n",
                        " |      --------\n",
                        " |      >>> y = np.array([[3, 1, 7],\n",
                        " |      ...               [2, 0, 0],\n",
                        " |      ...               [8, 5, 9]])\n",
                        " |      >>> y\n",
                        " |      array([[3, 1, 7],\n",
                        " |             [2, 0, 0],\n",
                        " |             [8, 5, 9]])\n",
                        " |      >>> y.flags\n",
                        " |        C_CONTIGUOUS : True\n",
                        " |        F_CONTIGUOUS : False\n",
                        " |        OWNDATA : True\n",
                        " |        WRITEABLE : True\n",
                        " |        ALIGNED : True\n",
                        " |        WRITEBACKIFCOPY : False\n",
                        " |      >>> y.setflags(write=0, align=0)\n",
                        " |      >>> y.flags\n",
                        " |        C_CONTIGUOUS : True\n",
                        " |        F_CONTIGUOUS : False\n",
                        " |        OWNDATA : True\n",
                        " |        WRITEABLE : False\n",
                        " |        ALIGNED : False\n",
                        " |        WRITEBACKIFCOPY : False\n",
                        " |      >>> y.setflags(uic=1)\n",
                        " |      Traceback (most recent call last):\n",
                        " |        File \"<stdin>\", line 1, in <module>\n",
                        " |      ValueError: cannot set WRITEBACKIFCOPY flag to True\n",
                        " |  \n",
                        " |  sort(...)\n",
                        " |      a.sort(axis=-1, kind=None, order=None)\n",
                        " |      \n",
                        " |      Sort an array in-place. Refer to `numpy.sort` for full documentation.\n",
                        " |      \n",
                        " |      Parameters\n",
                        " |      ----------\n",
                        " |      axis : int, optional\n",
                        " |          Axis along which to sort. Default is -1, which means sort along the\n",
                        " |          last axis.\n",
                        " |      kind : {'quicksort', 'mergesort', 'heapsort', 'stable'}, optional\n",
                        " |          Sorting algorithm. The default is 'quicksort'. Note that both 'stable'\n",
                        " |          and 'mergesort' use timsort under the covers and, in general, the\n",
                        " |          actual implementation will vary with datatype. The 'mergesort' option\n",
                        " |          is retained for backwards compatibility.\n",
                        " |      \n",
                        " |          .. versionchanged:: 1.15.0\n",
                        " |             The 'stable' option was added.\n",
                        " |      \n",
                        " |      order : str or list of str, optional\n",
                        " |          When `a` is an array with fields defined, this argument specifies\n",
                        " |          which fields to compare first, second, etc.  A single field can\n",
                        " |          be specified as a string, and not all fields need be specified,\n",
                        " |          but unspecified fields will still be used, in the order in which\n",
                        " |          they come up in the dtype, to break ties.\n",
                        " |      \n",
                        " |      See Also\n",
                        " |      --------\n",
                        " |      numpy.sort : Return a sorted copy of an array.\n",
                        " |      numpy.argsort : Indirect sort.\n",
                        " |      numpy.lexsort : Indirect stable sort on multiple keys.\n",
                        " |      numpy.searchsorted : Find elements in sorted array.\n",
                        " |      numpy.partition: Partial sort.\n",
                        " |      \n",
                        " |      Notes\n",
                        " |      -----\n",
                        " |      See `numpy.sort` for notes on the different sorting algorithms.\n",
                        " |      \n",
                        " |      Examples\n",
                        " |      --------\n",
                        " |      >>> a = np.array([[1,4], [3,1]])\n",
                        " |      >>> a.sort(axis=1)\n",
                        " |      >>> a\n",
                        " |      array([[1, 4],\n",
                        " |             [1, 3]])\n",
                        " |      >>> a.sort(axis=0)\n",
                        " |      >>> a\n",
                        " |      array([[1, 3],\n",
                        " |             [1, 4]])\n",
                        " |      \n",
                        " |      Use the `order` keyword to specify a field to use when sorting a\n",
                        " |      structured array:\n",
                        " |      \n",
                        " |      >>> a = np.array([('a', 2), ('c', 1)], dtype=[('x', 'S1'), ('y', int)])\n",
                        " |      >>> a.sort(order='y')\n",
                        " |      >>> a\n",
                        " |      array([(b'c', 1), (b'a', 2)],\n",
                        " |            dtype=[('x', 'S1'), ('y', '<i8')])\n",
                        " |  \n",
                        " |  squeeze(...)\n",
                        " |      a.squeeze(axis=None)\n",
                        " |      \n",
                        " |      Remove axes of length one from `a`.\n",
                        " |      \n",
                        " |      Refer to `numpy.squeeze` for full documentation.\n",
                        " |      \n",
                        " |      See Also\n",
                        " |      --------\n",
                        " |      numpy.squeeze : equivalent function\n",
                        " |  \n",
                        " |  std(...)\n",
                        " |      a.std(axis=None, dtype=None, out=None, ddof=0, keepdims=False, *, where=True)\n",
                        " |      \n",
                        " |      Returns the standard deviation of the array elements along given axis.\n",
                        " |      \n",
                        " |      Refer to `numpy.std` for full documentation.\n",
                        " |      \n",
                        " |      See Also\n",
                        " |      --------\n",
                        " |      numpy.std : equivalent function\n",
                        " |  \n",
                        " |  sum(...)\n",
                        " |      a.sum(axis=None, dtype=None, out=None, keepdims=False, initial=0, where=True)\n",
                        " |      \n",
                        " |      Return the sum of the array elements over the given axis.\n",
                        " |      \n",
                        " |      Refer to `numpy.sum` for full documentation.\n",
                        " |      \n",
                        " |      See Also\n",
                        " |      --------\n",
                        " |      numpy.sum : equivalent function\n",
                        " |  \n",
                        " |  swapaxes(...)\n",
                        " |      a.swapaxes(axis1, axis2)\n",
                        " |      \n",
                        " |      Return a view of the array with `axis1` and `axis2` interchanged.\n",
                        " |      \n",
                        " |      Refer to `numpy.swapaxes` for full documentation.\n",
                        " |      \n",
                        " |      See Also\n",
                        " |      --------\n",
                        " |      numpy.swapaxes : equivalent function\n",
                        " |  \n",
                        " |  take(...)\n",
                        " |      a.take(indices, axis=None, out=None, mode='raise')\n",
                        " |      \n",
                        " |      Return an array formed from the elements of `a` at the given indices.\n",
                        " |      \n",
                        " |      Refer to `numpy.take` for full documentation.\n",
                        " |      \n",
                        " |      See Also\n",
                        " |      --------\n",
                        " |      numpy.take : equivalent function\n",
                        " |  \n",
                        " |  tobytes(...)\n",
                        " |      a.tobytes(order='C')\n",
                        " |      \n",
                        " |      Construct Python bytes containing the raw data bytes in the array.\n",
                        " |      \n",
                        " |      Constructs Python bytes showing a copy of the raw contents of\n",
                        " |      data memory. The bytes object is produced in C-order by default.\n",
                        " |      This behavior is controlled by the ``order`` parameter.\n",
                        " |      \n",
                        " |      .. versionadded:: 1.9.0\n",
                        " |      \n",
                        " |      Parameters\n",
                        " |      ----------\n",
                        " |      order : {'C', 'F', 'A'}, optional\n",
                        " |          Controls the memory layout of the bytes object. 'C' means C-order,\n",
                        " |          'F' means F-order, 'A' (short for *Any*) means 'F' if `a` is\n",
                        " |          Fortran contiguous, 'C' otherwise. Default is 'C'.\n",
                        " |      \n",
                        " |      Returns\n",
                        " |      -------\n",
                        " |      s : bytes\n",
                        " |          Python bytes exhibiting a copy of `a`'s raw data.\n",
                        " |      \n",
                        " |      See also\n",
                        " |      --------\n",
                        " |      frombuffer\n",
                        " |          Inverse of this operation, construct a 1-dimensional array from Python\n",
                        " |          bytes.\n",
                        " |      \n",
                        " |      Examples\n",
                        " |      --------\n",
                        " |      >>> x = np.array([[0, 1], [2, 3]], dtype='<u2')\n",
                        " |      >>> x.tobytes()\n",
                        " |      b'\\x00\\x00\\x01\\x00\\x02\\x00\\x03\\x00'\n",
                        " |      >>> x.tobytes('C') == x.tobytes()\n",
                        " |      True\n",
                        " |      >>> x.tobytes('F')\n",
                        " |      b'\\x00\\x00\\x02\\x00\\x01\\x00\\x03\\x00'\n",
                        " |  \n",
                        " |  tofile(...)\n",
                        " |      a.tofile(fid, sep=\"\", format=\"%s\")\n",
                        " |      \n",
                        " |      Write array to a file as text or binary (default).\n",
                        " |      \n",
                        " |      Data is always written in 'C' order, independent of the order of `a`.\n",
                        " |      The data produced by this method can be recovered using the function\n",
                        " |      fromfile().\n",
                        " |      \n",
                        " |      Parameters\n",
                        " |      ----------\n",
                        " |      fid : file or str or Path\n",
                        " |          An open file object, or a string containing a filename.\n",
                        " |      \n",
                        " |          .. versionchanged:: 1.17.0\n",
                        " |              `pathlib.Path` objects are now accepted.\n",
                        " |      \n",
                        " |      sep : str\n",
                        " |          Separator between array items for text output.\n",
                        " |          If \"\" (empty), a binary file is written, equivalent to\n",
                        " |          ``file.write(a.tobytes())``.\n",
                        " |      format : str\n",
                        " |          Format string for text file output.\n",
                        " |          Each entry in the array is formatted to text by first converting\n",
                        " |          it to the closest Python type, and then using \"format\" % item.\n",
                        " |      \n",
                        " |      Notes\n",
                        " |      -----\n",
                        " |      This is a convenience function for quick storage of array data.\n",
                        " |      Information on endianness and precision is lost, so this method is not a\n",
                        " |      good choice for files intended to archive data or transport data between\n",
                        " |      machines with different endianness. Some of these problems can be overcome\n",
                        " |      by outputting the data as text files, at the expense of speed and file\n",
                        " |      size.\n",
                        " |      \n",
                        " |      When fid is a file object, array contents are directly written to the\n",
                        " |      file, bypassing the file object's ``write`` method. As a result, tofile\n",
                        " |      cannot be used with files objects supporting compression (e.g., GzipFile)\n",
                        " |      or file-like objects that do not support ``fileno()`` (e.g., BytesIO).\n",
                        " |  \n",
                        " |  tolist(...)\n",
                        " |      a.tolist()\n",
                        " |      \n",
                        " |      Return the array as an ``a.ndim``-levels deep nested list of Python scalars.\n",
                        " |      \n",
                        " |      Return a copy of the array data as a (nested) Python list.\n",
                        " |      Data items are converted to the nearest compatible builtin Python type, via\n",
                        " |      the `~numpy.ndarray.item` function.\n",
                        " |      \n",
                        " |      If ``a.ndim`` is 0, then since the depth of the nested list is 0, it will\n",
                        " |      not be a list at all, but a simple Python scalar.\n",
                        " |      \n",
                        " |      Parameters\n",
                        " |      ----------\n",
                        " |      none\n",
                        " |      \n",
                        " |      Returns\n",
                        " |      -------\n",
                        " |      y : object, or list of object, or list of list of object, or ...\n",
                        " |          The possibly nested list of array elements.\n",
                        " |      \n",
                        " |      Notes\n",
                        " |      -----\n",
                        " |      The array may be recreated via ``a = np.array(a.tolist())``, although this\n",
                        " |      may sometimes lose precision.\n",
                        " |      \n",
                        " |      Examples\n",
                        " |      --------\n",
                        " |      For a 1D array, ``a.tolist()`` is almost the same as ``list(a)``,\n",
                        " |      except that ``tolist`` changes numpy scalars to Python scalars:\n",
                        " |      \n",
                        " |      >>> a = np.uint32([1, 2])\n",
                        " |      >>> a_list = list(a)\n",
                        " |      >>> a_list\n",
                        " |      [1, 2]\n",
                        " |      >>> type(a_list[0])\n",
                        " |      <class 'numpy.uint32'>\n",
                        " |      >>> a_tolist = a.tolist()\n",
                        " |      >>> a_tolist\n",
                        " |      [1, 2]\n",
                        " |      >>> type(a_tolist[0])\n",
                        " |      <class 'int'>\n",
                        " |      \n",
                        " |      Additionally, for a 2D array, ``tolist`` applies recursively:\n",
                        " |      \n",
                        " |      >>> a = np.array([[1, 2], [3, 4]])\n",
                        " |      >>> list(a)\n",
                        " |      [array([1, 2]), array([3, 4])]\n",
                        " |      >>> a.tolist()\n",
                        " |      [[1, 2], [3, 4]]\n",
                        " |      \n",
                        " |      The base case for this recursion is a 0D array:\n",
                        " |      \n",
                        " |      >>> a = np.array(1)\n",
                        " |      >>> list(a)\n",
                        " |      Traceback (most recent call last):\n",
                        " |        ...\n",
                        " |      TypeError: iteration over a 0-d array\n",
                        " |      >>> a.tolist()\n",
                        " |      1\n",
                        " |  \n",
                        " |  tostring(...)\n",
                        " |      a.tostring(order='C')\n",
                        " |      \n",
                        " |      A compatibility alias for `tobytes`, with exactly the same behavior.\n",
                        " |      \n",
                        " |      Despite its name, it returns `bytes` not `str`\\ s.\n",
                        " |      \n",
                        " |      .. deprecated:: 1.19.0\n",
                        " |  \n",
                        " |  trace(...)\n",
                        " |      a.trace(offset=0, axis1=0, axis2=1, dtype=None, out=None)\n",
                        " |      \n",
                        " |      Return the sum along diagonals of the array.\n",
                        " |      \n",
                        " |      Refer to `numpy.trace` for full documentation.\n",
                        " |      \n",
                        " |      See Also\n",
                        " |      --------\n",
                        " |      numpy.trace : equivalent function\n",
                        " |  \n",
                        " |  transpose(...)\n",
                        " |      a.transpose(*axes)\n",
                        " |      \n",
                        " |      Returns a view of the array with axes transposed.\n",
                        " |      \n",
                        " |      Refer to `numpy.transpose` for full documentation.\n",
                        " |      \n",
                        " |      Parameters\n",
                        " |      ----------\n",
                        " |      axes : None, tuple of ints, or `n` ints\n",
                        " |      \n",
                        " |       * None or no argument: reverses the order of the axes.\n",
                        " |      \n",
                        " |       * tuple of ints: `i` in the `j`-th place in the tuple means that the\n",
                        " |         array's `i`-th axis becomes the transposed array's `j`-th axis.\n",
                        " |      \n",
                        " |       * `n` ints: same as an n-tuple of the same ints (this form is\n",
                        " |         intended simply as a \"convenience\" alternative to the tuple form).\n",
                        " |      \n",
                        " |      Returns\n",
                        " |      -------\n",
                        " |      p : ndarray\n",
                        " |          View of the array with its axes suitably permuted.\n",
                        " |      \n",
                        " |      See Also\n",
                        " |      --------\n",
                        " |      transpose : Equivalent function.\n",
                        " |      ndarray.T : Array property returning the array transposed.\n",
                        " |      ndarray.reshape : Give a new shape to an array without changing its data.\n",
                        " |      \n",
                        " |      Examples\n",
                        " |      --------\n",
                        " |      >>> a = np.array([[1, 2], [3, 4]])\n",
                        " |      >>> a\n",
                        " |      array([[1, 2],\n",
                        " |             [3, 4]])\n",
                        " |      >>> a.transpose()\n",
                        " |      array([[1, 3],\n",
                        " |             [2, 4]])\n",
                        " |      >>> a.transpose((1, 0))\n",
                        " |      array([[1, 3],\n",
                        " |             [2, 4]])\n",
                        " |      >>> a.transpose(1, 0)\n",
                        " |      array([[1, 3],\n",
                        " |             [2, 4]])\n",
                        " |      \n",
                        " |      >>> a = np.array([1, 2, 3, 4])\n",
                        " |      >>> a\n",
                        " |      array([1, 2, 3, 4])\n",
                        " |      >>> a.transpose()\n",
                        " |      array([1, 2, 3, 4])\n",
                        " |  \n",
                        " |  var(...)\n",
                        " |      a.var(axis=None, dtype=None, out=None, ddof=0, keepdims=False, *, where=True)\n",
                        " |      \n",
                        " |      Returns the variance of the array elements, along given axis.\n",
                        " |      \n",
                        " |      Refer to `numpy.var` for full documentation.\n",
                        " |      \n",
                        " |      See Also\n",
                        " |      --------\n",
                        " |      numpy.var : equivalent function\n",
                        " |  \n",
                        " |  view(...)\n",
                        " |      a.view([dtype][, type])\n",
                        " |      \n",
                        " |      New view of array with the same data.\n",
                        " |      \n",
                        " |      .. note::\n",
                        " |          Passing None for ``dtype`` is different from omitting the parameter,\n",
                        " |          since the former invokes ``dtype(None)`` which is an alias for\n",
                        " |          ``dtype('float_')``.\n",
                        " |      \n",
                        " |      Parameters\n",
                        " |      ----------\n",
                        " |      dtype : data-type or ndarray sub-class, optional\n",
                        " |          Data-type descriptor of the returned view, e.g., float32 or int16.\n",
                        " |          Omitting it results in the view having the same data-type as `a`.\n",
                        " |          This argument can also be specified as an ndarray sub-class, which\n",
                        " |          then specifies the type of the returned object (this is equivalent to\n",
                        " |          setting the ``type`` parameter).\n",
                        " |      type : Python type, optional\n",
                        " |          Type of the returned view, e.g., ndarray or matrix.  Again, omission\n",
                        " |          of the parameter results in type preservation.\n",
                        " |      \n",
                        " |      Notes\n",
                        " |      -----\n",
                        " |      ``a.view()`` is used two different ways:\n",
                        " |      \n",
                        " |      ``a.view(some_dtype)`` or ``a.view(dtype=some_dtype)`` constructs a view\n",
                        " |      of the array's memory with a different data-type.  This can cause a\n",
                        " |      reinterpretation of the bytes of memory.\n",
                        " |      \n",
                        " |      ``a.view(ndarray_subclass)`` or ``a.view(type=ndarray_subclass)`` just\n",
                        " |      returns an instance of `ndarray_subclass` that looks at the same array\n",
                        " |      (same shape, dtype, etc.)  This does not cause a reinterpretation of the\n",
                        " |      memory.\n",
                        " |      \n",
                        " |      For ``a.view(some_dtype)``, if ``some_dtype`` has a different number of\n",
                        " |      bytes per entry than the previous dtype (for example, converting a regular\n",
                        " |      array to a structured array), then the last axis of ``a`` must be\n",
                        " |      contiguous. This axis will be resized in the result.\n",
                        " |      \n",
                        " |      .. versionchanged:: 1.23.0\n",
                        " |         Only the last axis needs to be contiguous. Previously, the entire array\n",
                        " |         had to be C-contiguous.\n",
                        " |      \n",
                        " |      Examples\n",
                        " |      --------\n",
                        " |      >>> x = np.array([(1, 2)], dtype=[('a', np.int8), ('b', np.int8)])\n",
                        " |      \n",
                        " |      Viewing array data using a different type and dtype:\n",
                        " |      \n",
                        " |      >>> y = x.view(dtype=np.int16, type=np.matrix)\n",
                        " |      >>> y\n",
                        " |      matrix([[513]], dtype=int16)\n",
                        " |      >>> print(type(y))\n",
                        " |      <class 'numpy.matrix'>\n",
                        " |      \n",
                        " |      Creating a view on a structured array so it can be used in calculations\n",
                        " |      \n",
                        " |      >>> x = np.array([(1, 2),(3,4)], dtype=[('a', np.int8), ('b', np.int8)])\n",
                        " |      >>> xv = x.view(dtype=np.int8).reshape(-1,2)\n",
                        " |      >>> xv\n",
                        " |      array([[1, 2],\n",
                        " |             [3, 4]], dtype=int8)\n",
                        " |      >>> xv.mean(0)\n",
                        " |      array([2.,  3.])\n",
                        " |      \n",
                        " |      Making changes to the view changes the underlying array\n",
                        " |      \n",
                        " |      >>> xv[0,1] = 20\n",
                        " |      >>> x\n",
                        " |      array([(1, 20), (3,  4)], dtype=[('a', 'i1'), ('b', 'i1')])\n",
                        " |      \n",
                        " |      Using a view to convert an array to a recarray:\n",
                        " |      \n",
                        " |      >>> z = x.view(np.recarray)\n",
                        " |      >>> z.a\n",
                        " |      array([1, 3], dtype=int8)\n",
                        " |      \n",
                        " |      Views share data:\n",
                        " |      \n",
                        " |      >>> x[0] = (9, 10)\n",
                        " |      >>> z[0]\n",
                        " |      (9, 10)\n",
                        " |      \n",
                        " |      Views that change the dtype size (bytes per entry) should normally be\n",
                        " |      avoided on arrays defined by slices, transposes, fortran-ordering, etc.:\n",
                        " |      \n",
                        " |      >>> x = np.array([[1, 2, 3], [4, 5, 6]], dtype=np.int16)\n",
                        " |      >>> y = x[:, ::2]\n",
                        " |      >>> y\n",
                        " |      array([[1, 3],\n",
                        " |             [4, 6]], dtype=int16)\n",
                        " |      >>> y.view(dtype=[('width', np.int16), ('length', np.int16)])\n",
                        " |      Traceback (most recent call last):\n",
                        " |          ...\n",
                        " |      ValueError: To change to a dtype of a different size, the last axis must be contiguous\n",
                        " |      >>> z = y.copy()\n",
                        " |      >>> z.view(dtype=[('width', np.int16), ('length', np.int16)])\n",
                        " |      array([[(1, 3)],\n",
                        " |             [(4, 6)]], dtype=[('width', '<i2'), ('length', '<i2')])\n",
                        " |      \n",
                        " |      However, views that change dtype are totally fine for arrays with a\n",
                        " |      contiguous last axis, even if the rest of the axes are not C-contiguous:\n",
                        " |      \n",
                        " |      >>> x = np.arange(2 * 3 * 4, dtype=np.int8).reshape(2, 3, 4)\n",
                        " |      >>> x.transpose(1, 0, 2).view(np.int16)\n",
                        " |      array([[[ 256,  770],\n",
                        " |              [3340, 3854]],\n",
                        " |      <BLANKLINE>\n",
                        " |             [[1284, 1798],\n",
                        " |              [4368, 4882]],\n",
                        " |      <BLANKLINE>\n",
                        " |             [[2312, 2826],\n",
                        " |              [5396, 5910]]], dtype=int16)\n",
                        " |  \n",
                        " |  ----------------------------------------------------------------------\n",
                        " |  Class methods defined here:\n",
                        " |  \n",
                        " |  __class_getitem__(...) from builtins.type\n",
                        " |      a.__class_getitem__(item, /)\n",
                        " |      \n",
                        " |      Return a parametrized wrapper around the `~numpy.ndarray` type.\n",
                        " |      \n",
                        " |      .. versionadded:: 1.22\n",
                        " |      \n",
                        " |      Returns\n",
                        " |      -------\n",
                        " |      alias : types.GenericAlias\n",
                        " |          A parametrized `~numpy.ndarray` type.\n",
                        " |      \n",
                        " |      Examples\n",
                        " |      --------\n",
                        " |      >>> from typing import Any\n",
                        " |      >>> import numpy as np\n",
                        " |      \n",
                        " |      >>> np.ndarray[Any, np.dtype[Any]]\n",
                        " |      numpy.ndarray[typing.Any, numpy.dtype[typing.Any]]\n",
                        " |      \n",
                        " |      Notes\n",
                        " |      -----\n",
                        " |      This method is only available for python 3.9 and later.\n",
                        " |      \n",
                        " |      See Also\n",
                        " |      --------\n",
                        " |      :pep:`585` : Type hinting generics in standard collections.\n",
                        " |      numpy.typing.NDArray : An ndarray alias :term:`generic <generic type>`\n",
                        " |                          w.r.t. its `dtype.type <numpy.dtype.type>`.\n",
                        " |  \n",
                        " |  ----------------------------------------------------------------------\n",
                        " |  Static methods defined here:\n",
                        " |  \n",
                        " |  __new__(*args, **kwargs) from builtins.type\n",
                        " |      Create and return a new object.  See help(type) for accurate signature.\n",
                        " |  \n",
                        " |  ----------------------------------------------------------------------\n",
                        " |  Data descriptors defined here:\n",
                        " |  \n",
                        " |  T\n",
                        " |      View of the transposed array.\n",
                        " |      \n",
                        " |      Same as ``self.transpose()``.\n",
                        " |      \n",
                        " |      Examples\n",
                        " |      --------\n",
                        " |      >>> a = np.array([[1, 2], [3, 4]])\n",
                        " |      >>> a\n",
                        " |      array([[1, 2],\n",
                        " |             [3, 4]])\n",
                        " |      >>> a.T\n",
                        " |      array([[1, 3],\n",
                        " |             [2, 4]])\n",
                        " |      \n",
                        " |      >>> a = np.array([1, 2, 3, 4])\n",
                        " |      >>> a\n",
                        " |      array([1, 2, 3, 4])\n",
                        " |      >>> a.T\n",
                        " |      array([1, 2, 3, 4])\n",
                        " |      \n",
                        " |      See Also\n",
                        " |      --------\n",
                        " |      transpose\n",
                        " |  \n",
                        " |  __array_interface__\n",
                        " |      Array protocol: Python side.\n",
                        " |  \n",
                        " |  __array_priority__\n",
                        " |      Array priority.\n",
                        " |  \n",
                        " |  __array_struct__\n",
                        " |      Array protocol: C-struct side.\n",
                        " |  \n",
                        " |  base\n",
                        " |      Base object if memory is from some other object.\n",
                        " |      \n",
                        " |      Examples\n",
                        " |      --------\n",
                        " |      The base of an array that owns its memory is None:\n",
                        " |      \n",
                        " |      >>> x = np.array([1,2,3,4])\n",
                        " |      >>> x.base is None\n",
                        " |      True\n",
                        " |      \n",
                        " |      Slicing creates a view, whose memory is shared with x:\n",
                        " |      \n",
                        " |      >>> y = x[2:]\n",
                        " |      >>> y.base is x\n",
                        " |      True\n",
                        " |  \n",
                        " |  ctypes\n",
                        " |      An object to simplify the interaction of the array with the ctypes\n",
                        " |      module.\n",
                        " |      \n",
                        " |      This attribute creates an object that makes it easier to use arrays\n",
                        " |      when calling shared libraries with the ctypes module. The returned\n",
                        " |      object has, among others, data, shape, and strides attributes (see\n",
                        " |      Notes below) which themselves return ctypes objects that can be used\n",
                        " |      as arguments to a shared library.\n",
                        " |      \n",
                        " |      Parameters\n",
                        " |      ----------\n",
                        " |      None\n",
                        " |      \n",
                        " |      Returns\n",
                        " |      -------\n",
                        " |      c : Python object\n",
                        " |          Possessing attributes data, shape, strides, etc.\n",
                        " |      \n",
                        " |      See Also\n",
                        " |      --------\n",
                        " |      numpy.ctypeslib\n",
                        " |      \n",
                        " |      Notes\n",
                        " |      -----\n",
                        " |      Below are the public attributes of this object which were documented\n",
                        " |      in \"Guide to NumPy\" (we have omitted undocumented public attributes,\n",
                        " |      as well as documented private attributes):\n",
                        " |      \n",
                        " |      .. autoattribute:: numpy.core._internal._ctypes.data\n",
                        " |          :noindex:\n",
                        " |      \n",
                        " |      .. autoattribute:: numpy.core._internal._ctypes.shape\n",
                        " |          :noindex:\n",
                        " |      \n",
                        " |      .. autoattribute:: numpy.core._internal._ctypes.strides\n",
                        " |          :noindex:\n",
                        " |      \n",
                        " |      .. automethod:: numpy.core._internal._ctypes.data_as\n",
                        " |          :noindex:\n",
                        " |      \n",
                        " |      .. automethod:: numpy.core._internal._ctypes.shape_as\n",
                        " |          :noindex:\n",
                        " |      \n",
                        " |      .. automethod:: numpy.core._internal._ctypes.strides_as\n",
                        " |          :noindex:\n",
                        " |      \n",
                        " |      If the ctypes module is not available, then the ctypes attribute\n",
                        " |      of array objects still returns something useful, but ctypes objects\n",
                        " |      are not returned and errors may be raised instead. In particular,\n",
                        " |      the object will still have the ``as_parameter`` attribute which will\n",
                        " |      return an integer equal to the data attribute.\n",
                        " |      \n",
                        " |      Examples\n",
                        " |      --------\n",
                        " |      >>> import ctypes\n",
                        " |      >>> x = np.array([[0, 1], [2, 3]], dtype=np.int32)\n",
                        " |      >>> x\n",
                        " |      array([[0, 1],\n",
                        " |             [2, 3]], dtype=int32)\n",
                        " |      >>> x.ctypes.data\n",
                        " |      31962608 # may vary\n",
                        " |      >>> x.ctypes.data_as(ctypes.POINTER(ctypes.c_uint32))\n",
                        " |      <__main__.LP_c_uint object at 0x7ff2fc1fc200> # may vary\n",
                        " |      >>> x.ctypes.data_as(ctypes.POINTER(ctypes.c_uint32)).contents\n",
                        " |      c_uint(0)\n",
                        " |      >>> x.ctypes.data_as(ctypes.POINTER(ctypes.c_uint64)).contents\n",
                        " |      c_ulong(4294967296)\n",
                        " |      >>> x.ctypes.shape\n",
                        " |      <numpy.core._internal.c_long_Array_2 object at 0x7ff2fc1fce60> # may vary\n",
                        " |      >>> x.ctypes.strides\n",
                        " |      <numpy.core._internal.c_long_Array_2 object at 0x7ff2fc1ff320> # may vary\n",
                        " |  \n",
                        " |  data\n",
                        " |      Python buffer object pointing to the start of the array's data.\n",
                        " |  \n",
                        " |  dtype\n",
                        " |      Data-type of the array's elements.\n",
                        " |      \n",
                        " |      .. warning::\n",
                        " |      \n",
                        " |          Setting ``arr.dtype`` is discouraged and may be deprecated in the\n",
                        " |          future.  Setting will replace the ``dtype`` without modifying the\n",
                        " |          memory (see also `ndarray.view` and `ndarray.astype`).\n",
                        " |      \n",
                        " |      Parameters\n",
                        " |      ----------\n",
                        " |      None\n",
                        " |      \n",
                        " |      Returns\n",
                        " |      -------\n",
                        " |      d : numpy dtype object\n",
                        " |      \n",
                        " |      See Also\n",
                        " |      --------\n",
                        " |      ndarray.astype : Cast the values contained in the array to a new data-type.\n",
                        " |      ndarray.view : Create a view of the same data but a different data-type.\n",
                        " |      numpy.dtype\n",
                        " |      \n",
                        " |      Examples\n",
                        " |      --------\n",
                        " |      >>> x\n",
                        " |      array([[0, 1],\n",
                        " |             [2, 3]])\n",
                        " |      >>> x.dtype\n",
                        " |      dtype('int32')\n",
                        " |      >>> type(x.dtype)\n",
                        " |      <type 'numpy.dtype'>\n",
                        " |  \n",
                        " |  flags\n",
                        " |      Information about the memory layout of the array.\n",
                        " |      \n",
                        " |      Attributes\n",
                        " |      ----------\n",
                        " |      C_CONTIGUOUS (C)\n",
                        " |          The data is in a single, C-style contiguous segment.\n",
                        " |      F_CONTIGUOUS (F)\n",
                        " |          The data is in a single, Fortran-style contiguous segment.\n",
                        " |      OWNDATA (O)\n",
                        " |          The array owns the memory it uses or borrows it from another object.\n",
                        " |      WRITEABLE (W)\n",
                        " |          The data area can be written to.  Setting this to False locks\n",
                        " |          the data, making it read-only.  A view (slice, etc.) inherits WRITEABLE\n",
                        " |          from its base array at creation time, but a view of a writeable\n",
                        " |          array may be subsequently locked while the base array remains writeable.\n",
                        " |          (The opposite is not true, in that a view of a locked array may not\n",
                        " |          be made writeable.  However, currently, locking a base object does not\n",
                        " |          lock any views that already reference it, so under that circumstance it\n",
                        " |          is possible to alter the contents of a locked array via a previously\n",
                        " |          created writeable view onto it.)  Attempting to change a non-writeable\n",
                        " |          array raises a RuntimeError exception.\n",
                        " |      ALIGNED (A)\n",
                        " |          The data and all elements are aligned appropriately for the hardware.\n",
                        " |      WRITEBACKIFCOPY (X)\n",
                        " |          This array is a copy of some other array. The C-API function\n",
                        " |          PyArray_ResolveWritebackIfCopy must be called before deallocating\n",
                        " |          to the base array will be updated with the contents of this array.\n",
                        " |      FNC\n",
                        " |          F_CONTIGUOUS and not C_CONTIGUOUS.\n",
                        " |      FORC\n",
                        " |          F_CONTIGUOUS or C_CONTIGUOUS (one-segment test).\n",
                        " |      BEHAVED (B)\n",
                        " |          ALIGNED and WRITEABLE.\n",
                        " |      CARRAY (CA)\n",
                        " |          BEHAVED and C_CONTIGUOUS.\n",
                        " |      FARRAY (FA)\n",
                        " |          BEHAVED and F_CONTIGUOUS and not C_CONTIGUOUS.\n",
                        " |      \n",
                        " |      Notes\n",
                        " |      -----\n",
                        " |      The `flags` object can be accessed dictionary-like (as in ``a.flags['WRITEABLE']``),\n",
                        " |      or by using lowercased attribute names (as in ``a.flags.writeable``). Short flag\n",
                        " |      names are only supported in dictionary access.\n",
                        " |      \n",
                        " |      Only the WRITEBACKIFCOPY, WRITEABLE, and ALIGNED flags can be\n",
                        " |      changed by the user, via direct assignment to the attribute or dictionary\n",
                        " |      entry, or by calling `ndarray.setflags`.\n",
                        " |      \n",
                        " |      The array flags cannot be set arbitrarily:\n",
                        " |      \n",
                        " |      - WRITEBACKIFCOPY can only be set ``False``.\n",
                        " |      - ALIGNED can only be set ``True`` if the data is truly aligned.\n",
                        " |      - WRITEABLE can only be set ``True`` if the array owns its own memory\n",
                        " |        or the ultimate owner of the memory exposes a writeable buffer\n",
                        " |        interface or is a string.\n",
                        " |      \n",
                        " |      Arrays can be both C-style and Fortran-style contiguous simultaneously.\n",
                        " |      This is clear for 1-dimensional arrays, but can also be true for higher\n",
                        " |      dimensional arrays.\n",
                        " |      \n",
                        " |      Even for contiguous arrays a stride for a given dimension\n",
                        " |      ``arr.strides[dim]`` may be *arbitrary* if ``arr.shape[dim] == 1``\n",
                        " |      or the array has no elements.\n",
                        " |      It does *not* generally hold that ``self.strides[-1] == self.itemsize``\n",
                        " |      for C-style contiguous arrays or ``self.strides[0] == self.itemsize`` for\n",
                        " |      Fortran-style contiguous arrays is true.\n",
                        " |  \n",
                        " |  flat\n",
                        " |      A 1-D iterator over the array.\n",
                        " |      \n",
                        " |      This is a `numpy.flatiter` instance, which acts similarly to, but is not\n",
                        " |      a subclass of, Python's built-in iterator object.\n",
                        " |      \n",
                        " |      See Also\n",
                        " |      --------\n",
                        " |      flatten : Return a copy of the array collapsed into one dimension.\n",
                        " |      \n",
                        " |      flatiter\n",
                        " |      \n",
                        " |      Examples\n",
                        " |      --------\n",
                        " |      >>> x = np.arange(1, 7).reshape(2, 3)\n",
                        " |      >>> x\n",
                        " |      array([[1, 2, 3],\n",
                        " |             [4, 5, 6]])\n",
                        " |      >>> x.flat[3]\n",
                        " |      4\n",
                        " |      >>> x.T\n",
                        " |      array([[1, 4],\n",
                        " |             [2, 5],\n",
                        " |             [3, 6]])\n",
                        " |      >>> x.T.flat[3]\n",
                        " |      5\n",
                        " |      >>> type(x.flat)\n",
                        " |      <class 'numpy.flatiter'>\n",
                        " |      \n",
                        " |      An assignment example:\n",
                        " |      \n",
                        " |      >>> x.flat = 3; x\n",
                        " |      array([[3, 3, 3],\n",
                        " |             [3, 3, 3]])\n",
                        " |      >>> x.flat[[1,4]] = 1; x\n",
                        " |      array([[3, 1, 3],\n",
                        " |             [3, 1, 3]])\n",
                        " |  \n",
                        " |  imag\n",
                        " |      The imaginary part of the array.\n",
                        " |      \n",
                        " |      Examples\n",
                        " |      --------\n",
                        " |      >>> x = np.sqrt([1+0j, 0+1j])\n",
                        " |      >>> x.imag\n",
                        " |      array([ 0.        ,  0.70710678])\n",
                        " |      >>> x.imag.dtype\n",
                        " |      dtype('float64')\n",
                        " |  \n",
                        " |  itemsize\n",
                        " |      Length of one array element in bytes.\n",
                        " |      \n",
                        " |      Examples\n",
                        " |      --------\n",
                        " |      >>> x = np.array([1,2,3], dtype=np.float64)\n",
                        " |      >>> x.itemsize\n",
                        " |      8\n",
                        " |      >>> x = np.array([1,2,3], dtype=np.complex128)\n",
                        " |      >>> x.itemsize\n",
                        " |      16\n",
                        " |  \n",
                        " |  nbytes\n",
                        " |      Total bytes consumed by the elements of the array.\n",
                        " |      \n",
                        " |      Notes\n",
                        " |      -----\n",
                        " |      Does not include memory consumed by non-element attributes of the\n",
                        " |      array object.\n",
                        " |      \n",
                        " |      Examples\n",
                        " |      --------\n",
                        " |      >>> x = np.zeros((3,5,2), dtype=np.complex128)\n",
                        " |      >>> x.nbytes\n",
                        " |      480\n",
                        " |      >>> np.prod(x.shape) * x.itemsize\n",
                        " |      480\n",
                        " |  \n",
                        " |  ndim\n",
                        " |      Number of array dimensions.\n",
                        " |      \n",
                        " |      Examples\n",
                        " |      --------\n",
                        " |      >>> x = np.array([1, 2, 3])\n",
                        " |      >>> x.ndim\n",
                        " |      1\n",
                        " |      >>> y = np.zeros((2, 3, 4))\n",
                        " |      >>> y.ndim\n",
                        " |      3\n",
                        " |  \n",
                        " |  real\n",
                        " |      The real part of the array.\n",
                        " |      \n",
                        " |      Examples\n",
                        " |      --------\n",
                        " |      >>> x = np.sqrt([1+0j, 0+1j])\n",
                        " |      >>> x.real\n",
                        " |      array([ 1.        ,  0.70710678])\n",
                        " |      >>> x.real.dtype\n",
                        " |      dtype('float64')\n",
                        " |      \n",
                        " |      See Also\n",
                        " |      --------\n",
                        " |      numpy.real : equivalent function\n",
                        " |  \n",
                        " |  shape\n",
                        " |      Tuple of array dimensions.\n",
                        " |      \n",
                        " |      The shape property is usually used to get the current shape of an array,\n",
                        " |      but may also be used to reshape the array in-place by assigning a tuple of\n",
                        " |      array dimensions to it.  As with `numpy.reshape`, one of the new shape\n",
                        " |      dimensions can be -1, in which case its value is inferred from the size of\n",
                        " |      the array and the remaining dimensions. Reshaping an array in-place will\n",
                        " |      fail if a copy is required.\n",
                        " |      \n",
                        " |      .. warning::\n",
                        " |      \n",
                        " |          Setting ``arr.shape`` is discouraged and may be deprecated in the\n",
                        " |          future.  Using `ndarray.reshape` is the preferred approach.\n",
                        " |      \n",
                        " |      Examples\n",
                        " |      --------\n",
                        " |      >>> x = np.array([1, 2, 3, 4])\n",
                        " |      >>> x.shape\n",
                        " |      (4,)\n",
                        " |      >>> y = np.zeros((2, 3, 4))\n",
                        " |      >>> y.shape\n",
                        " |      (2, 3, 4)\n",
                        " |      >>> y.shape = (3, 8)\n",
                        " |      >>> y\n",
                        " |      array([[ 0.,  0.,  0.,  0.,  0.,  0.,  0.,  0.],\n",
                        " |             [ 0.,  0.,  0.,  0.,  0.,  0.,  0.,  0.],\n",
                        " |             [ 0.,  0.,  0.,  0.,  0.,  0.,  0.,  0.]])\n",
                        " |      >>> y.shape = (3, 6)\n",
                        " |      Traceback (most recent call last):\n",
                        " |        File \"<stdin>\", line 1, in <module>\n",
                        " |      ValueError: total size of new array must be unchanged\n",
                        " |      >>> np.zeros((4,2))[::2].shape = (-1,)\n",
                        " |      Traceback (most recent call last):\n",
                        " |        File \"<stdin>\", line 1, in <module>\n",
                        " |      AttributeError: Incompatible shape for in-place modification. Use\n",
                        " |      `.reshape()` to make a copy with the desired shape.\n",
                        " |      \n",
                        " |      See Also\n",
                        " |      --------\n",
                        " |      numpy.shape : Equivalent getter function.\n",
                        " |      numpy.reshape : Function similar to setting ``shape``.\n",
                        " |      ndarray.reshape : Method similar to setting ``shape``.\n",
                        " |  \n",
                        " |  size\n",
                        " |      Number of elements in the array.\n",
                        " |      \n",
                        " |      Equal to ``np.prod(a.shape)``, i.e., the product of the array's\n",
                        " |      dimensions.\n",
                        " |      \n",
                        " |      Notes\n",
                        " |      -----\n",
                        " |      `a.size` returns a standard arbitrary precision Python integer. This\n",
                        " |      may not be the case with other methods of obtaining the same value\n",
                        " |      (like the suggested ``np.prod(a.shape)``, which returns an instance\n",
                        " |      of ``np.int_``), and may be relevant if the value is used further in\n",
                        " |      calculations that may overflow a fixed size integer type.\n",
                        " |      \n",
                        " |      Examples\n",
                        " |      --------\n",
                        " |      >>> x = np.zeros((3, 5, 2), dtype=np.complex128)\n",
                        " |      >>> x.size\n",
                        " |      30\n",
                        " |      >>> np.prod(x.shape)\n",
                        " |      30\n",
                        " |  \n",
                        " |  strides\n",
                        " |      Tuple of bytes to step in each dimension when traversing an array.\n",
                        " |      \n",
                        " |      The byte offset of element ``(i[0], i[1], ..., i[n])`` in an array `a`\n",
                        " |      is::\n",
                        " |      \n",
                        " |          offset = sum(np.array(i) * a.strides)\n",
                        " |      \n",
                        " |      A more detailed explanation of strides can be found in the\n",
                        " |      \"ndarray.rst\" file in the NumPy reference guide.\n",
                        " |      \n",
                        " |      .. warning::\n",
                        " |      \n",
                        " |          Setting ``arr.strides`` is discouraged and may be deprecated in the\n",
                        " |          future.  `numpy.lib.stride_tricks.as_strided` should be preferred\n",
                        " |          to create a new view of the same data in a safer way.\n",
                        " |      \n",
                        " |      Notes\n",
                        " |      -----\n",
                        " |      Imagine an array of 32-bit integers (each 4 bytes)::\n",
                        " |      \n",
                        " |        x = np.array([[0, 1, 2, 3, 4],\n",
                        " |                      [5, 6, 7, 8, 9]], dtype=np.int32)\n",
                        " |      \n",
                        " |      This array is stored in memory as 40 bytes, one after the other\n",
                        " |      (known as a contiguous block of memory).  The strides of an array tell\n",
                        " |      us how many bytes we have to skip in memory to move to the next position\n",
                        " |      along a certain axis.  For example, we have to skip 4 bytes (1 value) to\n",
                        " |      move to the next column, but 20 bytes (5 values) to get to the same\n",
                        " |      position in the next row.  As such, the strides for the array `x` will be\n",
                        " |      ``(20, 4)``.\n",
                        " |      \n",
                        " |      See Also\n",
                        " |      --------\n",
                        " |      numpy.lib.stride_tricks.as_strided\n",
                        " |      \n",
                        " |      Examples\n",
                        " |      --------\n",
                        " |      >>> y = np.reshape(np.arange(2*3*4), (2,3,4))\n",
                        " |      >>> y\n",
                        " |      array([[[ 0,  1,  2,  3],\n",
                        " |              [ 4,  5,  6,  7],\n",
                        " |              [ 8,  9, 10, 11]],\n",
                        " |             [[12, 13, 14, 15],\n",
                        " |              [16, 17, 18, 19],\n",
                        " |              [20, 21, 22, 23]]])\n",
                        " |      >>> y.strides\n",
                        " |      (48, 16, 4)\n",
                        " |      >>> y[1,1,1]\n",
                        " |      17\n",
                        " |      >>> offset=sum(y.strides * np.array((1,1,1)))\n",
                        " |      >>> offset/y.itemsize\n",
                        " |      17\n",
                        " |      \n",
                        " |      >>> x = np.reshape(np.arange(5*6*7*8), (5,6,7,8)).transpose(2,3,1,0)\n",
                        " |      >>> x.strides\n",
                        " |      (32, 4, 224, 1344)\n",
                        " |      >>> i = np.array([3,5,2,2])\n",
                        " |      >>> offset = sum(i * x.strides)\n",
                        " |      >>> x[3,5,2,2]\n",
                        " |      813\n",
                        " |      >>> offset / x.itemsize\n",
                        " |      813\n",
                        " |  \n",
                        " |  ----------------------------------------------------------------------\n",
                        " |  Data and other attributes defined here:\n",
                        " |  \n",
                        " |  __hash__ = None\n",
                        "\n"
                    ]
                }
            ],
            "source": [
                "# numpy.ndarray\n",
                "help(np.ndarray)\n"
            ]
        },
        {
            "cell_type": "code",
            "execution_count": 6,
            "metadata": {},
            "outputs": [
                {
                    "data": {
                        "text/plain": [
                            "array([[[7.80286981e-312, 2.81617418e-322],\n",
                            "        [0.00000000e+000, 0.00000000e+000],\n",
                            "        [1.20953760e-312, 2.46567317e+179]],\n",
                            "\n",
                            "       [[4.51252700e-090, 4.66148514e-033],\n",
                            "        [8.46268183e+164, 2.78934081e+179],\n",
                            "        [6.48224659e+170, 4.93432906e+257]]])"
                        ]
                    },
                    "execution_count": 6,
                    "metadata": {},
                    "output_type": "execute_result"
                }
            ],
            "source": [
                "# konstruktor můžeme použít pro vytvoření pole\n",
                "# hlavní povinný parametr je shape = velikost v jednotlivých dimenzích\n",
                "A = np.ndarray(shape=(2, 3, 2))\n",
                "A\n"
            ]
        },
        {
            "attachments": {},
            "cell_type": "markdown",
            "metadata": {},
            "source": [
                "Toto ale není běžný způsob, jakým bychom si `numpy` pole vytvářeli. Většinou budeme chtít pole s nějakými konkétními hodnotami. Zde se pouze alokovala paměť ale její hodnota není definována = je taková jaké bity byly na daném místě v paměti předtím.\n"
            ]
        },
        {
            "attachments": {},
            "cell_type": "markdown",
            "metadata": {},
            "source": [
                "## Vlastnosti `ndarray`\n",
                "\n",
                "`ndarray` má mnoho zajímavách metod a atributů. Některé z nich jsou:\n",
                "- `ndarray.ndim` - počet rozměrů\n",
                "- `ndarray.shape` - velikost pole v jednotlivých rozměrech\n",
                "- `ndarray.size` - celkový počet prvků v poli\n",
                "- `ndarray.dtype` - typ prvků v poli\n",
                "- `ndarray.itemsize` - velikost jednoho prvku v bajtech\n",
                "- `ndarray.nbytes` - celková velikost pole v bajtech\n",
                "- `ndarray.strides` - posuny v bajtech mezi jednotlivými prvky v jednotlivých rozměrech\n",
                "- `ndarray.data` - buffer obsahující samotná data\n",
                "- ...\n"
            ]
        },
        {
            "cell_type": "code",
            "execution_count": 7,
            "metadata": {},
            "outputs": [
                {
                    "data": {
                        "text/plain": [
                            "['T',\n",
                            " '__abs__',\n",
                            " '__add__',\n",
                            " '__and__',\n",
                            " '__array__',\n",
                            " '__array_finalize__',\n",
                            " '__array_function__',\n",
                            " '__array_interface__',\n",
                            " '__array_prepare__',\n",
                            " '__array_priority__',\n",
                            " '__array_struct__',\n",
                            " '__array_ufunc__',\n",
                            " '__array_wrap__',\n",
                            " '__bool__',\n",
                            " '__class__',\n",
                            " '__class_getitem__',\n",
                            " '__complex__',\n",
                            " '__contains__',\n",
                            " '__copy__',\n",
                            " '__deepcopy__',\n",
                            " '__delattr__',\n",
                            " '__delitem__',\n",
                            " '__dir__',\n",
                            " '__divmod__',\n",
                            " '__dlpack__',\n",
                            " '__dlpack_device__',\n",
                            " '__doc__',\n",
                            " '__eq__',\n",
                            " '__float__',\n",
                            " '__floordiv__',\n",
                            " '__format__',\n",
                            " '__ge__',\n",
                            " '__getattribute__',\n",
                            " '__getitem__',\n",
                            " '__getstate__',\n",
                            " '__gt__',\n",
                            " '__hash__',\n",
                            " '__iadd__',\n",
                            " '__iand__',\n",
                            " '__ifloordiv__',\n",
                            " '__ilshift__',\n",
                            " '__imatmul__',\n",
                            " '__imod__',\n",
                            " '__imul__',\n",
                            " '__index__',\n",
                            " '__init__',\n",
                            " '__init_subclass__',\n",
                            " '__int__',\n",
                            " '__invert__',\n",
                            " '__ior__',\n",
                            " '__ipow__',\n",
                            " '__irshift__',\n",
                            " '__isub__',\n",
                            " '__iter__',\n",
                            " '__itruediv__',\n",
                            " '__ixor__',\n",
                            " '__le__',\n",
                            " '__len__',\n",
                            " '__lshift__',\n",
                            " '__lt__',\n",
                            " '__matmul__',\n",
                            " '__mod__',\n",
                            " '__mul__',\n",
                            " '__ne__',\n",
                            " '__neg__',\n",
                            " '__new__',\n",
                            " '__or__',\n",
                            " '__pos__',\n",
                            " '__pow__',\n",
                            " '__radd__',\n",
                            " '__rand__',\n",
                            " '__rdivmod__',\n",
                            " '__reduce__',\n",
                            " '__reduce_ex__',\n",
                            " '__repr__',\n",
                            " '__rfloordiv__',\n",
                            " '__rlshift__',\n",
                            " '__rmatmul__',\n",
                            " '__rmod__',\n",
                            " '__rmul__',\n",
                            " '__ror__',\n",
                            " '__rpow__',\n",
                            " '__rrshift__',\n",
                            " '__rshift__',\n",
                            " '__rsub__',\n",
                            " '__rtruediv__',\n",
                            " '__rxor__',\n",
                            " '__setattr__',\n",
                            " '__setitem__',\n",
                            " '__setstate__',\n",
                            " '__sizeof__',\n",
                            " '__str__',\n",
                            " '__sub__',\n",
                            " '__subclasshook__',\n",
                            " '__truediv__',\n",
                            " '__xor__',\n",
                            " 'all',\n",
                            " 'any',\n",
                            " 'argmax',\n",
                            " 'argmin',\n",
                            " 'argpartition',\n",
                            " 'argsort',\n",
                            " 'astype',\n",
                            " 'base',\n",
                            " 'byteswap',\n",
                            " 'choose',\n",
                            " 'clip',\n",
                            " 'compress',\n",
                            " 'conj',\n",
                            " 'conjugate',\n",
                            " 'copy',\n",
                            " 'ctypes',\n",
                            " 'cumprod',\n",
                            " 'cumsum',\n",
                            " 'data',\n",
                            " 'diagonal',\n",
                            " 'dot',\n",
                            " 'dtype',\n",
                            " 'dump',\n",
                            " 'dumps',\n",
                            " 'fill',\n",
                            " 'flags',\n",
                            " 'flat',\n",
                            " 'flatten',\n",
                            " 'getfield',\n",
                            " 'imag',\n",
                            " 'item',\n",
                            " 'itemset',\n",
                            " 'itemsize',\n",
                            " 'max',\n",
                            " 'mean',\n",
                            " 'min',\n",
                            " 'nbytes',\n",
                            " 'ndim',\n",
                            " 'newbyteorder',\n",
                            " 'nonzero',\n",
                            " 'partition',\n",
                            " 'prod',\n",
                            " 'ptp',\n",
                            " 'put',\n",
                            " 'ravel',\n",
                            " 'real',\n",
                            " 'repeat',\n",
                            " 'reshape',\n",
                            " 'resize',\n",
                            " 'round',\n",
                            " 'searchsorted',\n",
                            " 'setfield',\n",
                            " 'setflags',\n",
                            " 'shape',\n",
                            " 'size',\n",
                            " 'sort',\n",
                            " 'squeeze',\n",
                            " 'std',\n",
                            " 'strides',\n",
                            " 'sum',\n",
                            " 'swapaxes',\n",
                            " 'take',\n",
                            " 'tobytes',\n",
                            " 'tofile',\n",
                            " 'tolist',\n",
                            " 'tostring',\n",
                            " 'trace',\n",
                            " 'transpose',\n",
                            " 'var',\n",
                            " 'view']"
                        ]
                    },
                    "execution_count": 7,
                    "metadata": {},
                    "output_type": "execute_result"
                }
            ],
            "source": [
                "# seznam všech atributů a metod\n",
                "dir(A)\n"
            ]
        },
        {
            "cell_type": "code",
            "execution_count": 8,
            "metadata": {},
            "outputs": [
                {
                    "name": "stdout",
                    "output_type": "stream",
                    "text": [
                        "3\n",
                        "(2, 3, 2)\n",
                        "12\n",
                        "float64\n",
                        "8\n",
                        "96\n",
                        "(48, 16, 8)\n",
                        "<memory at 0x0000016FB91E65C0>\n"
                    ]
                }
            ],
            "source": [
                "print(A.ndim)\n",
                "print(A.shape)\n",
                "print(A.size)\n",
                "\n",
                "print(A.dtype)\n",
                "\n",
                "print(A.itemsize)\n",
                "print(A.nbytes)\n",
                "print(A.strides)\n",
                "\n",
                "print(A.data)\n"
            ]
        },
        {
            "attachments": {},
            "cell_type": "markdown",
            "metadata": {},
            "source": [
                "Běžně se používá pořadí prvků v paměti jako C (row-major), je možné nastavit pořadí jako Fortran (column-major) a to pomocí atributu `order`."
            ]
        },
        {
            "cell_type": "code",
            "execution_count": null,
            "metadata": {},
            "outputs": [],
            "source": [
                "# vytvoření pole s jiným vnitřním pořadím\n",
                "A = np.ndarray(shape=(2, 3, 2), order='F')\n",
                "print(A.strides)\n"
            ]
        },
        {
            "attachments": {},
            "cell_type": "markdown",
            "metadata": {},
            "source": [
                "## Typy prvků v numpy poli\n",
                "Obecný objekt pro reprezentaci datového typu v `numpy` je `dtype`, který obsahuje veškeré informace o datovém typu.\n",
                "\n",
                "Nicméně, vetšinou nám stačí velmi jednoduchý typ jako je například `int`, `float` a v těchto případech nemusíme typ zadávat pomocí objektu `dtype`.\n",
                "\n",
                "\n",
                "**Základní typy:**\n",
                "\n",
                "Celá čísla:\n",
                "- `numpy.int8` - 8-bit integer\n",
                "- `numpy.int16` - 16-bit integer\n",
                "- `numpy.int32` - 32-bit integer\n",
                "- `numpy.int64` - 64-bit integer\n",
                "- třídu `int` (bez `numpy.`) - zvolí velikost integeru podle platformy (32-bit integer na 32-bit platformě, 64-bit integer na 64-bit platformě)\n",
                "\n",
                "Desetinná čísla:\n",
                "- `numpy.float16` - 16-bit floating point\n",
                "- `numpy.float32` - 32-bit floating point\n",
                "- `numpy.float64` - 64-bit floating point\n",
                "- `numpy.float128` - 128-bit floating point\n",
                "- třída `float` (bez `numpy.`) - zvolí velikost floating point podle platformy (32-bit floating point na 32-bit platformě, 64-bit floating point na 64-bit platformě)\n",
                "\n",
                "Komplexní čísla:\n",
                "- `numpy.complex64` - 64-bit complex number\n",
                "- `numpy.complex128` - 128-bit complex number\n",
                "- `numpy.complex256` - 256-bit complex number\n",
                "- třídu `complex` (bez `numpy.`) - zvolí velikost complex number podle platformy (64-bit complex number na 32-bit platformě, 128-bit complex number na 64-bit platformě)\n",
                "\n",
                "Boolean:\n",
                "- `bool` (bez `numpy.`)  - boolean"
            ]
        },
        {
            "cell_type": "code",
            "execution_count": 9,
            "metadata": {},
            "outputs": [
                {
                    "name": "stdout",
                    "output_type": "stream",
                    "text": [
                        "[1]\n",
                        "1\n",
                        "---\n",
                        "[1024]\n",
                        "2\n",
                        "---\n",
                        "[0]\n",
                        "4\n",
                        "---\n",
                        "[8462385098680267893]\n",
                        "8\n",
                        "---\n",
                        "[0]\n",
                        "4\n"
                    ]
                }
            ],
            "source": [
                "A = np.ndarray(shape=(1), dtype=np.int8)\n",
                "print(A)\n",
                "print(A.itemsize)\n",
                "print(\"---\")\n",
                "A = np.ndarray(shape=(1), dtype=np.int16)\n",
                "print(A)\n",
                "print(A.itemsize)\n",
                "print(\"---\")\n",
                "A = np.ndarray(shape=(1), dtype=np.int32)\n",
                "print(A)\n",
                "print(A.itemsize)\n",
                "print(\"---\")\n",
                "A = np.ndarray(shape=(1), dtype=np.int64)\n",
                "print(A)\n",
                "print(A.itemsize)\n",
                "print(\"---\")\n",
                "A = np.ndarray(shape=(1), dtype=int)\n",
                "print(A)\n",
                "print(A.itemsize)\n"
            ]
        },
        {
            "cell_type": "code",
            "execution_count": null,
            "metadata": {},
            "outputs": [],
            "source": [
                "A = np.ndarray(shape=(1), dtype=np.float16)\n",
                "print(A)\n",
                "print(A.itemsize)\n",
                "print(\"---\")\n",
                "A = np.ndarray(shape=(1), dtype=np.float32)\n",
                "print(A)\n",
                "print(A.itemsize)\n",
                "print(\"---\")\n",
                "A = np.ndarray(shape=(1), dtype=np.float64)\n",
                "print(A)\n",
                "print(A.itemsize)\n",
                "print(\"---\")\n",
                "A = np.ndarray(shape=(1), dtype=np.float128)\n",
                "print(A)\n",
                "print(A.itemsize)\n",
                "print(\"---\")\n",
                "A = np.ndarray(shape=(1), dtype=float)\n",
                "print(A)\n",
                "print(A.itemsize)\n"
            ]
        },
        {
            "cell_type": "code",
            "execution_count": null,
            "metadata": {},
            "outputs": [],
            "source": [
                "A = np.ndarray(shape=(1), dtype=np.complex64)\n",
                "print(A)\n",
                "print(A.itemsize)\n",
                "print(\"---\")\n",
                "A = np.ndarray(shape=(1), dtype=np.complex128)\n",
                "print(A)\n",
                "print(A.itemsize)\n",
                "print(\"---\")\n",
                "A = np.ndarray(shape=(1), dtype=np.complex256)\n",
                "print(A)\n",
                "print(A.itemsize)\n",
                "print(\"---\")\n",
                "A = np.ndarray(shape=(1), dtype=complex)\n",
                "print(A)\n",
                "print(A.itemsize)\n"
            ]
        },
        {
            "cell_type": "code",
            "execution_count": 24,
            "metadata": {},
            "outputs": [
                {
                    "name": "stdout",
                    "output_type": "stream",
                    "text": [
                        "[ True]\n",
                        "1\n"
                    ]
                }
            ],
            "source": [
                "A = np.ndarray(shape=(1), dtype=bool)\n",
                "print(A)\n",
                "print(A.itemsize)\n"
            ]
        },
        {
            "attachments": {},
            "cell_type": "markdown",
            "metadata": {},
            "source": [
                "**Komplikovanější typy:**\n",
                "\n",
                "Je jich mnoho, může se hodit například\n",
                "- `numpy.datetime64` - datetime64\n",
                "\n",
                "Pokročilejší typy definujeme pomocí objektu `dtype`. Více viz [dokumentace 1](https://numpy.org/doc/stable/reference/generated/numpy.dtype.html) a [dokumentace 2](https://numpy.org/doc/stable/reference/arrays.dtypes.html)."
            ]
        },
        {
            "cell_type": "code",
            "execution_count": null,
            "metadata": {},
            "outputs": [],
            "source": [
                "A = np.array(['2007-07-13', '2006-01-13', '2010-08-13'], dtype=np.datetime64)\n",
                "print(A)\n",
                "print(A.itemsize)\n",
                "print(A.dtype)\n"
            ]
        },
        {
            "attachments": {},
            "cell_type": "markdown",
            "metadata": {},
            "source": [
                "Komplikovanější typy definujeme pomocí objektu `dtype`. Například pro ukázku:\n",
                "\n",
                "```python \n",
                "my_dt = np.dtype([('název prvního sloupce', 'i4'), ('název druhého sloupce', 'f8'), ('název třetího sloupce', 'S5')])\n",
                "```\n",
                "\n",
                "Argumentem funkce np.dtype je seznam n-tic, kde každá n-tice reprezentuje \"sloupec\" v poli NumPy. V tomto příkladu máme tři sloupce.\n",
                "\n",
                "První prvek každé n-tice je název sloupce a druhý prvek je řetězec, který reprezentuje datový typ pro tento sloupec. V tomto příkladu máme:\n",
                "\n",
                "`np.int32` neboli `'i4'`: datový typ celého čísla o velikosti 4 bytů\n",
                "`np.float64` neboli `'f8'`: datový typ s pohyblivou řádovou čárkou o velikosti 8 bytů\n",
                "`np.string_, 5` neboli `'S5'`: datový typ řetězce s maximální délkou 5 bytů"
            ]
        },
        {
            "cell_type": "code",
            "execution_count": 12,
            "metadata": {},
            "outputs": [
                {
                    "name": "stdout",
                    "output_type": "stream",
                    "text": [
                        "[[(1, 2., b'hello') (3, 4., b'world')]\n",
                        " [(5, 6., b'numpy') (5, 6., b'numpy')]]\n",
                        "17\n",
                        "(1, 2., b'hello')\n",
                        "[[b'hello' b'world']\n",
                        " [b'numpy' b'numpy']]\n"
                    ]
                }
            ],
            "source": [
                "# ukazka, kde prvkem je trojice integer, float, string s delkou 5\n",
                "my_dt = np.dtype([('sloupec s číslem', np.int32),\n",
                "                  ('sloupec s floatem', np.float64),\n",
                "                  ('sloupec s pěti znaky', np.string_, 5)])\n",
                "\n",
                "# vytvoříme 2x2 matici se záznami daného typu\n",
                "A = np.array([[(1, 2.0, \"hello\"), (3, 4.0, \"world\")],\n",
                "              [(5, 6.0, \"numpy\"), (5, 6.0, \"numpy\")]], dtype=my_dt)\n",
                "\n",
                "print(A)\n",
                "print(A.itemsize)\n",
                "print(A[0, 0])\n",
                "print(A['sloupec s pěti znaky'])\n"
            ]
        },
        {
            "cell_type": "code",
            "execution_count": null,
            "metadata": {},
            "outputs": [],
            "source": [
                "A[1, 1] = (10, 20.0, \"hello world\")\n",
                "print(A)\n"
            ]
        },
        {
            "attachments": {},
            "cell_type": "markdown",
            "metadata": {},
            "source": [
                "## Vytváření numpy polí\n",
                "Existuje několik základních způsobů, jak vytvořit nové numpy pole:\n",
                "\n",
                "- Z nějakého kontejneru typu seznam (`list`) nebo `tuple`.\n",
                "    - např. `np.array([1, 2, 3])`\n",
                "- Pomocí funkce numpy, která generuje `ndarray` s konkrétními hodnotami\n",
                "    - např. `np.zeros((2, 3))` vytvoří pole o velikosti 2x3, kde jsou všechny prvky rovny 0\n",
                "    - např. `np.ones((2, 3))` vytvoří pole o velikosti 2x3, kde jsou všechny prvky rovny 1\n",
                "    - např. `np.full((2, 3), 5)` vytvoří pole o velikosti 2x3, kde jsou všechny prvky rovny 5\n",
                "    - např. `np.arange(10)` vytvoří pole o velikosti 10, kde jsou všechny prvky rovny 0, 1, 2, 3, 4, 5, 6, 7, 8, 9\n",
                "    - např. `np.linspace(0, 1, 5)` vytvoří pole o velikosti 5, kde jsou všechny prvky rovny 0, 0.25, 0.5, 0.75, 1\n",
                "    - např. `np.logspace(0, 1, 5)` vytvoří pole o velikosti 5, kde jsou všechny prvky rovny 1, 1.778, 3.162, 5.623, 10\n",
                "    - např. `np.random.random((2, 3))` vytvoří pole o velikosti 2x3, kde jsou všechny prvky rovny náhodným číslům z intervalu [0, 1)\n",
                "    - např. `np.random.normal(0, 1, (2, 3))` vytvoří pole o velikosti 2x3, kde jsou všechny prvky rovny náhodným číslům z normálního rozdělení s průměrem 0 a směrodatnou odchylkou 1\n",
                "    - např. `np.random.randint(0, 10, (2, 3))` vytvoří pole o velikosti 2x3, kde jsou všechny prvky rovny náhodným celým číslům z intervalu [0, 10)\n",
                "    - Z jiného numpy pole\n",
                "        - např. pomocí výběru (slicing), pozor na to, že se vytvoří nové pole, které sdílí data s původním polem (view)\n",
                "        - např. pomocí `np.diag` pro vytvoření pole z diagonály jiného pole\n",
                "        - např. pomocí `np.diagflat` pro vytvoření pole s diagonálou z jiného pole\n",
                "        - např. pomocí `np.triu` pro vytvoření pole s horní trojúhelníkovou maticí z jiného pole\n",
                "        - např. pomocí `np.tril` pro vytvoření pole s dolní trojúhelníkovou maticí z jiného pole\n",
                "        - např. pomocí slepení (concatenation) pomocí `np.concatenate`, `np.vstack`, `np.hstack`\n",
                "        - např. pomocí `np.repeat` a `np.tile` pro opakování pole\n",
                "- Načtením ze souboru\n",
                "    - např. `np.loadtxt('filename.txt')` načte pole ze souboru `filename.txt`\n",
                "    - např. `np.genfromtxt('filename.txt', delimiter=',')` načte pole ze souboru `filename.txt` s oddělovačem čárka\n"
            ]
        },
        {
            "attachments": {},
            "cell_type": "markdown",
            "metadata": {},
            "source": [
                "### Vytváření numpy polí z python kontejnerů"
            ]
        },
        {
            "cell_type": "code",
            "execution_count": 10,
            "metadata": {},
            "outputs": [
                {
                    "name": "stdout",
                    "output_type": "stream",
                    "text": [
                        "[1 2 3 4 5]\n",
                        "int32\n"
                    ]
                }
            ],
            "source": [
                "muj_list = [1, 2, 3, 4, 5]\n",
                "A = np.array(muj_list)\n",
                "print(A)\n",
                "print(A.dtype)\n"
            ]
        },
        {
            "cell_type": "markdown",
            "metadata": {},
            "source": [
                "Vícerozměrné pole (matice) se vytvoří z vnořeného seznamu."
            ]
        },
        {
            "cell_type": "code",
            "execution_count": 11,
            "metadata": {
                "jupyter": {
                    "outputs_hidden": false
                }
            },
            "outputs": [
                {
                    "data": {
                        "text/plain": [
                            "array([[1, 2],\n",
                            "       [3, 4]])"
                        ]
                    },
                    "execution_count": 11,
                    "metadata": {},
                    "output_type": "execute_result"
                }
            ],
            "source": [
                "matrix = np.array([[1, 2], [3, 4]])\n",
                "matrix\n"
            ]
        },
        {
            "cell_type": "code",
            "execution_count": 13,
            "metadata": {},
            "outputs": [
                {
                    "name": "stdout",
                    "output_type": "stream",
                    "text": [
                        "[1 2 3 4 5]\n",
                        "int32\n"
                    ]
                }
            ],
            "source": [
                "muj_touple = (1, 2, 3, 4, 5)\n",
                "A = np.array(muj_touple)\n",
                "print(A)\n",
                "print(A.dtype)\n"
            ]
        },
        {
            "attachments": {},
            "cell_type": "markdown",
            "metadata": {},
            "source": [
                "Ze `set` a `dict` se vytvoří něco jiného než bychom asi očekávali."
            ]
        },
        {
            "cell_type": "code",
            "execution_count": 14,
            "metadata": {},
            "outputs": [
                {
                    "name": "stdout",
                    "output_type": "stream",
                    "text": [
                        "{1, 2, 3, 4, 5}\n",
                        "<class 'numpy.ndarray'>\n",
                        "object\n",
                        "()\n",
                        "1\n",
                        "0\n",
                        "8\n"
                    ]
                }
            ],
            "source": [
                "muj_set = {1, 2, 3, 4, 5}\n",
                "A = np.array(muj_set)\n",
                "print(A)\n",
                "print(type(A))\n",
                "print(A.dtype)\n",
                "print(A.shape)\n",
                "print(A.size)\n",
                "print(A.ndim)\n",
                "print(A.itemsize)\n"
            ]
        },
        {
            "cell_type": "code",
            "execution_count": 15,
            "metadata": {},
            "outputs": [
                {
                    "name": "stdout",
                    "output_type": "stream",
                    "text": [
                        "{'a': 1, 'b': 2, 'c': 3, 'd': 4, 'e': 5}\n",
                        "<class 'numpy.ndarray'>\n",
                        "object\n",
                        "()\n",
                        "1\n",
                        "0\n",
                        "8\n"
                    ]
                }
            ],
            "source": [
                "muj_dict = {'a': 1, 'b': 2, 'c': 3, 'd': 4, 'e': 5}\n",
                "A = np.array(muj_dict)\n",
                "print(A)\n",
                "print(type(A))\n",
                "print(A.dtype)\n",
                "print(A.shape)\n",
                "print(A.size)\n",
                "print(A.ndim)\n",
                "print(A.itemsize)\n"
            ]
        },
        {
            "attachments": {},
            "cell_type": "markdown",
            "metadata": {},
            "source": [
                "### Numpy funkce pro vytváření ndarray\n",
                "Zejména velká pole by bylo nepraktické inicializovat pomocí seznamů. Naštěstí v numpy existují [funkce](http://docs.scipy.org/doc/numpy/reference/routines.array-creation.html), které generují typická pole."
            ]
        },
        {
            "attachments": {},
            "cell_type": "markdown",
            "metadata": {},
            "source": [
                "**`arange`** vygeneruje posloupnost, syntaxe je stejná jako `range`, ale funguje i pro desetinná a záporná čísla."
            ]
        },
        {
            "cell_type": "code",
            "execution_count": 16,
            "metadata": {
                "jupyter": {
                    "outputs_hidden": false
                }
            },
            "outputs": [
                {
                    "data": {
                        "text/plain": [
                            "array([0, 1, 2, 3, 4, 5, 6, 7, 8, 9])"
                        ]
                    },
                    "execution_count": 16,
                    "metadata": {},
                    "output_type": "execute_result"
                }
            ],
            "source": [
                "np.arange(0, 10, 1)  # argumenty: start, stop, step\n"
            ]
        },
        {
            "cell_type": "code",
            "execution_count": 17,
            "metadata": {
                "jupyter": {
                    "outputs_hidden": false
                }
            },
            "outputs": [
                {
                    "data": {
                        "text/plain": [
                            "array([-1. , -0.9, -0.8, -0.7, -0.6, -0.5, -0.4, -0.3, -0.2, -0.1])"
                        ]
                    },
                    "execution_count": 17,
                    "metadata": {},
                    "output_type": "execute_result"
                }
            ],
            "source": [
                "np.arange(-1, 0, 0.1)"
            ]
        },
        {
            "cell_type": "markdown",
            "metadata": {},
            "source": [
                "**`linspace`** a **`logspace`** vytváří posloupnosti s daným počtem prvků."
            ]
        },
        {
            "cell_type": "code",
            "execution_count": 8,
            "metadata": {
                "jupyter": {
                    "outputs_hidden": false
                }
            },
            "outputs": [
                {
                    "data": {
                        "text/plain": [
                            "array([ 0. ,  2.5,  5. ,  7.5, 10. ])"
                        ]
                    },
                    "execution_count": 8,
                    "metadata": {},
                    "output_type": "execute_result"
                }
            ],
            "source": [
                "# první a poslední prvek jsou obsaženy ve výsledku\n",
                "# argumenty jsou odkud, kam, kolik prvků\n",
                "np.linspace(0, 10, 5)\n"
            ]
        },
        {
            "cell_type": "code",
            "execution_count": 19,
            "metadata": {
                "jupyter": {
                    "outputs_hidden": false
                }
            },
            "outputs": [
                {
                    "data": {
                        "text/plain": [
                            "array([1.e+00, 1.e+01, 1.e+02, 1.e+03, 1.e+04, 1.e+05, 1.e+06, 1.e+07,\n",
                            "       1.e+08, 1.e+09, 1.e+10])"
                        ]
                    },
                    "execution_count": 19,
                    "metadata": {},
                    "output_type": "execute_result"
                }
            ],
            "source": [
                "# podobně jako linspace, ale výsledek je base**x\n",
                "np.logspace(0, 10, 11, base=10)\n"
            ]
        },
        {
            "cell_type": "markdown",
            "metadata": {},
            "source": [
                "**`ones`** a **`zeros`** vytvoří pole ze samých nul nebo jedniček."
            ]
        },
        {
            "cell_type": "code",
            "execution_count": 20,
            "metadata": {
                "jupyter": {
                    "outputs_hidden": false
                }
            },
            "outputs": [
                {
                    "data": {
                        "text/plain": [
                            "array([1., 1., 1.])"
                        ]
                    },
                    "execution_count": 20,
                    "metadata": {},
                    "output_type": "execute_result"
                }
            ],
            "source": [
                "np.ones(3)\n"
            ]
        },
        {
            "cell_type": "code",
            "execution_count": 21,
            "metadata": {
                "jupyter": {
                    "outputs_hidden": false
                }
            },
            "outputs": [
                {
                    "data": {
                        "text/plain": [
                            "array([[0., 0., 0.],\n",
                            "       [0., 0., 0.]])"
                        ]
                    },
                    "execution_count": 21,
                    "metadata": {},
                    "output_type": "execute_result"
                }
            ],
            "source": [
                "# pokud chceme 2 a více rozměrů, musíme zadat rozměr jako tuple\n",
                "np.zeros((2, 3))\n"
            ]
        },
        {
            "cell_type": "code",
            "execution_count": 22,
            "metadata": {},
            "outputs": [
                {
                    "data": {
                        "text/plain": [
                            "array([['hello world', 'hello world', 'hello world'],\n",
                            "       ['hello world', 'hello world', 'hello world']], dtype='<U11')"
                        ]
                    },
                    "execution_count": 22,
                    "metadata": {},
                    "output_type": "execute_result"
                }
            ],
            "source": [
                "# matice s string hodnotami pomocí np.full\n",
                "np.full((2, 3), \"hello world\")"
            ]
        },
        {
            "attachments": {},
            "cell_type": "markdown",
            "metadata": {},
            "source": [
                "- **`meshgrid`** je funkce která tvoří pravidelnou mřížku bodů dle dělení v jednotlivých dimenzích \n",
                "- **`mgrid`** je jakási \"zkratka\" pro **`meshgrid`**, jedná se o objek třídy `MGridClass` který má metodu **`__getitem__`** která umožňuje zadání pomocí indexů (např. `mgrid[0:5, 0:5]`) - **velmi nestandardní syntaxe**!\n",
                "    - Navíc: z dokumentace třídy: \"However, if the step length is a **complex number** (e.g. 5j), then\n",
                "    the integer part of its magnitude is interpreted as specifying the\n",
                "    number of points to create between the start and stop values, where\n",
                "    the stop value **is inclusive**.\"\n",
                "    - oproti `mashgrid` jsou argumenty (oddělené čárkou), v jiném pořadí protože osa `x` jsou sloupce a osa `y` jsou řádky (při indexování v `[ ]`)\n",
                "- **`ogrid`** funguje stejně jako **`mgrid`**, ale vrací pouze 1D pole reprezentující hrany mřížky (např. `ogrid[0:5, 0:5]` vrací 2 pole o velikosti 5, které obsahují hodnoty 0, 1, 2, 3, 4)"
            ]
        },
        {
            "cell_type": "code",
            "execution_count": 9,
            "metadata": {},
            "outputs": [
                {
                    "name": "stdout",
                    "output_type": "stream",
                    "text": [
                        "[-1.         -0.33333333  0.33333333  1.        ]\n",
                        "[1.  1.5 2. ]\n",
                        "[[-1.         -0.33333333  0.33333333  1.        ]\n",
                        " [-1.         -0.33333333  0.33333333  1.        ]\n",
                        " [-1.         -0.33333333  0.33333333  1.        ]]\n",
                        "[[1.  1.  1.  1. ]\n",
                        " [1.5 1.5 1.5 1.5]\n",
                        " [2.  2.  2.  2. ]]\n"
                    ]
                }
            ],
            "source": [
                "# mashgrid\n",
                "x = np.linspace(-1, 1, 4)\n",
                "y = np.linspace(1, 2, 3)\n",
                "X, Y = np.meshgrid(x, y)\n",
                "print(x)\n",
                "print(y)\n",
                "print(X)\n",
                "print(Y)"
            ]
        },
        {
            "cell_type": "code",
            "execution_count": null,
            "metadata": {
                "jupyter": {
                    "outputs_hidden": false
                }
            },
            "outputs": [],
            "source": [
                "# všimněte si syntaxe s hranatými závorkami, mgrid se nevolá jako funkce\n",
                "X, Y = np.mgrid[0:0.6:0.2, 0:0.6:0.2]\n",
                "print(X)\n",
                "print(Y)\n",
                "Y, X = np.mgrid[1:2:3j, -1:1:4j]\n",
                "print(X)\n",
                "print(Y)"
            ]
        },
        {
            "cell_type": "code",
            "execution_count": 12,
            "metadata": {},
            "outputs": [
                {
                    "ename": "AttributeError",
                    "evalue": "module 'numpy' has no attribute 'max'",
                    "output_type": "error",
                    "traceback": [
                        "\u001b[1;31m---------------------------------------------------------------------------\u001b[0m",
                        "\u001b[1;31mAttributeError\u001b[0m                            Traceback (most recent call last)",
                        "Cell \u001b[1;32mIn[12], line 3\u001b[0m\n\u001b[0;32m      1\u001b[0m \u001b[39m# výstupy jsou řádkové a sloupcové vektory\u001b[39;00m\n\u001b[0;32m      2\u001b[0m y, x \u001b[39m=\u001b[39m np\u001b[39m.\u001b[39mogrid[\u001b[39m1\u001b[39m:\u001b[39m2\u001b[39m:\u001b[39m3\u001b[39mj, \u001b[39m-\u001b[39m\u001b[39m1\u001b[39m:\u001b[39m1\u001b[39m:\u001b[39m4\u001b[39mj]\n\u001b[1;32m----> 3\u001b[0m \u001b[39mprint\u001b[39;49m(x)\n\u001b[0;32m      4\u001b[0m \u001b[39mprint\u001b[39m(y)\n",
                        "File \u001b[1;32mc:\\Users\\Lenovo\\AppData\\Local\\Programs\\Python\\Python311\\Lib\\site-packages\\numpy\\core\\arrayprint.py:1588\u001b[0m, in \u001b[0;36m_array_str_implementation\u001b[1;34m(a, max_line_width, precision, suppress_small, array2string)\u001b[0m\n\u001b[0;32m   1582\u001b[0m \u001b[39mif\u001b[39;00m a\u001b[39m.\u001b[39mshape \u001b[39m==\u001b[39m ():\n\u001b[0;32m   1583\u001b[0m     \u001b[39m# obtain a scalar and call str on it, avoiding problems for subclasses\u001b[39;00m\n\u001b[0;32m   1584\u001b[0m     \u001b[39m# for which indexing with () returns a 0d instead of a scalar by using\u001b[39;00m\n\u001b[0;32m   1585\u001b[0m     \u001b[39m# ndarray's getindex. Also guard against recursive 0d object arrays.\u001b[39;00m\n\u001b[0;32m   1586\u001b[0m     \u001b[39mreturn\u001b[39;00m _guarded_repr_or_str(np\u001b[39m.\u001b[39mndarray\u001b[39m.\u001b[39m\u001b[39m__getitem__\u001b[39m(a, ()))\n\u001b[1;32m-> 1588\u001b[0m \u001b[39mreturn\u001b[39;00m array2string(a, max_line_width, precision, suppress_small, \u001b[39m'\u001b[39;49m\u001b[39m \u001b[39;49m\u001b[39m'\u001b[39;49m, \u001b[39m\"\u001b[39;49m\u001b[39m\"\u001b[39;49m)\n",
                        "File \u001b[1;32mc:\\Users\\Lenovo\\AppData\\Local\\Programs\\Python\\Python311\\Lib\\site-packages\\numpy\\core\\arrayprint.py:736\u001b[0m, in \u001b[0;36marray2string\u001b[1;34m(a, max_line_width, precision, suppress_small, separator, prefix, style, formatter, threshold, edgeitems, sign, floatmode, suffix, legacy)\u001b[0m\n\u001b[0;32m    733\u001b[0m \u001b[39mif\u001b[39;00m a\u001b[39m.\u001b[39msize \u001b[39m==\u001b[39m \u001b[39m0\u001b[39m:\n\u001b[0;32m    734\u001b[0m     \u001b[39mreturn\u001b[39;00m \u001b[39m\"\u001b[39m\u001b[39m[]\u001b[39m\u001b[39m\"\u001b[39m\n\u001b[1;32m--> 736\u001b[0m \u001b[39mreturn\u001b[39;00m _array2string(a, options, separator, prefix)\n",
                        "File \u001b[1;32mc:\\Users\\Lenovo\\AppData\\Local\\Programs\\Python\\Python311\\Lib\\site-packages\\numpy\\core\\arrayprint.py:513\u001b[0m, in \u001b[0;36m_recursive_guard.<locals>.decorating_function.<locals>.wrapper\u001b[1;34m(self, *args, **kwargs)\u001b[0m\n\u001b[0;32m    511\u001b[0m repr_running\u001b[39m.\u001b[39madd(key)\n\u001b[0;32m    512\u001b[0m \u001b[39mtry\u001b[39;00m:\n\u001b[1;32m--> 513\u001b[0m     \u001b[39mreturn\u001b[39;00m f(\u001b[39mself\u001b[39;49m, \u001b[39m*\u001b[39;49margs, \u001b[39m*\u001b[39;49m\u001b[39m*\u001b[39;49mkwargs)\n\u001b[0;32m    514\u001b[0m \u001b[39mfinally\u001b[39;00m:\n\u001b[0;32m    515\u001b[0m     repr_running\u001b[39m.\u001b[39mdiscard(key)\n",
                        "File \u001b[1;32mc:\\Users\\Lenovo\\AppData\\Local\\Programs\\Python\\Python311\\Lib\\site-packages\\numpy\\core\\arrayprint.py:539\u001b[0m, in \u001b[0;36m_array2string\u001b[1;34m(a, options, separator, prefix)\u001b[0m\n\u001b[0;32m    536\u001b[0m     summary_insert \u001b[39m=\u001b[39m \u001b[39m\"\u001b[39m\u001b[39m\"\u001b[39m\n\u001b[0;32m    538\u001b[0m \u001b[39m# find the right formatting function for the array\u001b[39;00m\n\u001b[1;32m--> 539\u001b[0m format_function \u001b[39m=\u001b[39m _get_format_function(data, \u001b[39m*\u001b[39;49m\u001b[39m*\u001b[39;49moptions)\n\u001b[0;32m    541\u001b[0m \u001b[39m# skip over \"[\"\u001b[39;00m\n\u001b[0;32m    542\u001b[0m next_line_prefix \u001b[39m=\u001b[39m \u001b[39m\"\u001b[39m\u001b[39m \u001b[39m\u001b[39m\"\u001b[39m\n",
                        "File \u001b[1;32mc:\\Users\\Lenovo\\AppData\\Local\\Programs\\Python\\Python311\\Lib\\site-packages\\numpy\\core\\arrayprint.py:472\u001b[0m, in \u001b[0;36m_get_format_function\u001b[1;34m(data, **options)\u001b[0m\n\u001b[0;32m    470\u001b[0m         \u001b[39mreturn\u001b[39;00m formatdict[\u001b[39m'\u001b[39m\u001b[39mlongfloat\u001b[39m\u001b[39m'\u001b[39m]()\n\u001b[0;32m    471\u001b[0m     \u001b[39melse\u001b[39;00m:\n\u001b[1;32m--> 472\u001b[0m         \u001b[39mreturn\u001b[39;00m formatdict[\u001b[39m'\u001b[39;49m\u001b[39mfloat\u001b[39;49m\u001b[39m'\u001b[39;49m]()\n\u001b[0;32m    473\u001b[0m \u001b[39melif\u001b[39;00m \u001b[39missubclass\u001b[39m(dtypeobj, _nt\u001b[39m.\u001b[39mcomplexfloating):\n\u001b[0;32m    474\u001b[0m     \u001b[39mif\u001b[39;00m \u001b[39missubclass\u001b[39m(dtypeobj, _nt\u001b[39m.\u001b[39mclongfloat):\n",
                        "File \u001b[1;32mc:\\Users\\Lenovo\\AppData\\Local\\Programs\\Python\\Python311\\Lib\\site-packages\\numpy\\core\\arrayprint.py:411\u001b[0m, in \u001b[0;36m_get_formatdict.<locals>.<lambda>\u001b[1;34m()\u001b[0m\n\u001b[0;32m    403\u001b[0m \u001b[39mdef\u001b[39;00m \u001b[39m_get_formatdict\u001b[39m(data, \u001b[39m*\u001b[39m, precision, floatmode, suppress, sign, legacy,\n\u001b[0;32m    404\u001b[0m                     formatter, \u001b[39m*\u001b[39m\u001b[39m*\u001b[39mkwargs):\n\u001b[0;32m    405\u001b[0m     \u001b[39m# note: extra arguments in kwargs are ignored\u001b[39;00m\n\u001b[0;32m    406\u001b[0m \n\u001b[0;32m    407\u001b[0m     \u001b[39m# wrapped in lambdas to avoid taking a code path with the wrong type of data\u001b[39;00m\n\u001b[0;32m    408\u001b[0m     formatdict \u001b[39m=\u001b[39m {\n\u001b[0;32m    409\u001b[0m         \u001b[39m'\u001b[39m\u001b[39mbool\u001b[39m\u001b[39m'\u001b[39m: \u001b[39mlambda\u001b[39;00m: BoolFormat(data),\n\u001b[0;32m    410\u001b[0m         \u001b[39m'\u001b[39m\u001b[39mint\u001b[39m\u001b[39m'\u001b[39m: \u001b[39mlambda\u001b[39;00m: IntegerFormat(data),\n\u001b[1;32m--> 411\u001b[0m         \u001b[39m'\u001b[39m\u001b[39mfloat\u001b[39m\u001b[39m'\u001b[39m: \u001b[39mlambda\u001b[39;00m: FloatingFormat(\n\u001b[0;32m    412\u001b[0m             data, precision, floatmode, suppress, sign, legacy\u001b[39m=\u001b[39;49mlegacy),\n\u001b[0;32m    413\u001b[0m         \u001b[39m'\u001b[39m\u001b[39mlongfloat\u001b[39m\u001b[39m'\u001b[39m: \u001b[39mlambda\u001b[39;00m: FloatingFormat(\n\u001b[0;32m    414\u001b[0m             data, precision, floatmode, suppress, sign, legacy\u001b[39m=\u001b[39mlegacy),\n\u001b[0;32m    415\u001b[0m         \u001b[39m'\u001b[39m\u001b[39mcomplexfloat\u001b[39m\u001b[39m'\u001b[39m: \u001b[39mlambda\u001b[39;00m: ComplexFloatingFormat(\n\u001b[0;32m    416\u001b[0m             data, precision, floatmode, suppress, sign, legacy\u001b[39m=\u001b[39mlegacy),\n\u001b[0;32m    417\u001b[0m         \u001b[39m'\u001b[39m\u001b[39mlongcomplexfloat\u001b[39m\u001b[39m'\u001b[39m: \u001b[39mlambda\u001b[39;00m: ComplexFloatingFormat(\n\u001b[0;32m    418\u001b[0m             data, precision, floatmode, suppress, sign, legacy\u001b[39m=\u001b[39mlegacy),\n\u001b[0;32m    419\u001b[0m         \u001b[39m'\u001b[39m\u001b[39mdatetime\u001b[39m\u001b[39m'\u001b[39m: \u001b[39mlambda\u001b[39;00m: DatetimeFormat(data, legacy\u001b[39m=\u001b[39mlegacy),\n\u001b[0;32m    420\u001b[0m         \u001b[39m'\u001b[39m\u001b[39mtimedelta\u001b[39m\u001b[39m'\u001b[39m: \u001b[39mlambda\u001b[39;00m: TimedeltaFormat(data),\n\u001b[0;32m    421\u001b[0m         \u001b[39m'\u001b[39m\u001b[39mobject\u001b[39m\u001b[39m'\u001b[39m: \u001b[39mlambda\u001b[39;00m: _object_format,\n\u001b[0;32m    422\u001b[0m         \u001b[39m'\u001b[39m\u001b[39mvoid\u001b[39m\u001b[39m'\u001b[39m: \u001b[39mlambda\u001b[39;00m: str_format,\n\u001b[0;32m    423\u001b[0m         \u001b[39m'\u001b[39m\u001b[39mnumpystr\u001b[39m\u001b[39m'\u001b[39m: \u001b[39mlambda\u001b[39;00m: repr_format}\n\u001b[0;32m    425\u001b[0m     \u001b[39m# we need to wrap values in `formatter` in a lambda, so that the interface\u001b[39;00m\n\u001b[0;32m    426\u001b[0m     \u001b[39m# is the same as the above values.\u001b[39;00m\n\u001b[0;32m    427\u001b[0m     \u001b[39mdef\u001b[39;00m \u001b[39mindirect\u001b[39m(x):\n",
                        "File \u001b[1;32mc:\\Users\\Lenovo\\AppData\\Local\\Programs\\Python\\Python311\\Lib\\site-packages\\numpy\\core\\arrayprint.py:932\u001b[0m, in \u001b[0;36mFloatingFormat.__init__\u001b[1;34m(self, data, precision, floatmode, suppress_small, sign, legacy)\u001b[0m\n\u001b[0;32m    929\u001b[0m \u001b[39mself\u001b[39m\u001b[39m.\u001b[39mexp_format \u001b[39m=\u001b[39m \u001b[39mFalse\u001b[39;00m\n\u001b[0;32m    930\u001b[0m \u001b[39mself\u001b[39m\u001b[39m.\u001b[39mlarge_exponent \u001b[39m=\u001b[39m \u001b[39mFalse\u001b[39;00m\n\u001b[1;32m--> 932\u001b[0m \u001b[39mself\u001b[39;49m\u001b[39m.\u001b[39;49mfillFormat(data)\n",
                        "File \u001b[1;32mc:\\Users\\Lenovo\\AppData\\Local\\Programs\\Python\\Python311\\Lib\\site-packages\\numpy\\core\\arrayprint.py:941\u001b[0m, in \u001b[0;36mFloatingFormat.fillFormat\u001b[1;34m(self, data)\u001b[0m\n\u001b[0;32m    939\u001b[0m abs_non_zero \u001b[39m=\u001b[39m absolute(finite_vals[finite_vals \u001b[39m!=\u001b[39m \u001b[39m0\u001b[39m])\n\u001b[0;32m    940\u001b[0m \u001b[39mif\u001b[39;00m \u001b[39mlen\u001b[39m(abs_non_zero) \u001b[39m!=\u001b[39m \u001b[39m0\u001b[39m:\n\u001b[1;32m--> 941\u001b[0m     max_val \u001b[39m=\u001b[39m np\u001b[39m.\u001b[39;49mmax(abs_non_zero)\n\u001b[0;32m    942\u001b[0m     min_val \u001b[39m=\u001b[39m np\u001b[39m.\u001b[39mmin(abs_non_zero)\n\u001b[0;32m    943\u001b[0m     \u001b[39mwith\u001b[39;00m errstate(over\u001b[39m=\u001b[39m\u001b[39m'\u001b[39m\u001b[39mignore\u001b[39m\u001b[39m'\u001b[39m):  \u001b[39m# division can overflow\u001b[39;00m\n",
                        "\u001b[1;31mAttributeError\u001b[0m: module 'numpy' has no attribute 'max'"
                    ]
                }
            ],
            "source": [
                "# výstupy jsou řádkové a sloupcové vektory\n",
                "y, x = np.ogrid[1:2:3j, -1:1:4j]\n",
                "print(x)\n",
                "print(y)\n"
            ]
        },
        {
            "attachments": {},
            "cell_type": "markdown",
            "metadata": {},
            "source": [
                "Náhodná data vytvoří funkce z modulu **`random`**, základní z nich je **`rand`**."
            ]
        },
        {
            "cell_type": "code",
            "execution_count": null,
            "metadata": {
                "jupyter": {
                    "outputs_hidden": false
                }
            },
            "outputs": [],
            "source": [
                "# několik náhodných čísel [0, 1] s rovnoměrným rozdělením\n",
                "print(np.random.rand(4,2))\n",
                "# několik náhodných čísel s normálním rozdělením\n",
                "print(np.random.randn(4,2))\n",
                "# několik náhodných celých čísel\n",
                "print(np.random.randint(0, 10, (4,2)))"
            ]
        },
        {
            "cell_type": "markdown",
            "metadata": {},
            "source": [
                "**`diagflat`** vytvoří diagonální matici, **`diagonal`** vrátí diagonálu matice."
            ]
        },
        {
            "cell_type": "code",
            "execution_count": 32,
            "metadata": {
                "jupyter": {
                    "outputs_hidden": false
                }
            },
            "outputs": [
                {
                    "name": "stdout",
                    "output_type": "stream",
                    "text": [
                        "[[0 0 0 0]\n",
                        " [1 0 0 0]\n",
                        " [0 2 0 0]\n",
                        " [0 0 3 0]]\n"
                    ]
                }
            ],
            "source": [
                "# diagonální matice\n",
                "diag = np.diagflat([1, 2, 3], k=-1)\n",
                "print(diag)\n"
            ]
        },
        {
            "cell_type": "code",
            "execution_count": null,
            "metadata": {
                "jupyter": {
                    "outputs_hidden": false
                }
            },
            "outputs": [],
            "source": [
                "# vrátí diagonálu jako vektor\n",
                "print(np.diagonal(diag))\n"
            ]
        },
        {
            "attachments": {},
            "cell_type": "markdown",
            "metadata": {},
            "source": [
                "Definované výřezy z manice `triu` a `tril` vrací horní a dolní trojúhelníkovou matici. \n",
                "- parametr `k` určuje, o kolik se má diagonála posunout od hlavní diagonály (k=0 je hlavní diagonála, k>0 je diagonála nad hlavní diagonálou, k<0 je diagonála pod hlavní diagonálou)\n",
                "- pozor na `k` při použití s `tril` a `triu` číslování je absolutní = tj. pokud nám jde o vynechání vedlejší diagonály tak musíme použít `k=1` pro triu a `k=-1` pro tril"
            ]
        },
        {
            "cell_type": "code",
            "execution_count": 30,
            "metadata": {},
            "outputs": [
                {
                    "name": "stdout",
                    "output_type": "stream",
                    "text": [
                        "[[1 2 3]\n",
                        " [4 5 6]\n",
                        " [7 8 9]]\n",
                        "[[0 2 3]\n",
                        " [0 0 6]\n",
                        " [0 0 0]]\n",
                        "[[1 2 0]\n",
                        " [4 5 6]\n",
                        " [7 8 9]]\n"
                    ]
                }
            ],
            "source": [
                "A = np.array([[1, 2, 3], [4, 5, 6], [7, 8, 9]])\n",
                "print(A)\n",
                "print(np.triu(A, k=1))\n",
                "print(np.tril(A, k=1))\n"
            ]
        },
        {
            "attachments": {},
            "cell_type": "markdown",
            "metadata": {},
            "source": [
                "Lepení matic pomocí `concatenate`, `vstack` a `hstack`. Dimenze skrze které lepíme musí být shodné."
            ]
        },
        {
            "cell_type": "code",
            "execution_count": null,
            "metadata": {},
            "outputs": [],
            "source": [
                "A = np.array([[1, 2], [4, 5], [7, 8]])\n",
                "B = np.array([[3, 4], [6, 7], [9, 10]])\n",
                "print(A)\n",
                "print(B)\n",
                "print(\"----\")\n",
                "print(np.concatenate((A, B), axis=0))\n",
                "print(np.concatenate((A, B), axis=1))\n",
                "print(\"----\")\n",
                "print(np.vstack((A, B)))\n",
                "print(np.hstack((A, B)))\n"
            ]
        },
        {
            "attachments": {},
            "cell_type": "markdown",
            "metadata": {},
            "source": [
                "### Opakování numpy polí\n",
                "\n",
                "Na opakování máme funkce `repeat` a `tile`"
            ]
        },
        {
            "cell_type": "code",
            "execution_count": 26,
            "metadata": {},
            "outputs": [
                {
                    "data": {
                        "text/plain": [
                            "array([[1, 2],\n",
                            "       [3, 4]])"
                        ]
                    },
                    "execution_count": 26,
                    "metadata": {},
                    "output_type": "execute_result"
                }
            ],
            "source": [
                "a = np.array([[1, 2], [3, 4]])\n",
                "a\n"
            ]
        },
        {
            "cell_type": "code",
            "execution_count": 27,
            "metadata": {},
            "outputs": [
                {
                    "data": {
                        "text/plain": [
                            "array([1, 1, 1, 2, 2, 2, 3, 3, 3, 4, 4, 4])"
                        ]
                    },
                    "execution_count": 27,
                    "metadata": {},
                    "output_type": "execute_result"
                }
            ],
            "source": [
                "# opakování po prvcích\n",
                "np.repeat(a, 3)\n"
            ]
        },
        {
            "cell_type": "code",
            "execution_count": null,
            "metadata": {},
            "outputs": [],
            "source": [
                "# skládání celých polí\n",
                "np.tile(a, (3, 2))\n"
            ]
        },
        {
            "attachments": {},
            "cell_type": "markdown",
            "metadata": {},
            "source": [
                "# Num/y a práce se soubory\n",
                "\n",
                "### ASCII soubory\n",
                "S textovými (ASCII) soubory obsahující data se setkáváme stále často, přestože to z mnoha důvodů není ideální formát. Na čtení ASCII (spadá sem i CSV) máme v Numpy `genfromtxt` a `loadtxt`. V [dokumentaci](http://docs.scipy.org/doc/numpy/reference/routines.io.html) se dozvíte, jak přesně fungují a jaké mají argumenty."
            ]
        },
        {
            "cell_type": "markdown",
            "metadata": {},
            "source": [
                "Pomocí `%%file` vytvoříme soubor `ascii_data_1.txt`"
            ]
        },
        {
            "cell_type": "code",
            "execution_count": null,
            "metadata": {
                "jupyter": {
                    "outputs_hidden": false
                }
            },
            "outputs": [],
            "source": [
                "%%file ascii_data_1.txt\n",
                "1 -6.1 -6.1 -6.1 1\n",
                "2 -15.4 -15.4 -15.4 1\n",
                "3 -15.0 -15.0 -15.0 1\n",
                "4 -19.3 -19.3 -19.3 1\n",
                "5 -16.8 -16.8 -16.8 1\n",
                "6 -11.4 -11.4 -11.4 1\n",
                "7 -7.6 -7.6 -7.6 1\n",
                "8 -7.1 -7.1 -7.1 1\n",
                "9 -10.1 -10.1 -10.1 1\n",
                "10 -9.5 -9.5 -9.5 1\n"
            ]
        },
        {
            "cell_type": "markdown",
            "metadata": {},
            "source": [
                "Nyní se pokusíme soubor načíst pomocí `genfromtxt`."
            ]
        },
        {
            "cell_type": "code",
            "execution_count": null,
            "metadata": {
                "jupyter": {
                    "outputs_hidden": false
                }
            },
            "outputs": [],
            "source": [
                "data = np.genfromtxt('ascii_data_1.txt')\n",
                "print(data)\n"
            ]
        },
        {
            "cell_type": "markdown",
            "metadata": {},
            "source": [
                "`loadtxt` by mělo fungovat také:"
            ]
        },
        {
            "cell_type": "code",
            "execution_count": null,
            "metadata": {
                "jupyter": {
                    "outputs_hidden": false
                }
            },
            "outputs": [],
            "source": [
                "data = np.loadtxt('ascii_data_1.txt')\n",
                "print(data)"
            ]
        },
        {
            "attachments": {},
            "cell_type": "markdown",
            "metadata": {},
            "source": [
                "`savetxt` můžeme použít na uložení\n",
                "- parametr `fmt` určuje formát, který se použije pro uložení dat\n",
                " - např. `fmt=\"%.2f\"` uloží data s 2 desetinnými místy\n",
                " - např. `fmt=\"%6g\"` uloží data s prázdnými místy doplněnými nulami na 6 míst"
            ]
        },
        {
            "cell_type": "code",
            "execution_count": null,
            "metadata": {
                "jupyter": {
                    "outputs_hidden": false
                }
            },
            "outputs": [],
            "source": [
                "np.savetxt(\"ascii_data_1_new.txt\", np.random.rand(5,3), fmt=\"%.2f\")\n",
                "np.savetxt(\"ascii_data_2_new.txt\", data, fmt=\"%6g\")\n"
            ]
        },
        {
            "cell_type": "markdown",
            "metadata": {},
            "source": [
                "Soubor můžeme vypsat:"
            ]
        },
        {
            "cell_type": "code",
            "execution_count": null,
            "metadata": {},
            "outputs": [],
            "source": [
                "%less ascii_data_1_new.txt\n"
            ]
        },
        {
            "cell_type": "code",
            "execution_count": null,
            "metadata": {},
            "outputs": [],
            "source": [
                "%less ascii_data_2_new.txt\n"
            ]
        },
        {
            "attachments": {},
            "cell_type": "markdown",
            "metadata": {},
            "source": [
                "Obecně se snažte textovým souborům (včetně csv apod.) pro numerická data vyhýbat. Jejich formát je vždy do značné míry neurčitý a na disku zabírají zbytečně moc místa. Výhodou je pouze jednoduchost zobrazení v textovém editoru nebo příkazové řadce."
            ]
        },
        {
            "attachments": {},
            "cell_type": "markdown",
            "metadata": {},
            "source": [
                "### Binární formáty\n",
                "\n",
                "Pro numerická data se daleko více hodí binární soubory, které jsou dobře definované a úsporné na místo. Pokud použijeme vhodný a rozšířený formát, nemusíme se bát ani přenositelnosti.\n",
                "\n",
                "Numpy má vlastní NPY formát. Ten je pochopitelně jednoduchý na používání v NumPy, s přenositelností (pro neuživatele Pythonu a obecně další systémy) je to ale už horší. Pomocí `save` a `load` můžete jednoduše ukládat a nahrávat Numpy objekty."
            ]
        },
        {
            "cell_type": "code",
            "execution_count": null,
            "metadata": {
                "jupyter": {
                    "outputs_hidden": false
                }
            },
            "outputs": [],
            "source": [
                "np.save(\"binary_data_1_new.npy\", np.random.rand(5,3))\n"
            ]
        },
        {
            "cell_type": "code",
            "execution_count": null,
            "metadata": {
                "jupyter": {
                    "outputs_hidden": false
                }
            },
            "outputs": [],
            "source": [
                "data = np.load(\"binary_data_1_new.npy\")\n",
                "print(data)"
            ]
        },
        {
            "cell_type": "code",
            "execution_count": null,
            "metadata": {},
            "outputs": [],
            "source": [
                "# pojďmě porovnat kolik místa zabírají jednotlivé soubory\n",
                "data = np.random.rand(100, 100)\n",
                "np.save(\"binary_data_1_new.npy\", data)\n",
                "np.savetxt(\"ascii_data_1_new.txt\", data)\n",
                "%ls -l"
            ]
        },
        {
            "attachments": {},
            "cell_type": "markdown",
            "metadata": {},
            "source": [
                "## HDF5 formát\n",
                "Velice dobrým a rozšířeným standardem je pak [HDF5](https://www.hdfgroup.org/solutions/hdf5/). Pro Python je jednoduché tento foromát používat pomocí knihovny [h5py](https://www.h5py.org/)."
            ]
        },
        {
            "cell_type": "code",
            "execution_count": null,
            "metadata": {},
            "outputs": [],
            "source": [
                "# pokud nemáte h5py nainstalované, můžete jednoduše nainstalovat přímo z notebooku momocí\n",
                "# %conda install h5py\n",
                "# nebo pokud používáte pip prostředí\n",
                "# %pip install h5py\n"
            ]
        },
        {
            "cell_type": "code",
            "execution_count": null,
            "metadata": {},
            "outputs": [],
            "source": [
                "# můžete instalovat přímo z notebooku, stačí odstranit komentář\n",
                "# !pip install h5py -U"
            ]
        },
        {
            "cell_type": "code",
            "execution_count": 28,
            "metadata": {},
            "outputs": [
                {
                    "ename": "ModuleNotFoundError",
                    "evalue": "No module named 'h5py'",
                    "output_type": "error",
                    "traceback": [
                        "\u001b[1;31m---------------------------------------------------------------------------\u001b[0m",
                        "\u001b[1;31mModuleNotFoundError\u001b[0m                       Traceback (most recent call last)",
                        "Cell \u001b[1;32mIn[28], line 1\u001b[0m\n\u001b[1;32m----> 1\u001b[0m \u001b[39mimport\u001b[39;00m \u001b[39mh5py\u001b[39;00m\n",
                        "\u001b[1;31mModuleNotFoundError\u001b[0m: No module named 'h5py'"
                    ]
                }
            ],
            "source": [
                "import h5py\n"
            ]
        },
        {
            "cell_type": "markdown",
            "metadata": {},
            "source": [
                "V HDF5 souborech jsou data ve stromové struktuře (obdoba aresářů a souborů). Soubor se dvěma datasety můžeme vytvořit např. takto:"
            ]
        },
        {
            "cell_type": "code",
            "execution_count": null,
            "metadata": {},
            "outputs": [],
            "source": [
                "data_pole = np.array([[1, 2, 3], [4, 5, 6], [7, 8, 9]], dtype=np.int32)\n",
                "data_binary = np.array([True, False, True, False, True, False], dtype=bool)\n",
                "with h5py.File(\"test_hdf5.h5\", \"w\") as hdf5_file:\n",
                "    hdf5_file.create_dataset(\"data1\", data=data_pole)\n",
                "    hdf5_file.create_dataset(\"data_nahodne\", data=np.random.random_sample((3, 4)))\n",
                "    hdf5_file.create_dataset(\"data_binarni\", data=data_binary)\n"
            ]
        },
        {
            "cell_type": "code",
            "execution_count": null,
            "metadata": {},
            "outputs": [],
            "source": [
                "with h5py.File(\"test_hdf5.h5\", \"r\") as hdf5_file:\n",
                "    data_hdf5 = hdf5_file[\"data1\"]\n",
                "    print(data_hdf5)\n",
                "    # musíme data \"nahrát\" pomocí [:], jinak by byl výsledek jen \"ukazatel\" na data\n",
                "    data_pole = hdf5_file[\"data1\"][:]\n",
                "    data_binary = hdf5_file[\"data_binarni\"][:]\n",
                "    data_nahodne = hdf5_file[\"data_nahodne\"][:]\n",
                "\n"
            ]
        },
        {
            "cell_type": "code",
            "execution_count": null,
            "metadata": {},
            "outputs": [],
            "source": [
                "# \"ukazatel\" na data přestane fungovat, pokud soubor zavřeme\n",
                "data_hdf5\n"
            ]
        },
        {
            "attachments": {},
            "cell_type": "markdown",
            "metadata": {},
            "source": [
                "Jelikož v HDF5 souboru může být velké množství dat (mnoho datasetů, velká data), je čtení dat z HDF5 \"lazy\": Dokud data opravdu nepotřebujeme v paměti (např. v NumPy poli), data zůstávají jen v souboru a v paměti máme jen jejich popis, jakýsi ukazatel na data."
            ]
        },
        {
            "attachments": {},
            "cell_type": "markdown",
            "metadata": {},
            "source": [
                "# Práce s NumPy poli\n"
            ]
        },
        {
            "attachments": {},
            "cell_type": "markdown",
            "metadata": {},
            "source": [
                "## Indexování a řezání\n",
                "Řezání (tzv. slicing) jsme si již ukazovali při indexaci Listů. V NumPy polích funguje stejně. "
            ]
        },
        {
            "cell_type": "code",
            "execution_count": 33,
            "metadata": {},
            "outputs": [
                {
                    "name": "stdout",
                    "output_type": "stream",
                    "text": [
                        "[0.  0.5 1.  1.5 2.  2.5 3. ]\n",
                        "0.5\n",
                        "[0.5 1.  1.5]\n",
                        "[0.5 1.5]\n"
                    ]
                }
            ],
            "source": [
                "vector = np.linspace(0, 3, 7)\n",
                "print(vector)\n",
                "print(vector[1])\n",
                "print(vector[1:4])\n",
                "print(vector[1:4:2])\n"
            ]
        },
        {
            "attachments": {},
            "cell_type": "markdown",
            "metadata": {},
            "source": [
                "Pokud máme více dimenzionální pole (ndarray), adresujeme jednotlivé dimenze pomocí čárky. Např. `a[1,2]` je prvek na druhém řádku a třetím sloupci (indexujeme od 0)."
            ]
        },
        {
            "cell_type": "code",
            "execution_count": 3,
            "metadata": {},
            "outputs": [
                {
                    "name": "stdout",
                    "output_type": "stream",
                    "text": [
                        "2\n",
                        "[1 2 3]\n",
                        "[2 5 8]\n"
                    ]
                }
            ],
            "source": [
                "matrix = np.array([[1, 2, 3], [4, 5, 6], [7, 8, 9]])\n",
                "print(matrix[0, 1])\n",
                "print(matrix[0, :])\n",
                "print(matrix[:, 1])\n",
                "\n"
            ]
        },
        {
            "attachments": {},
            "cell_type": "markdown",
            "metadata": {},
            "source": [
                "Pokud indexujeme výběr jak v řádcích, tak v sloupcích, dostáváme výřez, který splňuje obě podmínky."
            ]
        },
        {
            "cell_type": "code",
            "execution_count": 4,
            "metadata": {
                "jupyter": {
                    "outputs_hidden": false
                }
            },
            "outputs": [
                {
                    "name": "stdout",
                    "output_type": "stream",
                    "text": [
                        "[[2 3]\n",
                        " [5 6]]\n"
                    ]
                }
            ],
            "source": [
                "print(matrix[0:2, 1:3])\n"
            ]
        },
        {
            "attachments": {},
            "cell_type": "markdown",
            "metadata": {},
            "source": [
                "Pokud jeden index vynecháme, vrátí numpy N-1 rozměrný řez - zde vrací řádek:"
            ]
        },
        {
            "cell_type": "code",
            "execution_count": 5,
            "metadata": {
                "jupyter": {
                    "outputs_hidden": false
                }
            },
            "outputs": [
                {
                    "data": {
                        "text/plain": [
                            "array([4, 5, 6])"
                        ]
                    },
                    "execution_count": 5,
                    "metadata": {},
                    "output_type": "execute_result"
                }
            ],
            "source": [
                "matrix[1]\n"
            ]
        },
        {
            "cell_type": "markdown",
            "metadata": {},
            "source": [
                "Toho samého docílíme pomocí `:`"
            ]
        },
        {
            "cell_type": "code",
            "execution_count": null,
            "metadata": {
                "jupyter": {
                    "outputs_hidden": false
                }
            },
            "outputs": [],
            "source": [
                "matrix[1, :]\n"
            ]
        },
        {
            "cell_type": "markdown",
            "metadata": {},
            "source": [
                "První sloupec:"
            ]
        },
        {
            "cell_type": "code",
            "execution_count": 35,
            "metadata": {
                "jupyter": {
                    "outputs_hidden": false
                }
            },
            "outputs": [
                {
                    "data": {
                        "text/plain": [
                            "array([2, 0])"
                        ]
                    },
                    "execution_count": 35,
                    "metadata": {},
                    "output_type": "execute_result"
                }
            ],
            "source": [
                "matrix[:, 1]\n"
            ]
        },
        {
            "cell_type": "code",
            "execution_count": null,
            "metadata": {},
            "outputs": [],
            "source": [
                "matrix[:]"
            ]
        },
        {
            "cell_type": "markdown",
            "metadata": {},
            "source": [
                "Můžeme také přiřazovat honoty do indexovaných polí."
            ]
        },
        {
            "cell_type": "code",
            "execution_count": null,
            "metadata": {
                "jupyter": {
                    "outputs_hidden": false
                }
            },
            "outputs": [],
            "source": [
                "matrix[0, 0] = -10\n",
                "print(matrix)\n"
            ]
        },
        {
            "attachments": {},
            "cell_type": "markdown",
            "metadata": {},
            "source": [
                "Funguje to i pro více prvků, pak máme dvě možnosti:\n",
                "- přiřadíme hodnotu, která se bude všude vyskytovat\n",
                "- přiřadíme pole stejných rozměrů jako je výřez"
            ]
        },
        {
            "cell_type": "code",
            "execution_count": 34,
            "metadata": {
                "jupyter": {
                    "outputs_hidden": false
                }
            },
            "outputs": [
                {
                    "name": "stdout",
                    "output_type": "stream",
                    "text": [
                        "[[1 2]\n",
                        " [0 0]]\n"
                    ]
                }
            ],
            "source": [
                "matrix[1, :] = 0\n",
                "print(matrix)\n"
            ]
        },
        {
            "cell_type": "code",
            "execution_count": null,
            "metadata": {},
            "outputs": [],
            "source": [
                "matrix[:, 2] = np.array([1, 2, 3])\n",
                "print(matrix)"
            ]
        },
        {
            "attachments": {},
            "cell_type": "markdown",
            "metadata": {},
            "source": [
                "### Další možnosti řezání\n",
                "Zatím jsme si ukázali řezání v syntaxi `a[od:do:step]`, kde jsme uvažovali každý z parametrů jako celé kladné číslo. Řezy však umožňují i využití záporných čísel. Například:\n",
                "- `a[-1]` je poslední prvek\n",
                "- `a[-2]` je předposlední prvek\n",
                "- `a[:-1]` je vše kromě posledního prvku\n",
                "Déle můžeme uvažovat také záporné kroky, např. `a[::-1]` je všechny prvky v opačném pořadí.\n",
                "**Toto funguje i pro Listy.**"
            ]
        },
        {
            "cell_type": "code",
            "execution_count": 6,
            "metadata": {},
            "outputs": [
                {
                    "name": "stdout",
                    "output_type": "stream",
                    "text": [
                        "9\n",
                        "[7 8 9]\n",
                        "[9 8 7 6 5 4 3 2 1]\n",
                        "[5 4 3 2 1]\n"
                    ]
                }
            ],
            "source": [
                "vector = np.arange(1, 10)\n",
                "print(vector[-1])\n",
                "print(vector[-3:])\n",
                "print(vector[::-1])\n",
                "print(vector[-5::-1])"
            ]
        },
        {
            "attachments": {},
            "cell_type": "markdown",
            "metadata": {},
            "source": [
                "### Indexace pomocí seznamu indexů a masek\n",
                "Pro řezy můžeme použít nejen čísla nebo Slice, ale také přímo pole s indexy prvků, které chceme vybrat."
            ]
        },
        {
            "cell_type": "code",
            "execution_count": null,
            "metadata": {
                "jupyter": {
                    "outputs_hidden": false
                }
            },
            "outputs": [],
            "source": [
                "vector = np.arange(1, 10)\n",
                "vyber = np.array([5, 2, 1, 8])\n",
                "print(vector)\n",
                "print(vector[vyber])\n"
            ]
        },
        {
            "attachments": {},
            "cell_type": "markdown",
            "metadata": {},
            "source": [
                "Tento list může obsahovat také záporné indexy, ty se pak počítají od konce pole. Indexy se samozřejmě mohou opakovat."
            ]
        },
        {
            "cell_type": "code",
            "execution_count": null,
            "metadata": {},
            "outputs": [],
            "source": [
                "vyber = np.array([-3, -2, -1, 6, 7, 8])\n",
                "print(vector)\n",
                "print(vector[vyber])"
            ]
        },
        {
            "attachments": {},
            "cell_type": "markdown",
            "metadata": {},
            "source": [
                "Pokud ale indexace obsahuje index mimo rozsah, dostaneme chybu."
            ]
        },
        {
            "cell_type": "code",
            "execution_count": null,
            "metadata": {},
            "outputs": [],
            "source": [
                "vyber = np.array([1, 2, 10])\n",
                "print(vector)\n",
                "print(vector[vyber])"
            ]
        },
        {
            "attachments": {},
            "cell_type": "markdown",
            "metadata": {},
            "source": [
                "Totéž funguje v případě indexace matice."
            ]
        },
        {
            "cell_type": "code",
            "execution_count": 6,
            "metadata": {
                "jupyter": {
                    "outputs_hidden": false
                }
            },
            "outputs": [
                {
                    "name": "stdout",
                    "output_type": "stream",
                    "text": [
                        "[[1 2 3]\n",
                        " [4 5 6]\n",
                        " [7 8 9]]\n",
                        "---\n",
                        "[2 6 7]\n"
                    ]
                }
            ],
            "source": [
                "matrix = np.array([[1, 2, 3], [4, 5, 6], [7, 8, 9]])\n",
                "vyber_x = np.array([0, 1, 2])\n",
                "vyber_y = np.array([1, 2, 0])\n",
                "print(matrix)\n",
                "print(\"---\")\n",
                "print(matrix[vyber_x, vyber_y])\n"
            ]
        },
        {
            "attachments": {},
            "cell_type": "markdown",
            "metadata": {},
            "source": [
                "Všimněte si, že výběrem nebyla matice, ale pouze vektor obsahující indexované prvky dle jejich x,y souřadnic.\n",
                "\n",
                "Tedy indexační vektory musí mít stejný počet prvků."
            ]
        },
        {
            "cell_type": "code",
            "execution_count": null,
            "metadata": {},
            "outputs": [],
            "source": [
                "vyber_x = np.array([0, 1, 2])\n",
                "vyber_y = np.array([1, 0])\n",
                "print(matrix[vyber_x, vyber_y])\n"
            ]
        },
        {
            "attachments": {},
            "cell_type": "markdown",
            "metadata": {},
            "source": [
                "#### Maskování\n",
                "Můžeme také použít **maskování**. Tedy indexovat pole pomocí pole hodnot True/False o stejném rozměru jako je:\n",
                "- původní pole\n",
                "- jedna z dimenzí původního pole \n",
                "\n",
                "Výsledkem je vektor obsahující pouze prvky (těmi v druhém případě ale mohou být i řádky nebo sloupce), které odpovídají hodnotě True v masce."
            ]
        },
        {
            "cell_type": "code",
            "execution_count": 36,
            "metadata": {
                "jupyter": {
                    "outputs_hidden": false
                }
            },
            "outputs": [
                {
                    "name": "stdout",
                    "output_type": "stream",
                    "text": [
                        "[[ True False  True]\n",
                        " [False  True False]\n",
                        " [ True False  True]]\n",
                        "[1 3 5 7 9]\n"
                    ]
                }
            ],
            "source": [
                "matrix = np.array([[1, 2, 3], [4, 5, 6], [7, 8, 9]])\n",
                "mask = np.array([[True, False, True], [False, True, False], [True, False, True]])\n",
                "print(mask)\n",
                "print(matrix[mask])\n"
            ]
        },
        {
            "cell_type": "code",
            "execution_count": 37,
            "metadata": {},
            "outputs": [
                {
                    "name": "stdout",
                    "output_type": "stream",
                    "text": [
                        "[[1 2 3]\n",
                        " [7 8 9]]\n",
                        "[[1 3]\n",
                        " [4 6]\n",
                        " [7 9]]\n"
                    ]
                }
            ],
            "source": [
                "mask = np.array([True, False, True])\n",
                "print(matrix[mask, :])\n",
                "print(matrix[:, mask])"
            ]
        },
        {
            "attachments": {},
            "cell_type": "markdown",
            "metadata": {},
            "source": [
                "# NumPy View a kopie\n",
                "Při indexování a řezání můžeme přiřadit výřez do nové proměnné. NumPy však \"standardní\" řezy reprezentuje jako tzv. **view** na původní pole. To znamená, že nová proměnná obsahující řez původního pole ukazuje na stejná data v paměti. A tedy pokud změníme data v nové proměnné, změní se i data v původním poli.\n"
            ]
        },
        {
            "cell_type": "code",
            "execution_count": 7,
            "metadata": {},
            "outputs": [
                {
                    "name": "stdout",
                    "output_type": "stream",
                    "text": [
                        "[[1 2 3]\n",
                        " [4 5 6]\n",
                        " [7 8 9]]\n",
                        "[[2 3]]\n",
                        "[[ 1 -1 -1]\n",
                        " [ 4  5  6]\n",
                        " [ 7  8  9]]\n",
                        "[[-1 -1]]\n"
                    ]
                }
            ],
            "source": [
                "A = np.array([[1, 2, 3], [4, 5, 6], [7, 8, 9]])\n",
                "B = A[:1,1:]\n",
                "print(A)\n",
                "print(B)\n",
                "B[:,:] = -1\n",
                "print(A)\n",
                "print(B)"
            ]
        },
        {
            "cell_type": "markdown",
            "metadata": {},
            "source": [
                "\n",
                "Toto může být mnohdy velice užitečné. Potlačit to můžeme vždy pomocí metody `copy`.\n",
                "\n",
                "**Né všechny metody výběru dat z matice však vrací view.**\n",
                "Řezání pomocí `:` typicky vrací view. Kdežto řezání pomocí seznamu indexů vrací kopii. To zda vrací view nebo kopii lze zjistit pomocí atributu `flags` a jeho atributu `OWNDATA`.\n",
                "\n",
                "To zda ndarray s flagem `OWNDATA : False` sdílí data s jiným ndarray objektem lze zjistit pomocí atributu `base`, který vrátí ndarray objekt, který je zdrojem dat."
            ]
        },
        {
            "cell_type": "code",
            "execution_count": null,
            "metadata": {},
            "outputs": [],
            "source": [
                "A = np.array([[1, 2, 3], [4, 5, 6], [7, 8, 9]])\n",
                "B = A[:1,1:]\n",
                "print(A.flags)\n",
                "print(B.flags)"
            ]
        },
        {
            "cell_type": "code",
            "execution_count": null,
            "metadata": {},
            "outputs": [],
            "source": [
                "print(id(A))\n",
                "print(id(B.base))\n",
                "print(A is B.base)"
            ]
        },
        {
            "attachments": {},
            "cell_type": "markdown",
            "metadata": {},
            "source": [
                "Pokud si nejsme jisti, zda použitá indexace vrací view nebo kopii, je dobré konzultovat dokumentaci NumPy viz [tady](https://docs.scipy.org/doc/numpy/reference/arrays.indexing.html), nebo si to ověřit na testovacím kódu pomocí `base` a `flags`."
            ]
        },
        {
            "cell_type": "code",
            "execution_count": null,
            "metadata": {},
            "outputs": [],
            "source": [
                "A = np.array([[1, 2, 3], [4, 5, 6], [7, 8, 9]])\n",
                "print(id(A))\n",
                "mask = np.array([True, False, True])\n",
                "# slicing\n",
                "B = A[:,1]\n",
                "print(\"Slicing: \", id(B.base))\n",
                "# masking\n",
                "B = A[mask, :]\n",
                "print(\"Masking: \", id(B.base))\n",
                "# fancy indexing\n",
                "B = A[:, [1]]\n",
                "print(\"Fancy indexing: \", id(B.base))\n",
                "# diag\n",
                "B = np.diag(A, k=-1)\n",
                "print(\"Diag: \", id(B.base))\n",
                "# triu/tril\n",
                "B = np.triu(A)\n",
                "print(\"Triu: \", id(B.base))"
            ]
        },
        {
            "attachments": {},
            "cell_type": "markdown",
            "metadata": {},
            "source": [
                "# Lineární algebra\n",
                "Numpy dokáže velice obratně a efektivně pracovat s vektory, maticemi a n-dimenzionálními poli obecně. Toho je potřeba využívat a kdekoli to je možné použít *vektorizovaný kód*, tj. co nejvíce formulovat úlohy pomocí vektorových a maticových operací, jako jsou např. násobení matic."
            ]
        },
        {
            "cell_type": "markdown",
            "metadata": {},
            "source": [
                "### Operace se skaláry\n",
                "Jak bychom asi očekávali, skalárem můžeme násobit, dělit, můžeme ho přičítat nebo odečítat."
            ]
        },
        {
            "cell_type": "code",
            "execution_count": 4,
            "metadata": {
                "jupyter": {
                    "outputs_hidden": false
                }
            },
            "outputs": [],
            "source": [
                "v1 = np.arange(0, 5)\n"
            ]
        },
        {
            "cell_type": "code",
            "execution_count": null,
            "metadata": {
                "jupyter": {
                    "outputs_hidden": false
                }
            },
            "outputs": [],
            "source": [
                "v1 * 2\n"
            ]
        },
        {
            "cell_type": "code",
            "execution_count": null,
            "metadata": {
                "jupyter": {
                    "outputs_hidden": false
                }
            },
            "outputs": [],
            "source": [
                "v1 + 2\n"
            ]
        },
        {
            "cell_type": "code",
            "execution_count": null,
            "metadata": {
                "jupyter": {
                    "outputs_hidden": false
                }
            },
            "outputs": [],
            "source": [
                "np.ones((3, 3)) / 4\n"
            ]
        },
        {
            "attachments": {},
            "cell_type": "markdown",
            "metadata": {},
            "source": [
                "## Maticové operace po prvcích\n",
                "Operace jako násobení, sčítání atd. jsou v numpy standardně *po prvcích*, není to tedy klasická maticová (vektorová) algebra."
            ]
        },
        {
            "cell_type": "code",
            "execution_count": 8,
            "metadata": {},
            "outputs": [
                {
                    "data": {
                        "text/plain": [
                            "array([[ 0,  1,  2,  3,  4],\n",
                            "       [10, 11, 12, 13, 14],\n",
                            "       [20, 21, 22, 23, 24],\n",
                            "       [30, 31, 32, 33, 34],\n",
                            "       [40, 41, 42, 43, 44]])"
                        ]
                    },
                    "execution_count": 8,
                    "metadata": {},
                    "output_type": "execute_result"
                }
            ],
            "source": [
                "m1 = np.array([[n + m * 10 for n in range(5)] for m in range(5)])\n",
                "m1\n"
            ]
        },
        {
            "cell_type": "code",
            "execution_count": 9,
            "metadata": {
                "jupyter": {
                    "outputs_hidden": false
                }
            },
            "outputs": [
                {
                    "data": {
                        "text/plain": [
                            "array([[   0,    1,    4,    9,   16],\n",
                            "       [ 100,  121,  144,  169,  196],\n",
                            "       [ 400,  441,  484,  529,  576],\n",
                            "       [ 900,  961, 1024, 1089, 1156],\n",
                            "       [1600, 1681, 1764, 1849, 1936]])"
                        ]
                    },
                    "execution_count": 9,
                    "metadata": {},
                    "output_type": "execute_result"
                }
            ],
            "source": [
                "m1 * m1\n"
            ]
        },
        {
            "cell_type": "code",
            "execution_count": 5,
            "metadata": {
                "jupyter": {
                    "outputs_hidden": false
                }
            },
            "outputs": [
                {
                    "data": {
                        "text/plain": [
                            "array([ 0,  1,  4,  9, 16])"
                        ]
                    },
                    "execution_count": 5,
                    "metadata": {},
                    "output_type": "execute_result"
                }
            ],
            "source": [
                "v1 * v1\n"
            ]
        },
        {
            "attachments": {},
            "cell_type": "markdown",
            "metadata": {},
            "source": [
                "## Broadcasting\n",
                "Termín `Broadcasting` popisuje, jak NumPy zachází s poli s různými tvary během aritmetických operací. S výhradou určitých omezení je menší pole „vysíláno“ přes větší pole, takže mají kompatibilní tvary. Broadcasting poskytuje prostředky pro vektorizaci operací pole tak, aby smyčkování probíhalo v C namísto Pythonu. Dělá to bez vytváření zbytečných kopií dat a obvykle vede k efektivní implementaci algoritmů.\n",
                "\n",
                "Podrobnější popis broadcastingu je v dokumentaci NumPy viz [tady](https://docs.scipy.org/doc/numpy/user/basics.broadcasting.html)."
            ]
        },
        {
            "cell_type": "code",
            "execution_count": null,
            "metadata": {
                "jupyter": {
                    "outputs_hidden": false
                }
            },
            "outputs": [],
            "source": [
                "v1.shape, m1.shape\n"
            ]
        },
        {
            "cell_type": "markdown",
            "metadata": {},
            "source": [
                "Výsledek bude mít rozměr `m1.shape`"
            ]
        },
        {
            "cell_type": "code",
            "execution_count": null,
            "metadata": {
                "jupyter": {
                    "outputs_hidden": false
                }
            },
            "outputs": [],
            "source": [
                "m1 * v1\n"
            ]
        },
        {
            "cell_type": "markdown",
            "metadata": {},
            "source": [
                "## Maticová algebra\n",
                "Klasickou maticovou algebru zajišťuje pro pole typu `ndarray` funkce `dot` nebo operátor `@` ([PEP-465](https://www.python.org/dev/peps/pep-0465/)):"
            ]
        },
        {
            "cell_type": "code",
            "execution_count": null,
            "metadata": {},
            "outputs": [],
            "source": [
                "v1 = np.arange(0, 5)\n",
                "m1 = np.array([[n + m * 10 for n in range(5)] for m in range(5)])\n",
                "print(v1)\n",
                "print(m1)\n"
            ]
        },
        {
            "cell_type": "code",
            "execution_count": null,
            "metadata": {
                "jupyter": {
                    "outputs_hidden": false
                }
            },
            "outputs": [],
            "source": [
                "# maticové násobení dvou matic\n",
                "np.dot(m1, m1)\n"
            ]
        },
        {
            "cell_type": "code",
            "execution_count": null,
            "metadata": {},
            "outputs": [],
            "source": [
                "m1 @ m1\n"
            ]
        },
        {
            "cell_type": "code",
            "execution_count": null,
            "metadata": {
                "jupyter": {
                    "outputs_hidden": false
                }
            },
            "outputs": [],
            "source": [
                "# maticové násobení vektoru a matice\n",
                "np.dot(m1, v1)\n"
            ]
        },
        {
            "cell_type": "code",
            "execution_count": null,
            "metadata": {
                "jupyter": {
                    "outputs_hidden": false
                }
            },
            "outputs": [],
            "source": [
                "# skalární součin\n",
                "v1 @ v1\n"
            ]
        },
        {
            "cell_type": "markdown",
            "metadata": {},
            "source": [
                "## Transformace\n",
                "Už jsme viděli `.T` pro transponování. Existuje také funkce a metoda `transpose`. Dále existuje třeba `conjugate` pro komplexní sdružení."
            ]
        },
        {
            "cell_type": "code",
            "execution_count": null,
            "metadata": {},
            "outputs": [],
            "source": [
                "A = np.array([[1, 2, 3], [4, 5, 6], [7, 8, 9]])\n",
                "print(A.T)\n",
                "print(A.transpose())\n",
                "print(np.transpose(A))"
            ]
        },
        {
            "cell_type": "code",
            "execution_count": null,
            "metadata": {},
            "outputs": [],
            "source": [
                "# transpozice je \"view\"\n",
                "print(id(A))\n",
                "B = A.T\n",
                "print(id(B.base))"
            ]
        },
        {
            "cell_type": "code",
            "execution_count": null,
            "metadata": {
                "jupyter": {
                    "outputs_hidden": false
                }
            },
            "outputs": [],
            "source": [
                "C = np.array([[1j, 2j], [3j, 4j]])\n",
                "C\n"
            ]
        },
        {
            "cell_type": "code",
            "execution_count": null,
            "metadata": {
                "jupyter": {
                    "outputs_hidden": false
                }
            },
            "outputs": [],
            "source": [
                "np.conjugate(C)      # nebo C.conjugate()\n"
            ]
        },
        {
            "cell_type": "code",
            "execution_count": null,
            "metadata": {
                "jupyter": {
                    "outputs_hidden": false
                }
            },
            "outputs": [],
            "source": [
                "# Hermitovské sdružení\n",
                "C.conjugate().T\n"
            ]
        },
        {
            "cell_type": "code",
            "execution_count": null,
            "metadata": {},
            "outputs": [],
            "source": [
                "# Hermitovské sdružení není! \"view\" kvůli conjugate()\n",
                "print(id(C))\n",
                "B = C.conjugate()\n",
                "print(id(B.base))"
            ]
        },
        {
            "cell_type": "markdown",
            "metadata": {},
            "source": [
                "Reálnou a imaginární část dostaneme pomocí `real` a `imag` nebo `.real` a `.imag` properties:"
            ]
        },
        {
            "cell_type": "code",
            "execution_count": null,
            "metadata": {
                "jupyter": {
                    "outputs_hidden": false
                }
            },
            "outputs": [],
            "source": [
                "np.real(C)\n"
            ]
        },
        {
            "cell_type": "code",
            "execution_count": null,
            "metadata": {
                "jupyter": {
                    "outputs_hidden": false
                }
            },
            "outputs": [],
            "source": [
                "C.imag\n"
            ]
        },
        {
            "cell_type": "markdown",
            "metadata": {},
            "source": [
                "Komplexní číslo rozložíme na absolutní hodnotu a úhel pomocí `abs` a `angle`."
            ]
        },
        {
            "cell_type": "code",
            "execution_count": null,
            "metadata": {
                "jupyter": {
                    "outputs_hidden": false
                }
            },
            "outputs": [],
            "source": [
                "print(np.angle(C))\n",
                "# výsledek je v radiánech a všechny hodnoty byly čistě komplexní\n",
                "print(np.angle(C+1))\n"
            ]
        },
        {
            "cell_type": "code",
            "execution_count": null,
            "metadata": {
                "jupyter": {
                    "outputs_hidden": false
                }
            },
            "outputs": [],
            "source": [
                "np.abs(C + 1)\n"
            ]
        },
        {
            "cell_type": "markdown",
            "metadata": {},
            "source": [
                "## Základní funkce lineární algebry"
            ]
        },
        {
            "cell_type": "markdown",
            "metadata": {},
            "source": [
                "V Numpy existuje modul `linalg`. Pokročilejší lineární algebru je ale třeba hledat jinde, např. ve SciPy. \n",
                "\n",
                "Invertovat matici můžeme pomocí `linalg.inv`."
            ]
        },
        {
            "cell_type": "code",
            "execution_count": null,
            "metadata": {},
            "outputs": [],
            "source": [
                "m2 = np.array([[1., 1.5], [-1, 2]])\n",
                "m2\n"
            ]
        },
        {
            "cell_type": "code",
            "execution_count": null,
            "metadata": {},
            "outputs": [],
            "source": [
                "np.linalg.inv(m2)\n"
            ]
        },
        {
            "cell_type": "code",
            "execution_count": null,
            "metadata": {
                "jupyter": {
                    "outputs_hidden": false
                }
            },
            "outputs": [],
            "source": [
                "# toto by měla být jednotková matice\n",
                "np.linalg.inv(m2) @ m2\n"
            ]
        },
        {
            "cell_type": "markdown",
            "metadata": {},
            "source": [
                "`linalg.det` vypočítá determinant."
            ]
        },
        {
            "cell_type": "code",
            "execution_count": null,
            "metadata": {
                "jupyter": {
                    "outputs_hidden": false
                }
            },
            "outputs": [],
            "source": [
                "np.linalg.det(m2)\n"
            ]
        },
        {
            "attachments": {},
            "cell_type": "markdown",
            "metadata": {},
            "source": [
                "## Zpracování dat\n",
                "\n",
                "Numpy obsahuje mnoho funkcí pro zpracování dat. Některé z nich jsou:\n",
                "- `np.sort` - seřadí pole\n",
                "- `np.unique` - vrátí unikátní prvky pole\n",
                "- `np.mean` - vypočítá průměr\n",
                "- `np.std` - vypočítá směrodatnou odchylku\n",
                "- `np.sum` - vypočítá součet\n",
                "- `np.cumsum` - vypočítá kumulativní součet\n",
                "- `np.prod` - vypočítá součin\n",
                "- `np.cumprod` - vypočítá kumulativní součin\n",
                "- `np.diff` - vypočítá rozdíly mezi sousedními prvky\n",
                "- ... a mnoho dalších viz [matematické funkce](https://docs.scipy.org/doc/numpy/reference/routines.math.html) a [statistické funcke](https://docs.scipy.org/doc/numpy/reference/routines.statistics.html) "
            ]
        },
        {
            "cell_type": "code",
            "execution_count": null,
            "metadata": {
                "jupyter": {
                    "outputs_hidden": false
                }
            },
            "outputs": [],
            "source": [
                "data = np.random.randint(0, 20, (15))\n",
                "print(data)\n"
            ]
        },
        {
            "attachments": {},
            "cell_type": "markdown",
            "metadata": {},
            "source": [
                "Setřízené a unikátní prvky pole získáme pomocí `np.sort` a `np.unique`."
            ]
        },
        {
            "cell_type": "code",
            "execution_count": null,
            "metadata": {},
            "outputs": [],
            "source": [
                "print(np.sort(data))\n",
                "print(np.unique(data))\n",
                "# pokud bychom chtěli indexy setříděných prvků\n",
                "print(np.argsort(data))\n"
            ]
        },
        {
            "cell_type": "markdown",
            "metadata": {},
            "source": [
                "#### mean (aritmetický průměr)"
            ]
        },
        {
            "cell_type": "code",
            "execution_count": null,
            "metadata": {
                "jupyter": {
                    "outputs_hidden": false
                }
            },
            "outputs": [],
            "source": [
                "print(np.mean(data))"
            ]
        },
        {
            "attachments": {},
            "cell_type": "markdown",
            "metadata": {},
            "source": [
                "#### směrodatná odchylka a rozptyl"
            ]
        },
        {
            "cell_type": "code",
            "execution_count": null,
            "metadata": {
                "jupyter": {
                    "outputs_hidden": false
                }
            },
            "outputs": [],
            "source": [
                "print(np.std(data))\n",
                "print(np.var(data))\n"
            ]
        },
        {
            "cell_type": "markdown",
            "metadata": {},
            "source": [
                "#### min a max"
            ]
        },
        {
            "cell_type": "code",
            "execution_count": null,
            "metadata": {
                "jupyter": {
                    "outputs_hidden": false
                }
            },
            "outputs": [],
            "source": [
                "print(data.min())\n",
                "print(data.max())\n"
            ]
        },
        {
            "cell_type": "markdown",
            "metadata": {},
            "source": [
                "#### sum, prod, trace"
            ]
        },
        {
            "cell_type": "code",
            "execution_count": null,
            "metadata": {
                "jupyter": {
                    "outputs_hidden": false
                }
            },
            "outputs": [],
            "source": [
                "print(np.sum(data))\n",
                "print(np.prod(data))\n"
            ]
        },
        {
            "cell_type": "code",
            "execution_count": null,
            "metadata": {
                "jupyter": {
                    "outputs_hidden": false
                }
            },
            "outputs": [],
            "source": [
                "# lze dělat i řádkové a sloupcové součty\n",
                "A = np.array([[1, 2, 3], [4, 5, 6], [7, 8, 9]])\n",
                "print(A)\n",
                "print(np.sum(A, axis=0))\n",
                "print(np.sum(A, axis=1))\n"
            ]
        },
        {
            "cell_type": "code",
            "execution_count": null,
            "metadata": {},
            "outputs": [],
            "source": [
                "# stopa matice = součet prvků na diagonále\n",
                "print(np.trace(A))"
            ]
        },
        {
            "cell_type": "code",
            "execution_count": null,
            "metadata": {},
            "outputs": [],
            "source": [
                "print(data)"
            ]
        },
        {
            "cell_type": "code",
            "execution_count": null,
            "metadata": {
                "jupyter": {
                    "outputs_hidden": false
                }
            },
            "outputs": [],
            "source": [
                "# kumulativní součet\n",
                "np.cumsum(data)\n"
            ]
        },
        {
            "cell_type": "code",
            "execution_count": null,
            "metadata": {
                "jupyter": {
                    "outputs_hidden": false
                }
            },
            "outputs": [],
            "source": [
                "# kumulativní násobení\n",
                "np.cumprod(data)\n"
            ]
        },
        {
            "attachments": {},
            "cell_type": "markdown",
            "metadata": {},
            "source": [
                "# Změny rozměrů polí\n",
                "\n",
                "Rozměr Numpy polí může být měněn bez kopírování samotných dat, což výrazně tyto operace zrychluje.\n",
                "\n",
                "Tedy je možné udělat novou proměnnou typu ndarray jakožto \"view\" na původní data, ale s jiným rozměrem."
            ]
        },
        {
            "cell_type": "code",
            "execution_count": null,
            "metadata": {
                "jupyter": {
                    "outputs_hidden": false
                }
            },
            "outputs": [],
            "source": [
                "m1 = np.array([[1, 2, 3], [4, 5, 6], [7, 8, 9]])\n",
                "print(m1)"
            ]
        },
        {
            "cell_type": "code",
            "execution_count": null,
            "metadata": {
                "jupyter": {
                    "outputs_hidden": false
                }
            },
            "outputs": [],
            "source": [
                "n, m = m1.shape\n",
                "print(m,n)"
            ]
        },
        {
            "attachments": {},
            "cell_type": "markdown",
            "metadata": {},
            "source": [
                "Např. takto můžeme vytvořit jednorozměrné pole (řádkový vektor):"
            ]
        },
        {
            "cell_type": "code",
            "execution_count": null,
            "metadata": {
                "jupyter": {
                    "outputs_hidden": false
                }
            },
            "outputs": [],
            "source": [
                "m2 = m1.reshape((1, n * m))\n",
                "print(m2)\n",
                "print(m2.shape)"
            ]
        },
        {
            "cell_type": "markdown",
            "metadata": {},
            "source": [
                "Nebo použít -1 pro automatické dopočítání"
            ]
        },
        {
            "cell_type": "code",
            "execution_count": null,
            "metadata": {},
            "outputs": [],
            "source": [
                "m1.reshape((1, -1))\n"
            ]
        },
        {
            "attachments": {},
            "cell_type": "markdown",
            "metadata": {},
            "source": [
                "Kdybychom chtěli skutečný 1D vector, můžeme použít:\n",
                "- reshape\n",
                "- ravel\n",
                "- flatten, pozor jako jediná vrací kopii místo view"
            ]
        },
        {
            "cell_type": "code",
            "execution_count": null,
            "metadata": {},
            "outputs": [],
            "source": [
                "m2 = m1.reshape((n * m))\n",
                "print(m2)\n",
                "print(m2.shape)\n",
                "print(m2.base is m1)\n",
                "# nebo\n",
                "m2 = m1.reshape((-1))\n",
                "print(m2)\n",
                "print(m2.shape)\n",
                "print(m2.base is m1)\n",
                "# nebo\n",
                "m2 = m1.flatten() \n",
                "print(m2)\n",
                "print(m2.shape)\n",
                "print(m2.base is m1)\n",
                "# nebo \n",
                "m2 = m1.ravel()\n",
                "print(m2)\n",
                "print(m2.shape)\n",
                "print(m2.base is m1)\n"
            ]
        },
        {
            "attachments": {},
            "cell_type": "markdown",
            "metadata": {},
            "source": [
                "### Přidávání dimenzí: `newaxis`\n",
                "\n",
                "Pomocí `newaxis` můžeme jednoduše pomocí řezů přidávat dimenze. Např. převod 1d vektoru na sloupcovou nebo řádkovou matici.\n",
                "\n",
                "`newaxis` je pouze konstanta o hodnotě `None`, jedinným účelem je lepší čitelnost kódu.\n",
                "\n",
                "Stále se bude jednat o view na původní data."
            ]
        },
        {
            "cell_type": "code",
            "execution_count": 10,
            "metadata": {
                "jupyter": {
                    "outputs_hidden": false
                }
            },
            "outputs": [
                {
                    "data": {
                        "text/plain": [
                            "(3,)"
                        ]
                    },
                    "execution_count": 10,
                    "metadata": {},
                    "output_type": "execute_result"
                }
            ],
            "source": [
                "v = np.array([1, 2, 3])\n",
                "v.shape\n"
            ]
        },
        {
            "cell_type": "code",
            "execution_count": 11,
            "metadata": {
                "jupyter": {
                    "outputs_hidden": false
                }
            },
            "outputs": [
                {
                    "data": {
                        "text/plain": [
                            "array([[1],\n",
                            "       [2],\n",
                            "       [3]])"
                        ]
                    },
                    "execution_count": 11,
                    "metadata": {},
                    "output_type": "execute_result"
                }
            ],
            "source": [
                "# vytvoříme sloupec\n",
                "vc = v[:, np.newaxis]\n",
                "vc\n"
            ]
        },
        {
            "cell_type": "code",
            "execution_count": null,
            "metadata": {},
            "outputs": [],
            "source": [
                "vc = v[:, None]\n",
                "print(vc)\n",
                "print(vc.base is v)\n"
            ]
        },
        {
            "cell_type": "code",
            "execution_count": null,
            "metadata": {
                "jupyter": {
                    "outputs_hidden": false
                }
            },
            "outputs": [],
            "source": [
                "vc.shape\n"
            ]
        },
        {
            "cell_type": "markdown",
            "metadata": {},
            "source": [
                "## Iterace\n",
                "\n",
                "Obecně se iteraci vyhýbáme a přednost dáváme vektorovým operacím (viz níže). Někdy je ale iterace nevyhnutelná."
            ]
        },
        {
            "cell_type": "code",
            "execution_count": null,
            "metadata": {
                "jupyter": {
                    "outputs_hidden": false
                }
            },
            "outputs": [],
            "source": [
                "v = np.array([1, 2, 3, 4])\n",
                "\n",
                "for element in v:\n",
                "    print(element)\n"
            ]
        },
        {
            "cell_type": "markdown",
            "metadata": {},
            "source": [
                "Iteruje se přes první index (po řádcích)."
            ]
        },
        {
            "cell_type": "code",
            "execution_count": null,
            "metadata": {
                "jupyter": {
                    "outputs_hidden": false
                }
            },
            "outputs": [],
            "source": [
                "M = np.array([[1, 2], [3, 4]])\n",
                "\n",
                "for row in M:\n",
                "    print(\"row: {}\".format(row))\n"
            ]
        },
        {
            "attachments": {},
            "cell_type": "markdown",
            "metadata": {},
            "source": [
                "# Vektorové funkce\n",
                "\n",
                "Jak jsme již říkali, vektorové (vektorizované) funkce jsou obecně daleko rychlejší než iterace. Numpy nám naštěstí cestu od skalární po vektorovou funkci usnadňuje."
            ]
        },
        {
            "cell_type": "code",
            "execution_count": null,
            "metadata": {
                "jupyter": {
                    "outputs_hidden": false
                }
            },
            "outputs": [],
            "source": [
                "def Theta(x):\n",
                "    \"\"\"\n",
                "    Scalar implemenation of the Heaviside step function.\n",
                "    \"\"\"\n",
                "    if x >= 0:\n",
                "        return 1\n",
                "    else:\n",
                "        return 0\n"
            ]
        },
        {
            "cell_type": "code",
            "execution_count": null,
            "metadata": {
                "jupyter": {
                    "outputs_hidden": false
                }
            },
            "outputs": [],
            "source": [
                "# toto bychom chtěli, ale asi to nebude fungovat\n",
                "Theta(np.array([-3, -2, -1, 0, 1, 2, 3]))\n"
            ]
        },
        {
            "cell_type": "markdown",
            "metadata": {},
            "source": [
                "Pro vektorizaci naší funkce nám Numpy nabízí `vectorize`."
            ]
        },
        {
            "cell_type": "code",
            "execution_count": null,
            "metadata": {
                "jupyter": {
                    "outputs_hidden": false
                }
            },
            "outputs": [],
            "source": [
                "Theta_vec = np.vectorize(Theta)\n"
            ]
        },
        {
            "cell_type": "code",
            "execution_count": null,
            "metadata": {
                "jupyter": {
                    "outputs_hidden": false
                }
            },
            "outputs": [],
            "source": [
                "Theta_vec(np.array([-3, -2, -1, 0, 1, 2, 3]))\n"
            ]
        },
        {
            "cell_type": "markdown",
            "metadata": {},
            "source": [
                "To bylo celkem snadné ... Můžeme také (a pokud to jde tak bychom měli) přepsat naši funkci tak, aby fungovala jak pro skaláry tak pro pole."
            ]
        },
        {
            "cell_type": "code",
            "execution_count": null,
            "metadata": {
                "jupyter": {
                    "outputs_hidden": false
                }
            },
            "outputs": [],
            "source": [
                "def Theta_numpy(x):\n",
                "    \"\"\"\n",
                "    Vector-aware implemenation of the Heaviside step function.\n",
                "    \"\"\"\n",
                "    return 1 * (x >= 0)\n"
            ]
        },
        {
            "cell_type": "code",
            "execution_count": null,
            "metadata": {
                "jupyter": {
                    "outputs_hidden": false
                }
            },
            "outputs": [],
            "source": [
                "Theta_numpy(np.array([-3, -2, -1, 0, 1, 2, 3]))\n"
            ]
        },
        {
            "cell_type": "code",
            "execution_count": null,
            "metadata": {
                "jupyter": {
                    "outputs_hidden": false
                }
            },
            "outputs": [],
            "source": [
                "# funguje i pro skalár\n",
                "Theta_numpy(-1.2), Theta_numpy(2.6)\n"
            ]
        },
        {
            "cell_type": "markdown",
            "metadata": {},
            "source": [
                "Pojďme zkusit porovnat rychlost vektorizovaných funkcí. Tipnete si jaká bude rychlejší, případně jak moc rychlejší?"
            ]
        },
        {
            "cell_type": "code",
            "execution_count": null,
            "metadata": {},
            "outputs": [],
            "source": [
                "randvec = np.random.random_sample((10000)) * 2000 - 1000\n"
            ]
        },
        {
            "cell_type": "code",
            "execution_count": null,
            "metadata": {},
            "outputs": [],
            "source": [
                "%timeit Theta_vec(randvec)\n"
            ]
        },
        {
            "cell_type": "code",
            "execution_count": null,
            "metadata": {},
            "outputs": [],
            "source": [
                "%timeit Theta_numpy(randvec)\n"
            ]
        },
        {
            "attachments": {},
            "cell_type": "markdown",
            "metadata": {},
            "source": [
                "# Používání polí v podmínkách\n",
                "Pokud chceme testovat po prvcích, v podmínkách pak použijeme metody `all` nebo `any`."
            ]
        },
        {
            "cell_type": "code",
            "execution_count": null,
            "metadata": {
                "jupyter": {
                    "outputs_hidden": false
                }
            },
            "outputs": [],
            "source": [
                "M = np.array([[1, 2, 3], [4, 5, 6], [7, 8, 9]])\n"
            ]
        },
        {
            "cell_type": "code",
            "execution_count": null,
            "metadata": {
                "jupyter": {
                    "outputs_hidden": false
                }
            },
            "outputs": [],
            "source": [
                "# výsledkem M > 5 je pole boolovských hodnot\n",
                "M > 5\n"
            ]
        },
        {
            "cell_type": "code",
            "execution_count": null,
            "metadata": {
                "jupyter": {
                    "outputs_hidden": false
                }
            },
            "outputs": [],
            "source": [
                "if (M > 5).any():\n",
                "    print(\"M obsahuje alespoň jeden prvek větší než 5\")\n",
                "else:\n",
                "    print(\"M neobsahuje žádný prvek větší než 5\")\n"
            ]
        },
        {
            "cell_type": "code",
            "execution_count": null,
            "metadata": {
                "jupyter": {
                    "outputs_hidden": false
                }
            },
            "outputs": [],
            "source": [
                "if (M > 5).all():\n",
                "    print(\"všechny prvky v M jsou větší než 5\")\n",
                "else:\n",
                "    print(\"M obsahuje alespoň jeden prvek menší rovno 5\")\n"
            ]
        },
        {
            "attachments": {},
            "cell_type": "markdown",
            "metadata": {},
            "source": [
                "# Změna typů\n",
                "Numpy pole jsou *staticky typovaná*. Pro změnu typu můžeme použít metodu `astype` (případně `asarray`)."
            ]
        },
        {
            "cell_type": "code",
            "execution_count": null,
            "metadata": {
                "jupyter": {
                    "outputs_hidden": false
                }
            },
            "outputs": [],
            "source": [
                "M = np.array([[1, 2, 3], [4, 5, 6], [7, 8, 9]])\n",
                "M.dtype\n"
            ]
        },
        {
            "cell_type": "code",
            "execution_count": null,
            "metadata": {
                "jupyter": {
                    "outputs_hidden": false
                }
            },
            "outputs": [],
            "source": [
                "M2 = M.astype(float)\n",
                "M2\n"
            ]
        },
        {
            "cell_type": "code",
            "execution_count": null,
            "metadata": {},
            "outputs": [],
            "source": [
                "# přetypování udělá kopii\n",
                "print(M2.base is M)"
            ]
        },
        {
            "cell_type": "code",
            "execution_count": null,
            "metadata": {},
            "outputs": [],
            "source": [
                "# pokudd bychom chtěli \"view\", tedy vyhodnotit data jako float\n",
                "# použijeme metodu view, ale pozor 1 jakožto int není 1.0 jakožto float\n",
                "M2 = M.view(float)\n",
                "print(M2)\n",
                "print(M2.base is M)"
            ]
        },
        {
            "cell_type": "code",
            "execution_count": null,
            "metadata": {
                "jupyter": {
                    "outputs_hidden": false
                }
            },
            "outputs": [],
            "source": [
                "M3 = M.astype(bool)\n",
                "M3\n"
            ]
        },
        {
            "cell_type": "markdown",
            "metadata": {},
            "source": [
                "## Další čtení"
            ]
        },
        {
            "cell_type": "markdown",
            "metadata": {},
            "source": [
                "* https://numpy.org/\n",
                "* https://jakevdp.github.io/PythonDataScienceHandbook/02.00-introduction-to-numpy.html\n",
                "* http://www.labri.fr/perso/nrougier/teaching/numpy.100/index.html"
            ]
        },
        {
            "cell_type": "code",
            "execution_count": null,
            "metadata": {},
            "outputs": [],
            "source": []
        }
    ],
    "metadata": {
        "kernelspec": {
            "display_name": "Python 3",
            "language": "python",
            "name": "python3"
        },
        "language_info": {
            "codemirror_mode": {
                "name": "ipython",
                "version": 3
            },
            "file_extension": ".py",
            "mimetype": "text/x-python",
            "name": "python",
            "nbconvert_exporter": "python",
            "pygments_lexer": "ipython3",
            "version": "3.11.2"
        }
    },
    "nbformat": 4,
    "nbformat_minor": 4
}
